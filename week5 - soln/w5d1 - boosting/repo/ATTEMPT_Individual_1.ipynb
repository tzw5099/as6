{
 "cells": [
  {
   "cell_type": "code",
   "execution_count": 1,
   "metadata": {
    "ExecuteTime": {
     "end_time": "2018-04-09T15:41:44.174941Z",
     "start_time": "2018-04-09T15:41:42.228303Z"
    },
    "code_folding": [
     0
    ],
    "collapsed": true
   },
   "outputs": [
    {
     "name": "stderr",
     "output_type": "stream",
     "text": [
      "/Users/tomwong/anaconda3/lib/python3.6/site-packages/statsmodels/compat/pandas.py:56: FutureWarning: The pandas.core.datetools module is deprecated and will be removed in a future version. Please use the pandas.tseries module instead.\n",
      "  from pandas.core import datetools\n"
     ]
    }
   ],
   "source": [
    "# COLLAPSE CELL\n",
    "# AMsearch np.v*\n",
    "#x = data['mass']\n",
    "#x?\n",
    "\n",
    "# from jupyterthemes import jtplot\n",
    "# jtplot.style(theme='solarized')\n",
    "# from jupyterlab_table import JSONTable\n",
    "# JSONTable(df)\n",
    "\n",
    "# from IPython.display import HTML, display\n",
    "\n",
    "# from notebook.services.config import ConfigManager\n",
    "# cm = ConfigManager().update('notebook', {'limit_output': 1000})\n",
    "\n",
    "import better_exceptions\n",
    "better_exceptions.MAX_LENGTH = None\n",
    "\n",
    "from sklearn.linear_model import LinearRegression, Ridge, Lasso\n",
    "from sklearn.model_selection import train_test_split, KFold, cross_val_score\n",
    "from sklearn.metrics import mean_squared_error\n",
    "\n",
    "from pprint import pprint\n",
    "import math\n",
    "import statsmodels.stats as sms\n",
    "import statsmodels.api as sm\n",
    "import statsmodels.regression as smr\n",
    "import scipy.stats as stats\n",
    "import pandas as pd\n",
    "import numpy as np\n",
    "import matplotlib.pyplot as plt\n",
    "import seaborn as sns\n",
    "sns.set(color_codes=True)\n",
    "\n",
    "# 04atplotlib inline\n",
    "# %load_ext heat\n",
    "\n",
    "plt.ion()\n",
    "# plt.ioff()\n",
    "\n",
    "# %heat\n",
    "\n",
    "import os \n",
    "# dir_path = os.path.dirname(os.path.realpath(__file__))\n",
    "cwd = os.getcwd()\n",
    "\n",
    "# fig, ax = plt.subplots()\n",
    "# ax.plot(x, y)"
   ]
  },
  {
   "cell_type": "code",
   "execution_count": 4,
   "metadata": {
    "ExecuteTime": {
     "end_time": "2018-04-09T15:43:27.991472Z",
     "start_time": "2018-04-09T15:43:27.936188Z"
    },
    "collapsed": true
   },
   "outputs": [],
   "source": [
    "from sklearn.tree import DecisionTreeRegressor\n",
    "from sklearn.ensemble import RandomForestRegressor\n",
    "from sklearn.ensemble import GradientBoostingRegressor\n",
    "from sklearn.ensemble import AdaBoostRegressor\n",
    "from sklearn.datasets import load_boston\n",
    "from sklearn.model_selection import train_test_split, cross_val_score\n",
    "from sklearn.model_selection import GridSearchCV\n",
    "from sklearn.metrics import mean_squared_error, r2_score"
   ]
  },
  {
   "cell_type": "code",
   "execution_count": 47,
   "metadata": {
    "ExecuteTime": {
     "end_time": "2018-04-09T17:36:27.950618Z",
     "start_time": "2018-04-09T17:36:27.935065Z"
    },
    "collapsed": true
   },
   "outputs": [],
   "source": [
    "boston = load_boston()\n",
    "# House Prices\n",
    "y = boston.target\n",
    "# The other 13 features\n",
    "x = boston.data"
   ]
  },
  {
   "cell_type": "markdown",
   "metadata": {},
   "source": [
    "Do a train_test_split where train : test is 80 : 20. Set\n",
    "random_state=1 so the exact same split can be replicated later.\n",
    "All subsequent model selection will be carried out with the train set."
   ]
  },
  {
   "cell_type": "code",
   "execution_count": 102,
   "metadata": {
    "ExecuteTime": {
     "end_time": "2018-04-10T01:38:38.496706Z",
     "start_time": "2018-04-10T01:38:38.488209Z"
    }
   },
   "outputs": [
    {
     "data": {
      "text/plain": [
       "((404, 13), (102, 13), (404,), (102,))"
      ]
     },
     "execution_count": 102,
     "metadata": {},
     "output_type": "execute_result"
    }
   ],
   "source": [
    "X_train, X_test, y_train, y_test = train_test_split(x, y, test_size = .2, random_state = 1)\n",
    "X_train.shape, X_test.shape, y_train.shape, y_test.shape"
   ]
  },
  {
   "cell_type": "markdown",
   "metadata": {},
   "source": [
    "We are interested in comparing 3 classes of ML algorithms here:\n",
    "\n",
    "- RandomForestRegressor\n",
    "- AdaBoostRegressor\n",
    "- GradientBoostingRegressor\n",
    "Boosted decision trees (AdaBoost, GradientBoosting & others)\n",
    "have been shown empirically to outperform RandomForest on average\n",
    "(Table 4 - R. Caruana et. al.) in terms\n",
    "of predictive power. The runtime for boosting algorithms, as you will\n",
    "experience, is also competitive with random forest.\n",
    "\n",
    "As a starting point, below are instantiations of the 3 classes of\n",
    "algorithms. I have given you a set of hyperparameters for each\n",
    "class. Do not worry about tuning the parameters for now, we will do a\n",
    "GridSearch at the end of the exercise."
   ]
  },
  {
   "cell_type": "code",
   "execution_count": 49,
   "metadata": {
    "ExecuteTime": {
     "end_time": "2018-04-09T17:36:32.342026Z",
     "start_time": "2018-04-09T17:36:32.334787Z"
    },
    "collapsed": true
   },
   "outputs": [],
   "source": [
    "rf = RandomForestRegressor(n_estimators=100,\n",
    "                            n_jobs=-1,\n",
    "                            random_state=1)\n",
    "\n",
    "gdbr = GradientBoostingRegressor(learning_rate=0.1,\n",
    "                                  loss='ls',\n",
    "                                  n_estimators=100,\n",
    "                                  random_state=1)\n",
    "\n",
    "abr = AdaBoostRegressor(DecisionTreeRegressor(),\n",
    "                         learning_rate=0.1,\n",
    "                         loss='linear',\n",
    "                         n_estimators=100,\n",
    "                         random_state=1)"
   ]
  },
  {
   "cell_type": "markdown",
   "metadata": {},
   "source": [
    "\n",
    "4. Using `cross_val_score` in `sklearn`, define a function that \n",
    "   calculates the cross-validated train MSE and R2 for `AdaBoostRegressor`,\n",
    "   `GradientBoostingRegressor`, `RandomForestRegressor`.\n",
    "\n",
    "   **Your output should be similar to this (Do not worry if the numbers do\n",
    "   not match up exactly):**\n",
    "\n",
    "   ```\n",
    "   RandomForestRegressor     Train CV | MSE: 9.865 | R2: 0.867\n",
    "   GradientBoostingRegressor Train CV | MSE: 8.533 | R2: 0.885\n",
    "   AdaBoostRegressor         Train CV | MSE: 9.663 | R2: 0.870\n",
    "   ```\n",
    "\n",
    "   Which of the models cross validates the best? Why is it inappropriate\n",
    "   to make a judgement on the performance of the models\n",
    "   based only on the evidence we have thus far?\n"
   ]
  },
  {
   "cell_type": "code",
   "execution_count": 106,
   "metadata": {
    "ExecuteTime": {
     "end_time": "2018-04-10T01:39:48.970228Z",
     "start_time": "2018-04-10T01:39:47.686818Z"
    }
   },
   "outputs": [
    {
     "name": "stderr",
     "output_type": "stream",
     "text": [
      "/Users/tomwong/anaconda3/lib/python3.6/site-packages/sklearn/metrics/scorer.py:100: DeprecationWarning: Scoring method mean_squared_error was renamed to neg_mean_squared_error in version 0.18 and will be removed in 0.20.\n",
      "  sample_weight=sample_weight)\n",
      "/Users/tomwong/anaconda3/lib/python3.6/site-packages/sklearn/metrics/scorer.py:100: DeprecationWarning: Scoring method mean_squared_error was renamed to neg_mean_squared_error in version 0.18 and will be removed in 0.20.\n",
      "  sample_weight=sample_weight)\n",
      "/Users/tomwong/anaconda3/lib/python3.6/site-packages/sklearn/metrics/scorer.py:100: DeprecationWarning: Scoring method mean_squared_error was renamed to neg_mean_squared_error in version 0.18 and will be removed in 0.20.\n",
      "  sample_weight=sample_weight)\n"
     ]
    },
    {
     "data": {
      "text/plain": [
       "(-10.320121093569186, 0.8691052879724385)"
      ]
     },
     "execution_count": 106,
     "metadata": {},
     "output_type": "execute_result"
    }
   ],
   "source": [
    "# rf\n",
    "# gdbr\n",
    "# abr\n",
    "\n",
    "k = 10\n",
    "def cross_val(estimator, X_train, X_test, y_train, y_test, nfolds):\n",
    "#     rf_fit = rf.fit(X_train,y_train)\n",
    "#     gdbr_fit = gdbr.fit(X_train,y_train)\n",
    "#     abr_fit = abr.fit(X_train,y_train)\n",
    "\n",
    "    rf_y_hat_train_predicted = rf.predict(X_train)\n",
    "\n",
    "    rf_score_mse = cross_val_score(rf, X_train, y_train, scoring='mean_squared_error', n_jobs=-1).mean()\n",
    "\n",
    "    # rf_score_mse = cross_val_score(rf, x,y, scoring='mean_squared_error').mean()\n",
    "    rf_score_r2 = cross_val_score(rf, X_train, y_train, scoring='r2', n_jobs=-1).mean()\n",
    "\n",
    "#     rf_score_mse\n",
    "#     rf_score_r2\n",
    "    return rf_score_mse, rf_score_r2\n",
    "\n",
    "cross_val(rf, X_train, X_test, y_train, y_test, k)\n",
    "\n"
   ]
  },
  {
   "cell_type": "markdown",
   "metadata": {},
   "source": [
    "\n",
    "5. Define a new instance of `GradientBoostingRegressor` with the exact same\n",
    "   hyperparameters as above, except change the `learning_rate` to `1`\n",
    "   (instead of `0.1`). Calculate the cross-validated train MSE.\n",
    "    What do you notice?\n"
   ]
  },
  {
   "cell_type": "code",
   "execution_count": null,
   "metadata": {
    "collapsed": true
   },
   "outputs": [],
   "source": []
  },
  {
   "cell_type": "markdown",
   "metadata": {},
   "source": [
    "6) We're going to make a plot to help us understand the impact of the learning rate\n",
    "   and the improvements in error after each iteration of the boosting.\n",
    "   \n",
    "   [`staged_predict`](http://scikit-learn.org/stable/modules/generated/sklearn.ensemble.GradientBoostingRegressor.html#sklearn.ensemble.GradientBoostingRegressor.staged_predict) is a method in both\n",
    "   `GradientBoostingRegressor` and `AdaBoostRegressor`. It allows us to get\n",
    "   predictions from the estimator after each iteration of the boosting.\n",
    "   \n",
    "   Using\n",
    "   `stage_predict`, define a function `stage_score_plot` that calculates the test and train\n",
    "   MSE from each estimator. Do the calculations for `GradientBoostingRegressor`\n",
    "   with `learning_rate=1` and `learning_rate=0.1`\n",
    "   \n",
    "   And get a result which looks like this:\n",
    "\n",
    "   ![stage_score_plot](images/stage_score_plot.png)\n",
    "   \n",
    "   In order to get the labels for the plot, you can use `model.__class__.__name__` to get the model name and `model.learning_rate` to get the learning rate.\n",
    "\n",
    "\n",
    "7) Use your `stage_score_plot` function to make a plot that shows the error\n",
    "   for gradient boosting with a learning rate of 0.1 and 1.\n",
    "\n",
    "   Since you are comparing two models and we're showing both the training and\n",
    "   test error, you should have 4 lines on your graph.\n"
   ]
  },
  {
   "cell_type": "code",
   "execution_count": 41,
   "metadata": {
    "ExecuteTime": {
     "end_time": "2018-04-09T17:26:27.634411Z",
     "start_time": "2018-04-09T17:26:27.624734Z"
    },
    "collapsed": true
   },
   "outputs": [],
   "source": []
  },
  {
   "cell_type": "code",
   "execution_count": 42,
   "metadata": {
    "ExecuteTime": {
     "end_time": "2018-04-09T17:26:27.928053Z",
     "start_time": "2018-04-09T17:26:27.905643Z"
    },
    "code_folding": [
     0
    ],
    "collapsed": true
   },
   "outputs": [
    {
     "ename": "TypeError",
     "evalue": "expected sequence object with len >= 0 or a single integer",
     "output_type": "error",
     "traceback": [
      "\u001b[0;31m---------------------------------------------------------------------------\u001b[0m",
      "\u001b[0;31mTypeError\u001b[0m                                 Traceback (most recent call last)",
      "\u001b[0;32m<ipython-input-42-d9a46e558946>\u001b[0m in \u001b[0;36m<module>\u001b[0;34m()\u001b[0m\n\u001b[1;32m      3\u001b[0m                                   \u001b[0mn_estimators\u001b[0m \u001b[0;34m=\u001b[0m \u001b[0;36m100\u001b[0m\u001b[0;34m,\u001b[0m\u001b[0;34m\u001b[0m\u001b[0m\n\u001b[1;32m      4\u001b[0m                                   random_state=1)\n\u001b[0;32m----> 5\u001b[0;31m \u001b[0mget_optimal_n_estimators\u001b[0m\u001b[0;34m(\u001b[0m\u001b[0mgdbr\u001b[0m\u001b[0;34m,\u001b[0m \u001b[0mX_test\u001b[0m\u001b[0;34m,\u001b[0m \u001b[0my_test\u001b[0m\u001b[0;34m)\u001b[0m\u001b[0;34m\u001b[0m\u001b[0m\n\u001b[0m",
      "\u001b[0;32m<ipython-input-41-bd79b37382c1>\u001b[0m in \u001b[0;36mget_optimal_n_estimators\u001b[0;34m(model, X_new, y_new)\u001b[0m\n\u001b[1;32m      1\u001b[0m \u001b[0;32mdef\u001b[0m \u001b[0mget_optimal_n_estimators\u001b[0m\u001b[0;34m(\u001b[0m\u001b[0mmodel\u001b[0m\u001b[0;34m,\u001b[0m \u001b[0mX_new\u001b[0m\u001b[0;34m,\u001b[0m \u001b[0my_new\u001b[0m\u001b[0;34m)\u001b[0m\u001b[0;34m:\u001b[0m\u001b[0;34m\u001b[0m\u001b[0m\n\u001b[1;32m      2\u001b[0m         validation_loss = np.zeros(\n\u001b[0;32m----> 3\u001b[0;31m         model.get_params('n_estimators'))\n\u001b[0m\u001b[1;32m      4\u001b[0m         \u001b[0;32mfor\u001b[0m \u001b[0mi\u001b[0m\u001b[0;34m,\u001b[0m \u001b[0mpreds\u001b[0m \u001b[0;32min\u001b[0m \u001b[0menumerate\u001b[0m\u001b[0;34m(\u001b[0m\u001b[0mmodel\u001b[0m\u001b[0;34m.\u001b[0m\u001b[0mstaged_predict\u001b[0m\u001b[0;34m(\u001b[0m\u001b[0mX_new\u001b[0m\u001b[0;34m)\u001b[0m\u001b[0;34m)\u001b[0m\u001b[0;34m:\u001b[0m\u001b[0;34m\u001b[0m\u001b[0m\n\u001b[1;32m      5\u001b[0m             \u001b[0mvalidation_loss\u001b[0m\u001b[0;34m[\u001b[0m\u001b[0mi\u001b[0m\u001b[0;34m]\u001b[0m \u001b[0;34m=\u001b[0m \u001b[0mmodel\u001b[0m\u001b[0;34m.\u001b[0m\u001b[0mloss_\u001b[0m\u001b[0;34m(\u001b[0m\u001b[0mpreds\u001b[0m\u001b[0;34m,\u001b[0m \u001b[0my_new\u001b[0m\u001b[0;34m)\u001b[0m\u001b[0;34m\u001b[0m\u001b[0m\n",
      "\u001b[0;31mTypeError\u001b[0m: expected sequence object with len >= 0 or a single integer"
     ]
    }
   ],
   "source": [
    "# not working - get_optimal_n_estimators\n",
    "def get_optimal_n_estimators(model, X_new, y_new):\n",
    "        validation_loss = np.zeros(\n",
    "        model.get_params('n_estimators'))\n",
    "        for i, preds in enumerate(model.staged_predict(X_new)):\n",
    "            validation_loss[i] = model.loss_(preds, y_new)\n",
    "        optimal_tree = np.argmin(validation_loss)\n",
    "        optimal_loss = validation_loss[optimal_tree]\n",
    "        return optimal_tree, optimal_loss\n",
    "    \n",
    "gdbr = GradientBoostingRegressor(learning_rate=0.1,\n",
    "                                  loss='ls',\n",
    "                                  n_estimators = 100,\n",
    "                                  random_state=1)\n",
    "get_optimal_n_estimators(gdbr, X_test, y_test)"
   ]
  },
  {
   "cell_type": "code",
   "execution_count": 96,
   "metadata": {
    "ExecuteTime": {
     "end_time": "2018-04-09T19:09:42.678629Z",
     "start_time": "2018-04-09T19:09:42.252216Z"
    },
    "code_folding": [
     61,
     68
    ]
   },
   "outputs": [
    {
     "data": {
      "image/png": "[encoded data removed]",
      "text/plain": [
       "<matplotlib.figure.Figure at 0x11540b470>"
      ]
     },
     "metadata": {},
     "output_type": "display_data"
    }
   ],
   "source": [
    "# test\n",
    "def stage_score_plot(estimator, X_train, y_train, X_test, y_test):\n",
    "    '''\n",
    "    Parameters: estimator: GradientBoostingRegressor or AdaBoostRegressor\n",
    "       a         X_train: 2d numpy array\n",
    "                y_train: 1d numpy array\n",
    "                X_test: 2d numpy array\n",
    "                y_test: 1d numpy array\n",
    "\n",
    "    Returns: A plot of the number of iterations vs the MSE for the model for\n",
    "    both the training set and test set.\n",
    "    '''\n",
    "\n",
    "   #### YOUR CODE HERE ####\n",
    "    gdbr = GradientBoostingRegressor(learning_rate=0.1,\n",
    "                                     loss='ls',\n",
    "                                     n_estimators=100,\n",
    "                                     random_state=1,\n",
    "#                                      max_depth=3,\n",
    "#                                      subsample=1.0,\n",
    "#                                      min_samples_split=2,\n",
    "#                                      min_samples_leaf=1,\n",
    "#                                      min_weight_fraction_leaf=0.0     \n",
    "                                    )\n",
    "    \n",
    "    fig, ax = plt.subplots()\n",
    "    \n",
    "    model = gdbr.fit(X_train, y_train)\n",
    "    gdbr_predict = gdbr.predict(X_test)\n",
    "\n",
    "#     rf_score_mse = cross_val_score(rf, X_train,rf_y_hat_test_predicted, scoring='mean_squared_error').mean()\n",
    "\n",
    "    gb_test = []\n",
    "    gb_train = []\n",
    "    for preds in model.staged_predict(X_test):\n",
    "        # do what you would like with the different stages\n",
    "        gb_test.append(mean_squared_error(y_test, preds))\n",
    "#     return plt.plot(list(range(10,40)), gb_test)\n",
    "\n",
    "    for train_preds in model.staged_predict(X_train):\n",
    "        gb_train.append(mean_squared_error(y_train, train_preds))\n",
    "\n",
    "    plt.xlabel('# of boosting stages')\n",
    "    plt.ylabel('mse')\n",
    "    plt.title('training error at given rate');\n",
    "    plt.plot(gb_test, label = \"test - 0.1\")\n",
    "    plt.plot(gb_train, label = \"train - 0.1\")\n",
    "    \n",
    "    gdbr_1 = GradientBoostingRegressor(learning_rate=1,\n",
    "                                     loss='ls',\n",
    "                                     n_estimators=100,\n",
    "                                     random_state=1,\n",
    "#                                      max_depth=3,\n",
    "#                                      subsample=1.0,\n",
    "#                                      min_samples_split=2,\n",
    "#                                      min_samples_leaf=1,\n",
    "#                                      min_weight_fraction_leaf=0.0     \n",
    "                                    )\n",
    "    \n",
    "    model_1 = gdbr_1.fit(X_train, y_train)\n",
    "\n",
    "#     rf_score_mse = cross_val_score(rf, X_train,rf_y_hat_test_predicted, scoring='mean_squared_error').mean()\n",
    "\n",
    "    gb_test_1 = []\n",
    "    gb_train_1 = []\n",
    "    for preds_1 in model_1.staged_predict(X_test):\n",
    "        # do what you would like with the different stages\n",
    "        gb_test.append(mean_squared_error(y_test, preds_1))\n",
    "#     return plt.plot(list(range(10,40)), gb_test)\n",
    "\n",
    "    for train_preds in model_1.staged_predict(X_train):\n",
    "        gb_train_1.append(mean_squared_error(y_train, train_preds))\n",
    "\n",
    "    plt.plot(gb_test_1, label = \"test - 1.0\")\n",
    "    plt.plot(gb_train_1, label = \"train - 1.0\")\n",
    "    \n",
    "    return \n",
    "        \n",
    "        \n",
    "\n",
    "stage_score_plot(gdbr, X_train, y_train, X_test, y_test)\n",
    "plt.legend()\n",
    "plt.show()"
   ]
  },
  {
   "cell_type": "markdown",
   "metadata": {
    "ExecuteTime": {
     "end_time": "2018-04-09T23:17:23.134334Z",
     "start_time": "2018-04-09T23:17:23.040120Z"
    }
   },
   "source": [
    "8) Given your plot, explain the behavior of the test / train curves\n",
    "   for the two (0.1 and 1) learning rates. With a lower learning rate (0.1),\n",
    "   what is necessary to obtain a low test error?\n"
   ]
  },
  {
   "cell_type": "markdown",
   "metadata": {},
   "source": [
    "\n",
    "9. Using the `stage_score_plot` function, make a plot like you did above of\n",
    "    the MSE for `GradientBoostingRegressor` with `learning_rate=0.1`.\n",
    "\n",
    "    Add a horizontal line to indicate where the `RandomForestRegressor` test\n",
    "   error is at.\n",
    "\n",
    "   Your plot should look something like this:\n",
    "\n",
    "   ![gradient boosting](images/gradboost.png)\n",
    "\n",
    "   a. How many iterations does it take until Gradient Boosting beats Random Forest?\n",
    "\n",
    "10. Make a similar plot for `AdaBoost`. Again have the `learning_rate=0.1`\n",
    "    and add a horizontal line for the Random Forest test error.\n",
    "\n",
    "    Don't expect AdaBoost to be as smooth as the Gradient Boosting graph.\n",
    "\n",
    "    a. How many iterations does it take till AdaBoost beats Random Forest?\n",
    "\n",
    "11. As seen above when we compared two learning rates, suboptimal hyperparameters\n",
    "    can give rise to higher error\n",
    "    (MSE). Therefore, we aim to search for the set of hyperparameters that\n",
    "    would give us the lowest cross-validated train error. The search of these\n",
    "    hyperparameters is known as grid-search. For each hyperparameter, a set\n",
    "    of values are specified. The combination of the hyperparameters at different\n",
    "    values will constitute the search space. We try each possible combination\n",
    "    of parameters and find the combination which minimizes error.\n",
    "\n",
    "    Use `GridSearchCV` for to find the best `RandomForestRegressor`\n",
    "    and `GradientBoostRegressor` models respectively.\n",
    "    Remember to specify `n_jobs=-1` in `GridSearchCV` to use all the cores of your\n",
    "    machine and speed up your search.\n",
    "\n",
    "    Here are some values to start out with trying for hyperparameters for Random Forest:\n",
    "\n",
    "    ```python\n",
    "\n",
    "    random_forest_grid = {'max_depth': [3, None],\n",
    "                          'max_features': ['sqrt', 'log2', None],\n",
    "                          'min_samples_split': [2, 4],\n",
    "                          'min_samples_leaf': [1, 2, 4],\n",
    "                          'bootstrap': [True, False],\n",
    "                          'n_estimators': [10, 20, 40, 80],\n",
    "                          'random_state': [1]}\n",
    "\n",
    "    rf_gridsearch = GridSearchCV(RandomForestRegressor(),\n",
    "                                 random_forest_grid,\n",
    "                                 n_jobs=-1,\n",
    "                                 verbose=True,\n",
    "                                 scoring='mean_squared_error')\n",
    "    rf_gridsearch.fit(X_train, y_train)\n",
    "\n",
    "    print \"best parameters:\", rf_gridsearch.best_params_\n",
    "\n",
    "    best_rf_model = rf_gridsearch.best_estimator_\n",
    "    ```\n",
    "\n",
    "    Feel free to change it to try a different set of parameters.\n",
    "\n",
    "    Note that this will take about 3-5 minutes to run. The total number of combinations is:\n",
    "    `2 * 3 * 2 * 3 * 2 * 4 * 1 = 288`. We are trying each of these possibilities!\n",
    "\n",
    "    a. What are the optimal parameters?\n",
    "\n",
    "    b. What is the MSE you get on the test set with these parameters?\n",
    "\n",
    "    c. How does this compare with the MSE with the default parameters?\n",
    "\n",
    "12. Go through the same process for `GradientBoosting`. Try several values for\n",
    "    these hyperparameters:\n",
    "\n",
    "    * `learning_rate`\n",
    "    * `max_depth`\n",
    "    * `min_samples_leaf`\n",
    "    * `max_features`\n",
    "    * `n_estimators`\n",
    "    \n",
    "    If you're unsure what values to include, take a look at sklearn's default. Include the default value and at least \n",
    "    one value less than and greater than the default value. Here's the [docs on Gradient Boosting](http://scikit-learn.org/stable/modules/generated/sklearn.ensemble.GradientBoostingClassifier.html#sklearn.ensemble.GradientBoostingClassifier) where you can see the defaults.\n",
    "    If you want a set of starting parameters, [here](https://gist.github.com/pprett/3989337#file-grid_search-py-L115) is\n",
    "    a reference.\n",
    "\n",
    "    a. What are the parameters that give the optimal model?\n",
    "\n",
    "    b. How does the MSE for this model compare with the original MSE you got with Gradient Boosting\n",
    "    before tuning the parameters?\n",
    "\n",
    "13. **[Extra Credit]** Go through the same process for `AdaBoost`. Note you need to define different hyperparameters\n",
    "    in the base estimator to perform the gridsearch. This will also take much longer to run,\n",
    "    so feel free to just leave it running after you figure out some parameters to try.\n"
   ]
  },
  {
   "cell_type": "code",
   "execution_count": null,
   "metadata": {
    "collapsed": true
   },
   "outputs": [],
   "source": []
  },
  {
   "cell_type": "code",
   "execution_count": 22,
   "metadata": {
    "ExecuteTime": {
     "end_time": "2018-04-09T16:14:31.320641Z",
     "start_time": "2018-04-09T16:14:31.292031Z"
    }
   },
   "outputs": [
    {
     "data": {
      "text/plain": [
       "array([0.96666667, 1.        , 0.96666667, 0.96666667, 1.        ])"
      ]
     },
     "execution_count": 22,
     "metadata": {},
     "output_type": "execute_result"
    }
   ],
   "source": [
    "import sklearn.datasets\n",
    "iris = datasets.load_iris()\n",
    "from sklearn import svm\n",
    "clf = svm.SVC(kernel='linear', C=1)\n",
    "clf_scores = cross_val_score(clf, iris.data, iris.target, cv=5)\n",
    "clf_scores"
   ]
  },
  {
   "cell_type": "code",
   "execution_count": null,
   "metadata": {
    "collapsed": true
   },
   "outputs": [],
   "source": []
  }
 ],
 "metadata": {
  "hide_input": false,
  "kernelspec": {
   "display_name": "Python 3",
   "language": "python",
   "name": "python3"
  },
  "language_info": {
   "codemirror_mode": {
    "name": "ipython",
    "version": 3
   },
   "file_extension": ".py",
   "mimetype": "text/x-python",
   "name": "python",
   "nbconvert_exporter": "python",
   "pygments_lexer": "ipython3",
   "version": "3.6.3"
  },
  "latex_envs": {
   "LaTeX_envs_menu_present": true,
   "autoclose": false,
   "autocomplete": true,
   "bibliofile": "biblio.bib",
   "cite_by": "apalike",
   "current_citInitial": 1,
   "eqLabelWithNumbers": true,
   "eqNumInitial": 1,
   "hotkeys": {
    "equation": "Ctrl-E",
    "itemize": "Ctrl-I"
   },
   "labels_anchors": false,
   "latex_user_defs": false,
   "report_style_numbering": false,
   "user_envs_cfg": false
  },
  "toc": {
   "nav_menu": {},
   "number_sections": true,
   "sideBar": true,
   "skip_h1_title": false,
   "title_cell": "Table of Contents",
   "title_sidebar": "Contents",
   "toc_cell": false,
   "toc_position": {},
   "toc_section_display": true,
   "toc_window_display": false
  },
  "varInspector": {
   "cols": {
    "lenName": 16,
    "lenType": 16,
    "lenVar": 40
   },
   "kernels_config": {
    "python": {
     "delete_cmd_postfix": "",
     "delete_cmd_prefix": "del ",
     "library": "var_list.py",
     "varRefreshCmd": "print(var_dic_list())"
    },
    "r": {
     "delete_cmd_postfix": ") ",
     "delete_cmd_prefix": "rm(",
     "library": "var_list.r",
     "varRefreshCmd": "cat(var_dic_list()) "
    }
   },
   "types_to_exclude": [
    "module",
    "function",
    "builtin_function_or_method",
    "instance",
    "_Feature"
   ],
   "window_display": false
  }
 },
 "nbformat": 4,
 "nbformat_minor": 2
}
