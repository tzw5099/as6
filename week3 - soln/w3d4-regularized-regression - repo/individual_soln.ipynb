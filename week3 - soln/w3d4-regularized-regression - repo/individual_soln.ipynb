{
 "cells": [
  {
   "cell_type": "markdown",
   "metadata": {},
   "source": [
    "# Loading & Splitting Data"
   ]
  },
  {
   "cell_type": "code",
   "execution_count": 1,
   "metadata": {
    "ExecuteTime": {
     "end_time": "2018-04-09T17:50:35.891352Z",
     "start_time": "2018-04-09T17:50:35.032270Z"
    },
    "collapsed": true
   },
   "outputs": [],
   "source": [
    "from sklearn.linear_model import LinearRegression\n",
    "from sklearn.model_selection import KFold\n",
    "from sklearn.model_selection import train_test_split\n",
    "from sklearn.model_selection import cross_val_score\n",
    "import numpy as np\n",
    "from sklearn.datasets import load_boston\n",
    "from sklearn.metrics import mean_squared_error\n",
    "import numpy as np\n",
    "import pandas as pd\n",
    "import matplotlib.pyplot as plt\n",
    "%matplotlib inline"
   ]
  },
  {
   "cell_type": "code",
   "execution_count": 2,
   "metadata": {
    "ExecuteTime": {
     "end_time": "2018-04-09T17:50:35.919564Z",
     "start_time": "2018-04-09T17:50:35.902804Z"
    },
    "collapsed": true
   },
   "outputs": [],
   "source": [
    "boston = load_boston()\n",
    "X = boston.data # housing features\n",
    "y = boston.target # housing prices"
   ]
  },
  {
   "cell_type": "code",
   "execution_count": 3,
   "metadata": {
    "ExecuteTime": {
     "end_time": "2018-04-09T17:50:35.971007Z",
     "start_time": "2018-04-09T17:50:35.962841Z"
    },
    "collapsed": true
   },
   "outputs": [],
   "source": [
    "X_train, X_test, y_train, y_test = train_test_split(X, y, test_size=0.25)"
   ]
  },
  {
   "cell_type": "markdown",
   "metadata": {},
   "source": [
    "# Train & Test Split Only (yucky)"
   ]
  },
  {
   "cell_type": "code",
   "execution_count": 4,
   "metadata": {
    "ExecuteTime": {
     "end_time": "2018-04-09T17:50:37.305257Z",
     "start_time": "2018-04-09T17:50:37.301020Z"
    },
    "collapsed": true
   },
   "outputs": [],
   "source": [
    "def my_rmse(y_true, y_pred):\n",
    "    mse = ((y_true - y_pred)**2).mean()\n",
    "    return np.sqrt(mse)"
   ]
  },
  {
   "cell_type": "code",
   "execution_count": 5,
   "metadata": {
    "ExecuteTime": {
     "end_time": "2018-04-09T17:50:37.970923Z",
     "start_time": "2018-04-09T17:50:37.964544Z"
    }
   },
   "outputs": [
    {
     "name": "stdout",
     "output_type": "stream",
     "text": [
      "1.9493588689617927\n",
      "1.9493588689617927\n"
     ]
    }
   ],
   "source": [
    "foo = np.array([4,3,1,6,8])\n",
    "bar = np.array([4,6,1,3,7])\n",
    "print(my_rmse(foo,bar))\n",
    "print(np.sqrt(mean_squared_error(foo,bar)))"
   ]
  },
  {
   "cell_type": "code",
   "execution_count": 6,
   "metadata": {
    "ExecuteTime": {
     "end_time": "2018-04-09T17:50:39.271284Z",
     "start_time": "2018-04-09T17:50:39.241876Z"
    }
   },
   "outputs": [
    {
     "name": "stdout",
     "output_type": "stream",
     "text": [
      "RMSE for training set  4.529105593003305\n",
      "RMSE for test set  5.170907562488738\n"
     ]
    },
    {
     "name": "stderr",
     "output_type": "stream",
     "text": [
      "/Users/tomwong/anaconda3/lib/python3.6/site-packages/scipy/linalg/basic.py:1226: RuntimeWarning: internal gelsd driver lwork query error, required iwork dimension not returned. This is likely the result of LAPACK bug 0038, fixed in LAPACK 3.2.2 (released July 21, 2010). Falling back to 'gelss' driver.\n",
      "  warnings.warn(mesg, RuntimeWarning)\n"
     ]
    }
   ],
   "source": [
    "# Fit your model using the training set\n",
    "linear = LinearRegression()\n",
    "linear.fit(X_train, y_train)\n",
    "\n",
    "# Call predict to get the predicted values for training and test set\n",
    "train_predicted = linear.predict(X_train)\n",
    "test_predicted = linear.predict(X_test)\n",
    "\n",
    "# Calculate RMSE for training and test set\n",
    "print('RMSE for training set ', my_rmse(y_train, train_predicted))\n",
    "print('RMSE for test set ', my_rmse(y_test, test_predicted))"
   ]
  },
  {
   "cell_type": "markdown",
   "metadata": {},
   "source": [
    "When we evaluate our RMSE on a new set of data, we gain an understanding of how well we are \n",
    "capturing the signal in our data.  We can build more complex models that may bend to perfectly\n",
    "fit our training data.  However, these models are not going to extend well to a new set of data,\n",
    "because they are likely overfit to our training data.  \n",
    "\n",
    "By evaluating our performance metric on a new set of data, we assure that we are modeling signal\n",
    "and not the noise in our data.\n"
   ]
  },
  {
   "cell_type": "markdown",
   "metadata": {},
   "source": [
    "# K-Fold Cross Validation (woo yeah)"
   ]
  },
  {
   "cell_type": "code",
   "execution_count": 7,
   "metadata": {
    "ExecuteTime": {
     "end_time": "2018-04-09T17:50:39.772260Z",
     "start_time": "2018-04-09T17:50:39.756038Z"
    },
    "collapsed": true
   },
   "outputs": [],
   "source": [
    "def my_cross_val_score(X_data, y_data, num_folds=3):\n",
    "    ''' Returns error for k-fold cross validation. '''\n",
    "    kf = KFold(n_splits=num_folds)\n",
    "    error = np.empty(num_folds)\n",
    "    index = 0\n",
    "    linear = LinearRegression()\n",
    "    for train, test in kf.split(X_data):\n",
    "        linear.fit(X_data[train], y_data[train])\n",
    "        pred = linear.predict(X_data[test])\n",
    "        error[index] = my_rmse(pred, y_data[test])\n",
    "        index += 1\n",
    "    return np.mean(error)"
   ]
  },
  {
   "cell_type": "code",
   "execution_count": 8,
   "metadata": {
    "ExecuteTime": {
     "end_time": "2018-04-09T17:50:40.172160Z",
     "start_time": "2018-04-09T17:50:40.158484Z"
    }
   },
   "outputs": [
    {
     "data": {
      "text/plain": [
       "4.955705888951557"
      ]
     },
     "execution_count": 8,
     "metadata": {},
     "output_type": "execute_result"
    }
   ],
   "source": [
    "my_cross_val_score(X_train, y_train, num_folds=5)"
   ]
  },
  {
   "cell_type": "code",
   "execution_count": 9,
   "metadata": {
    "ExecuteTime": {
     "end_time": "2018-04-09T17:50:40.230559Z",
     "start_time": "2018-04-09T17:50:40.208351Z"
    }
   },
   "outputs": [
    {
     "data": {
      "text/plain": [
       "4.955705888951557"
      ]
     },
     "execution_count": 9,
     "metadata": {},
     "output_type": "execute_result"
    }
   ],
   "source": [
    "def my_cross_val_score(X_data, y_data, num_folds=3):\n",
    "    ''' Returns error for k-fold cross validation. '''\n",
    "    kf = KFold(n_splits=num_folds)\n",
    "    error = np.empty(num_folds)\n",
    "    index = 0\n",
    "    linear = LinearRegression()\n",
    "    for train, test in kf.split(X_data):\n",
    "        linear.fit(X_data[train], y_data[train])\n",
    "        pred = linear.predict(X_data[test])\n",
    "        error[index] = my_rmse(pred, y_data[test])\n",
    "        index += 1\n",
    "    return np.mean(error)\n",
    "my_cross_val_score(X_train, y_train, num_folds=5)"
   ]
  },
  {
   "cell_type": "markdown",
   "metadata": {},
   "source": [
    "\"do k-fold cross validation where you limit the training set size by varying amounts\"\n",
    "\n",
    "This could mean either changing k (higher k means there is more data in the training folds), or fixing k and restricting the amount of data we use in the first place."
   ]
  },
  {
   "cell_type": "markdown",
   "metadata": {},
   "source": [
    "Let's try the latter first:"
   ]
  },
  {
   "cell_type": "code",
   "execution_count": 10,
   "metadata": {
    "ExecuteTime": {
     "end_time": "2018-04-09T17:50:41.301597Z",
     "start_time": "2018-04-09T17:50:40.573820Z"
    },
    "collapsed": true
   },
   "outputs": [],
   "source": [
    "cv_scores = []\n",
    "for n in range(20,300):\n",
    "    cv_score = my_cross_val_score(X_train[:n], y_train[:n], num_folds=5)\n",
    "    cv_scores.append(cv_score)"
   ]
  },
  {
   "cell_type": "code",
   "execution_count": 11,
   "metadata": {
    "ExecuteTime": {
     "end_time": "2018-04-09T17:50:41.512995Z",
     "start_time": "2018-04-09T17:50:41.335243Z"
    }
   },
   "outputs": [
    {
     "data": {
      "image/png": "[encoded data removed]",
      "text/plain": [
       "<matplotlib.figure.Figure at 0x10e385b70>"
      ]
     },
     "metadata": {},
     "output_type": "display_data"
    }
   ],
   "source": [
    "plt.plot(list(range(20,300)),cv_scores)\n",
    "plt.xlabel('n')\n",
    "plt.ylabel('rmse')\n",
    "plt.title('average test rmse vs sample size n');"
   ]
  },
  {
   "cell_type": "markdown",
   "metadata": {},
   "source": [
    "What if we use all the data and vary the number of folds?"
   ]
  },
  {
   "cell_type": "code",
   "execution_count": 12,
   "metadata": {
    "ExecuteTime": {
     "end_time": "2018-04-09T17:50:42.363301Z",
     "start_time": "2018-04-09T17:50:41.542504Z"
    },
    "collapsed": true
   },
   "outputs": [],
   "source": [
    "cv_scores = []\n",
    "for k in range(2,51):\n",
    "    cv_score = my_cross_val_score(X_train, y_train, num_folds=k)\n",
    "    cv_scores.append(cv_score)"
   ]
  },
  {
   "cell_type": "code",
   "execution_count": 13,
   "metadata": {
    "ExecuteTime": {
     "end_time": "2018-04-09T17:50:42.606087Z",
     "start_time": "2018-04-09T17:50:42.366378Z"
    },
    "scrolled": false
   },
   "outputs": [
    {
     "data": {
      "image/png": "[encoded data removed]",
      "text/plain": [
       "<matplotlib.figure.Figure at 0x10e4310b8>"
      ]
     },
     "metadata": {},
     "output_type": "display_data"
    }
   ],
   "source": [
    "plt.plot(cv_scores)\n",
    "plt.xlabel('k')\n",
    "plt.ylabel('rmse')\n",
    "plt.title('average test rmse vs # of folds k');"
   ]
  },
  {
   "cell_type": "code",
   "execution_count": 16,
   "metadata": {
    "ExecuteTime": {
     "end_time": "2018-04-09T17:50:51.072140Z",
     "start_time": "2018-04-09T17:50:51.063136Z"
    }
   },
   "outputs": [
    {
     "data": {
      "text/plain": [
       "[4.662572196422722,\n",
       " 4.7815757513086,\n",
       " 4.922894259271104,\n",
       " 4.955705888951557,\n",
       " 4.840733464613062,\n",
       " 4.838041649170151,\n",
       " 4.8319744047735185,\n",
       " 4.807722193029121,\n",
       " 4.821384016703222,\n",
       " 4.741800871643614,\n",
       " 4.747892940864516,\n",
       " 4.7240650004805795,\n",
       " 4.710472975918734,\n",
       " 4.686535121614189,\n",
       " 4.696091051899728,\n",
       " 4.653917097880668,\n",
       " 4.607635534026786,\n",
       " 4.688608153048565,\n",
       " 4.653713764449732,\n",
       " 4.64122592121822,\n",
       " 4.623127193624944,\n",
       " 4.590766424265158,\n",
       " 4.594162693235624,\n",
       " 4.553442489162706,\n",
       " 4.554012830259005,\n",
       " 4.5131014945972865,\n",
       " 4.525635072791103,\n",
       " 4.534232968760748,\n",
       " 4.501662209829122,\n",
       " 4.559214155004869,\n",
       " 4.492825030248827,\n",
       " 4.473018779136738,\n",
       " 4.495702941402507,\n",
       " 4.479347092591535,\n",
       " 4.488312185745749,\n",
       " 4.497451424815417,\n",
       " 4.506733808007861,\n",
       " 4.502867938951909,\n",
       " 4.483788981571694,\n",
       " 4.479275552217983,\n",
       " 4.4479492092694795,\n",
       " 4.435305401782983,\n",
       " 4.459155877488562,\n",
       " 4.440089806858521,\n",
       " 4.449719132752351,\n",
       " 4.4191238282869385,\n",
       " 4.427351389320514,\n",
       " 4.432501606137822,\n",
       " 4.420986856086773]"
      ]
     },
     "execution_count": 16,
     "metadata": {},
     "output_type": "execute_result"
    }
   ],
   "source": [
    "cv_scores"
   ]
  },
  {
   "cell_type": "markdown",
   "metadata": {},
   "source": [
    "I like to see train error along with test error, so let's modify that function a bit"
   ]
  },
  {
   "cell_type": "code",
   "execution_count": 14,
   "metadata": {
    "ExecuteTime": {
     "end_time": "2018-04-09T17:50:42.707481Z",
     "start_time": "2018-04-09T17:50:42.690131Z"
    },
    "collapsed": true
   },
   "outputs": [],
   "source": [
    "def my_cross_val_scores(X_data, y_data, num_folds=3):\n",
    "    ''' Returns error for k-fold cross validation. '''\n",
    "    kf = KFold(n_splits=num_folds)\n",
    "    train_error = np.empty(num_folds)\n",
    "    test_error = np.empty(num_folds)\n",
    "    index = 0\n",
    "    linear = LinearRegression()\n",
    "    for train, test in kf.split(X_data):\n",
    "        linear.fit(X_data[train], y_data[train])\n",
    "        pred_train = linear.predict(X_data[train])\n",
    "        pred_test = linear.predict(X_data[test])\n",
    "        train_error[index] = my_rmse(pred_train, y_data[train])\n",
    "        test_error[index] = my_rmse(pred_test, y_data[test])\n",
    "        index += 1\n",
    "    return np.mean(test_error), np.mean(train_error)"
   ]
  },
  {
   "cell_type": "code",
   "execution_count": 15,
   "metadata": {
    "ExecuteTime": {
     "end_time": "2018-04-09T17:50:42.717792Z",
     "start_time": "2018-04-09T17:50:42.710949Z"
    }
   },
   "outputs": [
    {
     "data": {
      "text/plain": [
       "(379, 13)"
      ]
     },
     "execution_count": 15,
     "metadata": {},
     "output_type": "execute_result"
    }
   ],
   "source": [
    "# KFold(n_splits=5).split(X_train[:2])\n",
    "X_train.shape"
   ]
  },
  {
   "cell_type": "markdown",
   "metadata": {},
   "source": [
    "Here's rmse vs sample size:"
   ]
  },
  {
   "cell_type": "code",
   "execution_count": 14,
   "metadata": {
    "collapsed": true
   },
   "outputs": [],
   "source": [
    "cv_test_scores = []\n",
    "cv_train_scores = []\n",
    "\n",
    "for n in range(20,301):\n",
    "    cv_test, cv_train = my_cross_val_scores(X_train[:n], y_train[:n], num_folds=5)\n",
    "    cv_test_scores.append(cv_test)\n",
    "    cv_train_scores.append(cv_train)"
   ]
  },
  {
   "cell_type": "code",
   "execution_count": 15,
   "metadata": {},
   "outputs": [
    {
     "data": {
      "image/png": "[encoded data removed]",
      "text/plain": [
       "<matplotlib.figure.Figure at 0x7fe1e8c508d0>"
      ]
     },
     "metadata": {},
     "output_type": "display_data"
    }
   ],
   "source": [
    "plt.plot(cv_test_scores, label='test rmse')\n",
    "plt.plot(cv_train_scores, label='train rmse')\n",
    "plt.xlabel('n')\n",
    "plt.ylabel('rmse')\n",
    "plt.title('average rmse vs # sample size')\n",
    "plt.legend();"
   ]
  },
  {
   "cell_type": "code",
   "execution_count": null,
   "metadata": {
    "collapsed": true
   },
   "outputs": [],
   "source": []
  },
  {
   "cell_type": "markdown",
   "metadata": {},
   "source": [
    "And vs # of folds:"
   ]
  },
  {
   "cell_type": "code",
   "execution_count": 16,
   "metadata": {
    "collapsed": true
   },
   "outputs": [],
   "source": [
    "cv_test_scores = []\n",
    "cv_train_scores = []\n",
    "\n",
    "for k in range(2,51):\n",
    "    cv_test, cv_train = my_cross_val_scores(X_train, y_train, num_folds=k)\n",
    "    cv_test_scores.append(cv_test)\n",
    "    cv_train_scores.append(cv_train)"
   ]
  },
  {
   "cell_type": "code",
   "execution_count": 17,
   "metadata": {},
   "outputs": [
    {
     "data": {
      "image/png": "[encoded data removed]",
      "text/plain": [
       "<matplotlib.figure.Figure at 0x7fe1e8b52048>"
      ]
     },
     "metadata": {},
     "output_type": "display_data"
    }
   ],
   "source": [
    "plt.plot(cv_test_scores, label='test rmse')\n",
    "plt.plot(cv_train_scores, label='train rmse')\n",
    "plt.xlabel('k')\n",
    "plt.ylabel('rmse')\n",
    "plt.title('average rmse vs # of folds k')\n",
    "plt.legend();"
   ]
  },
  {
   "cell_type": "markdown",
   "metadata": {},
   "source": [
    "# Stepwise Regression (extra credit)"
   ]
  },
  {
   "cell_type": "code",
   "execution_count": 36,
   "metadata": {
    "ExecuteTime": {
     "end_time": "2018-04-03T09:18:08.386196Z",
     "start_time": "2018-04-03T09:18:08.382453Z"
    },
    "collapsed": true
   },
   "outputs": [],
   "source": [
    "from sklearn.datasets import make_friedman1"
   ]
  },
  {
   "cell_type": "code",
   "execution_count": 37,
   "metadata": {
    "ExecuteTime": {
     "end_time": "2018-04-03T09:18:09.224741Z",
     "start_time": "2018-04-03T09:18:09.210347Z"
    },
    "collapsed": true
   },
   "outputs": [],
   "source": [
    "X_fri, y_fri = make_friedman1(n_samples=5000, n_features=100, random_state=0)"
   ]
  },
  {
   "cell_type": "code",
   "execution_count": 38,
   "metadata": {
    "ExecuteTime": {
     "end_time": "2018-04-03T09:18:09.794368Z",
     "start_time": "2018-04-03T09:18:09.789441Z"
    },
    "collapsed": true
   },
   "outputs": [],
   "source": [
    "from sklearn.feature_selection import RFE"
   ]
  },
  {
   "cell_type": "code",
   "execution_count": 51,
   "metadata": {
    "ExecuteTime": {
     "end_time": "2018-04-03T09:27:44.123421Z",
     "start_time": "2018-04-03T09:27:44.112623Z"
    }
   },
   "outputs": [
    {
     "name": "stdout",
     "output_type": "stream",
     "text": [
      "array([[0.5488135 , 0.71518937, 0.60276338, ..., 0.02010755, 0.82894003,\n",
      "        0.00469548],\n",
      "       [0.67781654, 0.27000797, 0.73519402, ..., 0.25435648, 0.05802916,\n",
      "        0.43441663],\n",
      "       [0.31179588, 0.69634349, 0.37775184, ..., 0.86219152, 0.97291949,\n",
      "        0.96083466],\n",
      "       ...,\n",
      "       [0.71095129, 0.80651368, 0.92456479, ..., 0.66669765, 0.79263002,\n",
      "        0.23288707],\n",
      "       [0.56393894, 0.90201405, 0.98806404, ..., 0.46229665, 0.43566402,\n",
      "        0.43159199],\n",
      "       [0.57768068, 0.8473786 , 0.19914881, ..., 0.53321674, 0.88081423,\n",
      "        0.26561703]])\n",
      "(5000, 100)\n",
      "(5000,)\n"
     ]
    },
    {
     "data": {
      "text/plain": [
       "100"
      ]
     },
     "execution_count": 51,
     "metadata": {},
     "output_type": "execute_result"
    }
   ],
   "source": [
    "from pprint import pprint\n",
    "pprint(X_fri)\n",
    "pprint(X_fri.shape)\n",
    "pprint(y_fri.shape)\n",
    "X_fri.shape[1]"
   ]
  },
  {
   "cell_type": "code",
   "execution_count": null,
   "metadata": {
    "ExecuteTime": {
     "start_time": "2018-04-03T10:01:53.510Z"
    },
    "collapsed": true
   },
   "outputs": [],
   "source": [
    "n_samples = X_fri.shape[0]\n",
    "n_features = X_fri.shape[1]\n",
    "r2_scores = np.zeros(n_features)\n",
    "adj_r2_scores = np.zeros(n_features)\n",
    "\n",
    "for p in range(1,n_features+1):\n",
    "    rfe = RFE(LinearRegression(), n_features_to_select=p)\n",
    "    rfe.fit(X_fri, y_fri)\n",
    "    r2 = rfe.score(X_fri, y_fri)\n",
    "    adj_r2 = 1 - ((1 - r2)*(n_samples - 1)/(n_samples - p - 1))\n",
    "    r2_scores[p-1] = r2\n",
    "    adj_r2_scores[p-1] = adj_r2"
   ]
  },
  {
   "cell_type": "code",
   "execution_count": null,
   "metadata": {
    "ExecuteTime": {
     "end_time": "2018-04-03T09:18:14.715410Z",
     "start_time": "2018-04-03T09:18:10.958Z"
    },
    "collapsed": true
   },
   "outputs": [],
   "source": [
    "n_samples"
   ]
  },
  {
   "cell_type": "code",
   "execution_count": null,
   "metadata": {
    "ExecuteTime": {
     "start_time": "2018-04-03T09:15:27.266Z"
    },
    "collapsed": true
   },
   "outputs": [],
   "source": [
    "plt.plot(np.arange(1,n_features +1), adj_r2_scores)\n",
    "plt.title('Adjusted R^2 vs. Feature Count')\n",
    "plt.xlabel('Number of features')\n",
    "plt.ylabel('Adjusted R^2');"
   ]
  },
  {
   "cell_type": "code",
   "execution_count": null,
   "metadata": {
    "ExecuteTime": {
     "start_time": "2018-04-03T09:15:28.983Z"
    },
    "collapsed": true
   },
   "outputs": [],
   "source": [
    "plt.plot(np.arange(1,n_features +1)[:20], adj_r2_scores[:20])\n",
    "plt.title('Adjusted R^2 vs. Feature Count')\n",
    "plt.xlabel('Number of features')\n",
    "plt.ylabel('Adjusted R^2');"
   ]
  },
  {
   "cell_type": "markdown",
   "metadata": {},
   "source": [
    "## Forward Selection"
   ]
  },
  {
   "cell_type": "code",
   "execution_count": 24,
   "metadata": {},
   "outputs": [
    {
     "name": "stderr",
     "output_type": "stream",
     "text": [
      "/home/moses/anaconda3/lib/python3.6/site-packages/statsmodels/compat/pandas.py:56: FutureWarning: The pandas.core.datetools module is deprecated and will be removed in a future version. Please use the pandas.tseries module instead.\n",
      "  from pandas.core import datetools\n"
     ]
    }
   ],
   "source": [
    "import statsmodels.api as sm"
   ]
  },
  {
   "cell_type": "code",
   "execution_count": 25,
   "metadata": {
    "collapsed": true
   },
   "outputs": [],
   "source": [
    "class ForwardSelect(object):\n",
    "    def __init__(self, verbose=True):\n",
    "        self.verbose = verbose\n",
    "        self.best_score = 0.\n",
    "        self.column_names = []\n",
    "        self.keep = []\n",
    "        self.X_orig = None\n",
    "        self.X = None\n",
    "        self.y = None\n",
    "\n",
    "    def fit_transform(self, df, target):\n",
    "        self.y = target\n",
    "        self.column_names = df.columns.tolist()\n",
    "        self.X_orig = df.values\n",
    "        self.X = np.ones([self.X_orig.shape[0],1])\n",
    "        \n",
    "        while self.X_orig.shape[1] > 0:\n",
    "            scores = []\n",
    "            for feature in range(self.X_orig.shape[1]):\n",
    "                X_temp = np.concatenate((self.X, self.X_orig[:, feature, None]), axis=1)\n",
    "                scores.append(sm.OLS(self.y, X_temp).fit().rsquared_adj)\n",
    "            best_idx = np.argmax(np.asanyarray(scores))\n",
    "\n",
    "            if scores[best_idx] <= self.best_score:\n",
    "                if self.verbose: \n",
    "                    print('Removed columns ->', self.column_names)\n",
    "                    print('-> All done!')\n",
    "                return self.X[:,1:]\n",
    "            else:\n",
    "                self.X = np.concatenate((self.X, self.X_orig[:, best_idx, None]), axis=1)\n",
    "                self.X_orig = np.delete(self.X_orig, best_idx, axis=1)\n",
    "                self.keep.append(self.column_names.pop(best_idx))\n",
    "                self.best_score = scores[best_idx]\n",
    "                if self.verbose: print('Kept \\'%s\\' for a best score of %s' % (self.keep[-1], self.best_score))"
   ]
  },
  {
   "cell_type": "code",
   "execution_count": 26,
   "metadata": {
    "scrolled": false
   },
   "outputs": [
    {
     "name": "stdout",
     "output_type": "stream",
     "text": [
      "Kept '3' for a best score of 0.325044526177\n",
      "Kept '1' for a best score of 0.496862089347\n",
      "Kept '0' for a best score of 0.649410069763\n",
      "Kept '4' for a best score of 0.742511445509\n",
      "Kept '85' for a best score of 0.742826732836\n",
      "Kept '63' for a best score of 0.743051990062\n",
      "Kept '62' for a best score of 0.743275184203\n",
      "Kept '31' for a best score of 0.743469707371\n",
      "Kept '83' for a best score of 0.743650242228\n",
      "Kept '61' for a best score of 0.743822492933\n",
      "Kept '50' for a best score of 0.743982268044\n",
      "Kept '76' for a best score of 0.744118206892\n",
      "Kept '34' for a best score of 0.744252359139\n",
      "Kept '10' for a best score of 0.744391144585\n",
      "Kept '49' for a best score of 0.744518211164\n",
      "Kept '75' for a best score of 0.744628198383\n",
      "Kept '53' for a best score of 0.744727858234\n",
      "Kept '60' for a best score of 0.744801786633\n",
      "Kept '67' for a best score of 0.744869278354\n",
      "Kept '14' for a best score of 0.744925507577\n",
      "Kept '84' for a best score of 0.744974576011\n",
      "Kept '71' for a best score of 0.745020657501\n",
      "Kept '6' for a best score of 0.745064401503\n",
      "Kept '12' for a best score of 0.745109923963\n",
      "Kept '90' for a best score of 0.745149139498\n",
      "Kept '55' for a best score of 0.745188016035\n",
      "Kept '72' for a best score of 0.745218731172\n",
      "Kept '57' for a best score of 0.745246341665\n",
      "Kept '26' for a best score of 0.745267021709\n",
      "Kept '39' for a best score of 0.745283605323\n",
      "Kept '42' for a best score of 0.745297172254\n",
      "Kept '19' for a best score of 0.745307891978\n",
      "Kept '58' for a best score of 0.74531840913\n",
      "Kept '69' for a best score of 0.745328099379\n",
      "Kept '28' for a best score of 0.745337362362\n",
      "Kept '7' for a best score of 0.745346993964\n",
      "Kept '30' for a best score of 0.745353905903\n",
      "Kept '64' for a best score of 0.74535917086\n",
      "Removed columns -> [2, 5, 8, 9, 11, 13, 15, 16, 17, 18, 20, 21, 22, 23, 24, 25, 27, 29, 32, 33, 35, 36, 37, 38, 40, 41, 43, 44, 45, 46, 47, 48, 51, 52, 54, 56, 59, 65, 66, 68, 70, 73, 74, 77, 78, 79, 80, 81, 82, 86, 87, 88, 89, 91, 92, 93, 94, 95, 96, 97, 98, 99]\n",
      "-> All done!\n"
     ]
    },
    {
     "data": {
      "text/plain": [
       "array([[ 0.54488318,  0.71518937,  0.5488135 , ...,  0.891773  ,\n",
       "         0.26455561,  0.19658236],\n",
       "       [ 0.96218855,  0.27000797,  0.67781654, ...,  0.57225191,\n",
       "         0.61801543,  0.97552151],\n",
       "       [ 0.17960368,  0.69634349,  0.31179588, ...,  0.45369684,\n",
       "         0.25394164,  0.66991655],\n",
       "       ..., \n",
       "       [ 0.42765067,  0.80651368,  0.71095129, ...,  0.09874679,\n",
       "         0.28336513,  0.78268399],\n",
       "       [ 0.68665604,  0.90201405,  0.56393894, ...,  0.40972928,\n",
       "         0.52512261,  0.22717661],\n",
       "       [ 0.71913573,  0.8473786 ,  0.57768068, ...,  0.27530496,\n",
       "         0.89432694,  0.93860404]])"
      ]
     },
     "execution_count": 26,
     "metadata": {},
     "output_type": "execute_result"
    }
   ],
   "source": [
    "df = pd.DataFrame(X_fri)\n",
    "forward = ForwardSelect(verbose=True)\n",
    "forward.fit_transform(df, y_fri)"
   ]
  },
  {
   "cell_type": "markdown",
   "metadata": {},
   "source": [
    "Let's try it on the Boston data set"
   ]
  },
  {
   "cell_type": "code",
   "execution_count": 27,
   "metadata": {
    "collapsed": true
   },
   "outputs": [],
   "source": [
    "boston = load_boston()\n",
    "X = boston.data # Attribute data\n",
    "y = boston.target # Housing prices\n",
    "colNames = boston.feature_names # Feature names\n"
   ]
  },
  {
   "cell_type": "code",
   "execution_count": 28,
   "metadata": {},
   "outputs": [
    {
     "name": "stdout",
     "output_type": "stream",
     "text": [
      "Kept 'LSTAT' for a best score of 0.543241825955\n",
      "Kept 'RM' for a best score of 0.63712447547\n",
      "Kept 'PTRATIO' for a best score of 0.676703587413\n",
      "Kept 'DIS' for a best score of 0.687835108484\n",
      "Kept 'NOX' for a best score of 0.705170182246\n",
      "Kept 'CHAS' for a best score of 0.712356667191\n",
      "Kept 'B' for a best score of 0.718256040716\n",
      "Kept 'ZN' for a best score of 0.722207180409\n",
      "Kept 'CRIM' for a best score of 0.723897942526\n",
      "Kept 'RAD' for a best score of 0.728783937621\n",
      "Kept 'TAX' for a best score of 0.734768021829\n",
      "Removed columns -> ['INDUS', 'AGE']\n",
      "-> All done!\n"
     ]
    },
    {
     "data": {
      "text/plain": [
       "array([[  4.98000000e+00,   6.57500000e+00,   1.53000000e+01, ...,\n",
       "          6.32000000e-03,   1.00000000e+00,   2.96000000e+02],\n",
       "       [  9.14000000e+00,   6.42100000e+00,   1.78000000e+01, ...,\n",
       "          2.73100000e-02,   2.00000000e+00,   2.42000000e+02],\n",
       "       [  4.03000000e+00,   7.18500000e+00,   1.78000000e+01, ...,\n",
       "          2.72900000e-02,   2.00000000e+00,   2.42000000e+02],\n",
       "       ..., \n",
       "       [  5.64000000e+00,   6.97600000e+00,   2.10000000e+01, ...,\n",
       "          6.07600000e-02,   1.00000000e+00,   2.73000000e+02],\n",
       "       [  6.48000000e+00,   6.79400000e+00,   2.10000000e+01, ...,\n",
       "          1.09590000e-01,   1.00000000e+00,   2.73000000e+02],\n",
       "       [  7.88000000e+00,   6.03000000e+00,   2.10000000e+01, ...,\n",
       "          4.74100000e-02,   1.00000000e+00,   2.73000000e+02]])"
      ]
     },
     "execution_count": 28,
     "metadata": {},
     "output_type": "execute_result"
    }
   ],
   "source": [
    "df_bos = pd.DataFrame(X, columns=colNames)\n",
    "forward = ForwardSelect(verbose=True)\n",
    "forward.fit_transform(df_bos, y)\n"
   ]
  },
  {
   "cell_type": "code",
   "execution_count": null,
   "metadata": {
    "collapsed": true
   },
   "outputs": [],
   "source": []
  }
 ],
 "metadata": {
  "hide_input": false,
  "kernelspec": {
   "display_name": "Python 3",
   "language": "python",
   "name": "python3"
  },
  "language_info": {
   "codemirror_mode": {
    "name": "ipython",
    "version": 3
   },
   "file_extension": ".py",
   "mimetype": "text/x-python",
   "name": "python",
   "nbconvert_exporter": "python",
   "pygments_lexer": "ipython3",
   "version": "3.6.3"
  },
  "latex_envs": {
   "LaTeX_envs_menu_present": true,
   "autoclose": false,
   "autocomplete": true,
   "bibliofile": "biblio.bib",
   "cite_by": "apalike",
   "current_citInitial": 1,
   "eqLabelWithNumbers": true,
   "eqNumInitial": 1,
   "hotkeys": {
    "equation": "Ctrl-E",
    "itemize": "Ctrl-I"
   },
   "labels_anchors": false,
   "latex_user_defs": false,
   "report_style_numbering": false,
   "user_envs_cfg": false
  },
  "toc": {
   "nav_menu": {},
   "number_sections": true,
   "sideBar": true,
   "skip_h1_title": false,
   "title_cell": "Table of Contents",
   "title_sidebar": "Contents",
   "toc_cell": false,
   "toc_position": {},
   "toc_section_display": true,
   "toc_window_display": false
  },
  "varInspector": {
   "cols": {
    "lenName": 16,
    "lenType": 16,
    "lenVar": 40
   },
   "kernels_config": {
    "python": {
     "delete_cmd_postfix": "",
     "delete_cmd_prefix": "del ",
     "library": "var_list.py",
     "varRefreshCmd": "print(var_dic_list())"
    },
    "r": {
     "delete_cmd_postfix": ") ",
     "delete_cmd_prefix": "rm(",
     "library": "var_list.r",
     "varRefreshCmd": "cat(var_dic_list()) "
    }
   },
   "types_to_exclude": [
    "module",
    "function",
    "builtin_function_or_method",
    "instance",
    "_Feature"
   ],
   "window_display": false
  }
 },
 "nbformat": 4,
 "nbformat_minor": 2
}
