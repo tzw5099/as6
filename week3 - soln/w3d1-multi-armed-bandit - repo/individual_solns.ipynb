{
 "cells": [
  {
   "cell_type": "markdown",
   "metadata": {},
   "source": [
    "# Multi-Arm Bandit Individual Solutions\n",
    "\n",
    "First we will do our standard imports..."
   ]
  },
  {
   "cell_type": "code",
   "execution_count": 2,
   "metadata": {
    "ExecuteTime": {
     "end_time": "2018-03-31T17:28:23.079734Z",
     "start_time": "2018-03-31T17:28:22.057294Z"
    },
    "collapsed": true
   },
   "outputs": [],
   "source": [
    "# Set up matplotlib to plot in this notebook\n",
    "%matplotlib inline\n",
    "import numpy as np\n",
    "import scipy.stats as scs\n",
    "import matplotlib.pyplot as plt\n",
    "\n",
    "# Make plots look nice\n",
    "plt.style.use('ggplot')"
   ]
  },
  {
   "cell_type": "markdown",
   "metadata": {},
   "source": [
    "### Question 1\n",
    "\n",
    "You'll find some click-through data in the `data` folder. There are two files, one for each version of the site.\n",
    "* the 0 refers to a visit without a conversion\n",
    "* the 1 refers to a visit with a conversion.\n",
    "\n",
    "Read in the data into python and store it in two arrays, one for each version of the site."
   ]
  },
  {
   "cell_type": "code",
   "execution_count": 3,
   "metadata": {
    "ExecuteTime": {
     "end_time": "2018-03-31T17:28:23.112514Z",
     "start_time": "2018-03-31T17:28:23.093240Z"
    },
    "collapsed": true
   },
   "outputs": [],
   "source": [
    "site_a = np.loadtxt('data/siteA.txt')\n",
    "site_b = np.loadtxt('data/siteB.txt')"
   ]
  },
  {
   "cell_type": "markdown",
   "metadata": {},
   "source": [
    "### Question 2\n",
    "\n",
    "We'll start by dealing with only the Site A data. We'd like to visualize our understanding of the CTR as the data streams in. Let's start with the uniform prior. So before we get any data, we will say that every probability of 0 to 1 is equally likely. We would like to plot our distribution.\n",
    "\n",
    "* To plot a continuous distribution, we need to make it discrete (since computers work that way). So we pick a large number of points to be our sample. In this case, take 100 points from 0 to 1 like this:\n",
    "\n",
    "    ```python\n",
    "    x = np.arange(0, 1.01, 0.01)\n",
    "    ```\n",
    "\n",
    "* Then use the `pdf` function for your distribution (which `scipy.stats` nicely has for us). In this case, since we're looking at the uniform distribution, we do the following.\n",
    "\n",
    "    ```python\n",
    "    y = scs.uniform.pdf(x)\n",
    "    ```\n",
    "\n",
    "* Now we can use `plt.plot` to plot the data. You can use this function to plot the distribution with it shaded in:\n",
    "\n",
    "    ```python\n",
    "    def plot_with_fill(x, y, label):\n",
    "        lines = plt.plot(x, y, label=label, lw=2)\n",
    "        plt.fill_between(x, 0, y, alpha=0.2, color=lines[0].get_c())\n",
    "    ```\n",
    "\n",
    "    Give it the label \"Prior\".\n",
    "\n",
    "* Do `plt.show()` to see the plot.\n",
    "\n",
    "* Did your \"Prior\" label show up? You probably also need to add a `plt.legend()` call (before `plt.show`)."
   ]
  },
  {
   "cell_type": "code",
   "execution_count": 4,
   "metadata": {
    "ExecuteTime": {
     "end_time": "2018-03-31T17:28:23.432360Z",
     "start_time": "2018-03-31T17:28:23.425994Z"
    },
    "collapsed": true
   },
   "outputs": [],
   "source": [
    "def plot_with_fill(x, y, label):\n",
    "    lines = plt.plot(x, y, label=label, lw=2)\n",
    "    plt.fill_between(x, 0, y, alpha=0.2, color=lines[0].get_c())\n",
    "    plt.legend(loc='best')"
   ]
  },
  {
   "cell_type": "code",
   "execution_count": 5,
   "metadata": {
    "ExecuteTime": {
     "end_time": "2018-03-31T17:28:24.107007Z",
     "start_time": "2018-03-31T17:28:23.918340Z"
    }
   },
   "outputs": [
    {
     "data": {
      "image/png": "[encoded data removed]",
      "text/plain": [
       "<matplotlib.figure.Figure at 0x108470898>"
      ]
     },
     "metadata": {},
     "output_type": "display_data"
    }
   ],
   "source": [
    "x = np.arange(0, 1.001, 0.001)\n",
    "y_prior = scs.uniform().pdf(x)\n",
    "plot_with_fill(x, y_prior, 'Prior')\n",
    "plt.xlabel('Click Through Rate');"
   ]
  },
  {
   "cell_type": "markdown",
   "metadata": {},
   "source": [
    "### Question 3\n",
    "\n",
    "We will be using a *beta* distribution to represent the distribution of *pA* (the CTR for site A). \n",
    "\n",
    "First, modify the above to use the beta distribution instead of the uniform distribution to verify to yourself that with parameters `alpha=1` and `beta=1`, the beta distribution *is* the uniform distribution."
   ]
  },
  {
   "cell_type": "code",
   "execution_count": 6,
   "metadata": {
    "ExecuteTime": {
     "end_time": "2018-03-31T17:28:25.448397Z",
     "start_time": "2018-03-31T17:28:25.239182Z"
    }
   },
   "outputs": [
    {
     "data": {
      "image/png": "[encoded data removed]",
      "text/plain": [
       "<matplotlib.figure.Figure at 0x1085070b8>"
      ]
     },
     "metadata": {},
     "output_type": "display_data"
    }
   ],
   "source": [
    "x = np.arange(0, 1.001, 0.001)\n",
    "y_prior = scs.beta(a=1, b=1).pdf(x)\n",
    "\n",
    "plot_with_fill(x, y_prior, 'Prior with Beta Distribution')\n",
    "plt.xlabel('Click Through Rate');"
   ]
  },
  {
   "cell_type": "markdown",
   "metadata": {},
   "source": [
    "As we can see, this is the exact same plot as using the uniform distribution above..."
   ]
  },
  {
   "cell_type": "markdown",
   "metadata": {},
   "source": [
    "### Question 4\n",
    "\n",
    "Consider the data of siteA for the first **50 views**. Draw a plot of the *posterior* after gathering this data. You should add the `alpha` parameter the number of conversions you've gotten. To the `beta` parameter, add the number of non-conversions you've gotten."
   ]
  },
  {
   "cell_type": "markdown",
   "metadata": {},
   "source": [
    "For this question, as well as other questions, let's define a function that let's us easily retrieve the `beta.pdf` of a given site."
   ]
  },
  {
   "cell_type": "code",
   "execution_count": 7,
   "metadata": {
    "ExecuteTime": {
     "end_time": "2018-03-31T17:28:27.956202Z",
     "start_time": "2018-03-31T17:28:27.949283Z"
    },
    "collapsed": true
   },
   "outputs": [],
   "source": [
    "def get_pdf(x, site):\n",
    "    ''' The function will return the pdf for a given beta distribution\n",
    "\n",
    "    Parameters\n",
    "    -----------\n",
    "    x : Array of x values\n",
    "    site : Array cooresponding to the site in question\n",
    "\n",
    "    Returns\n",
    "    --------\n",
    "    numpy array\n",
    "    '''\n",
    "    alpha = sum(site)\n",
    "    beta = len(site) - alpha\n",
    "    return scs.beta(a=alpha, b=beta).pdf(x)"
   ]
  },
  {
   "cell_type": "code",
   "execution_count": 8,
   "metadata": {
    "ExecuteTime": {
     "end_time": "2018-03-31T17:28:28.706205Z",
     "start_time": "2018-03-31T17:28:28.701067Z"
    },
    "collapsed": true
   },
   "outputs": [],
   "source": [
    "y_50a = get_pdf(x, site_a[:50])"
   ]
  },
  {
   "cell_type": "markdown",
   "metadata": {},
   "source": [
    "### Question 5\n",
    "\n",
    "Overlay this new plot on top of the previous one."
   ]
  },
  {
   "cell_type": "code",
   "execution_count": 9,
   "metadata": {
    "ExecuteTime": {
     "end_time": "2018-03-31T17:28:30.430945Z",
     "start_time": "2018-03-31T17:28:30.188108Z"
    }
   },
   "outputs": [
    {
     "data": {
      "image/png": "[encoded data removed]",
      "text/plain": [
       "<matplotlib.figure.Figure at 0x108518390>"
      ]
     },
     "metadata": {},
     "output_type": "display_data"
    }
   ],
   "source": [
    "plot_with_fill(x, y_prior, 'Prior')\n",
    "plot_with_fill(x, y_50a, 'Posterior After 50 Views')\n",
    "plt.title('Site A')\n",
    "plt.xlabel('Click Through Rate');"
   ]
  },
  {
   "cell_type": "markdown",
   "metadata": {},
   "source": [
    "### Question 6\n",
    "\n",
    "After 50 views, we're starting to hone in on our prediction of *pA*. Overlay on the same graph the posterior after 50 views, 100 views, 200 views, 400 views and finally all 800 views.\n",
    "\n",
    "You should see as time progresses that we get more certain of the true value of *pA*."
   ]
  },
  {
   "cell_type": "code",
   "execution_count": 10,
   "metadata": {
    "ExecuteTime": {
     "end_time": "2018-03-31T17:28:31.650746Z",
     "start_time": "2018-03-31T17:28:31.635317Z"
    },
    "collapsed": true
   },
   "outputs": [],
   "source": [
    "# Let's do this all in one step to make graphing this more managable\n",
    "views = [50, 100, 200, 400, 800]\n",
    "\n",
    "# Create our y_a for each view count in views\n",
    "y_a = [get_pdf(x, site_a[:view]) for view in views]\n",
    "\n",
    "# Create the labels for passing to the plot_with_fill function\n",
    "labels = ['Posterior After {} Views'.format(view) for view in views]"
   ]
  },
  {
   "cell_type": "code",
   "execution_count": 13,
   "metadata": {
    "ExecuteTime": {
     "end_time": "2018-03-31T17:28:58.910251Z",
     "start_time": "2018-03-31T17:28:58.679796Z"
    }
   },
   "outputs": [
    {
     "data": {
      "image/png": "[encoded data removed]",
      "text/plain": [
       "<matplotlib.figure.Figure at 0x108632828>"
      ]
     },
     "metadata": {},
     "output_type": "display_data"
    }
   ],
   "source": [
    "for y in (y_a):\n",
    "    plot_with_fill(x, y, label)"
   ]
  },
  {
   "cell_type": "code",
   "execution_count": 10,
   "metadata": {},
   "outputs": [
    {
     "data": {
      "image/png": "[encoded data removed]",
      "text/plain": [
       "<matplotlib.figure.Figure at 0x11533bf10>"
      ]
     },
     "metadata": {},
     "output_type": "display_data"
    }
   ],
   "source": [
    "# Now let's actually plot all these at once\n",
    "plot_with_fill(x, y_prior, 'Prior')\n",
    "for y, label in zip(y_a, labels):\n",
    "    plot_with_fill(x, y, label)\n",
    "plt.title('Site A')\n",
    "plt.xlabel('Click Through Rate')\n",
    "plt.xlim([0, 0.4]);"
   ]
  },
  {
   "cell_type": "markdown",
   "metadata": {},
   "source": [
    "### Question 7\n",
    "\n",
    "Now we should understand how we're using the beta distribution to represent the distribution of the possible values of *pA*. Make a graph that has the final distributions for both *pA* and *pB* after all 800 views.\n",
    "\n",
    "* You might want to use `plt.xlim` to change the limits of the x-axis so you can see the interesting part more clearly.\n",
    "\n",
    "* You can see that the majority of the time site B is better than site A, but there is a chance that site A is better."
   ]
  },
  {
   "cell_type": "code",
   "execution_count": 11,
   "metadata": {},
   "outputs": [
    {
     "data": {
      "image/png": "[encoded data removed]",
      "text/plain": [
       "<matplotlib.figure.Figure at 0x1154c52d0>"
      ]
     },
     "metadata": {},
     "output_type": "display_data"
    }
   ],
   "source": [
    "# First we want to determine y_a and y_b after 800 views\n",
    "y_a = get_pdf(x, site_a[:800])\n",
    "y_b = get_pdf(x, site_b[:800])\n",
    "\n",
    "# Let's plot each\n",
    "plot_with_fill(x, y_prior, 'Prior')\n",
    "plot_with_fill(x, y_a, 'A Posterior After 800 Views')\n",
    "plot_with_fill(x, y_b, 'B Posterior After 800 Views')\n",
    "\n",
    "# Now let's zoom in on just the portion of the graph we are concerned with\n",
    "plt.xlim(0, 0.3)\n",
    "plt.title('Site A Vs. Site B')\n",
    "plt.xlabel('Click Through Rate');"
   ]
  },
  {
   "cell_type": "markdown",
   "metadata": {},
   "source": [
    "### Question 8\n",
    "\n",
    "We now want to determine, given these distributions, what is the probability that site B is better than site A.\n",
    "\n",
    "We do this with a simulation. Draw 10,000 points from site A's beta distribution and 10,000 points from site B's distribution. Use either `scs.beta.rvs` or `np.random.beta` for this. I prefer numpy's version since you can give it the number of samples in the `size` parameter.\n",
    "\n",
    "You should get two arrays that look something like this:\n",
    "\n",
    "```python\n",
    "array([ 0.08609807,  0.05759121,  0.0581405 , ...,  0.07907663,\n",
    "        0.09122627,  0.0606501 ])\n",
    "```\n",
    "\n",
    "This is simulating 10,000 times of drawing from our distributions. Count the number of times that what we drew from site B's distribution is larger than what we drew from site A's distribution. Divide by 10,000 to get the percent likelihood that site B is better than site A."
   ]
  },
  {
   "cell_type": "code",
   "execution_count": 12,
   "metadata": {},
   "outputs": [
    {
     "name": "stdout",
     "output_type": "stream",
     "text": [
      "There is a 99.53% probability that Site B is better than Site A\n",
      "\n"
     ]
    }
   ],
   "source": [
    "# First let's take 10000 draws for each like so...\n",
    "a_sample = np.random.beta(a=sum(site_a), b=800-sum(site_a), size=10000)\n",
    "b_sample = np.random.beta(a=sum(site_b), b=800-sum(site_b), size=10000)\n",
    "\n",
    "# Now let's get the percentage of the time that the draw from Site B\n",
    "# is larger than the draw from Site A\n",
    "prob = (b_sample > a_sample).mean() * 100\n",
    "print(\n",
    "    'There is a {:.2f}% probability that Site B is better than Site A\\n'.format(prob))"
   ]
  },
  {
   "cell_type": "markdown",
   "metadata": {},
   "source": [
    "A reasonable question might be why did we choose 10,000?  \n",
    "\n",
    "The reason was simply that it was an arbitrarily large number of samples so we could get a good indication of the probability that Site B is better than Site A.  Changing this number to 100,000 or 1,000,000 should give an extremely similar result."
   ]
  },
  {
   "cell_type": "markdown",
   "metadata": {},
   "source": [
    "### Question 9\n",
    "\n",
    "An X% credible interval in a posterior distribution is analogous to a frequentist analysis's confidence intervals. One method of determining a credible interval is the highest density interval (HDI), which is the most dense interval of a posterior distribution containing X% of its mass. Another method is the equal-tailed interval, which is the interval containing X% of the posterior distribution's mass where the probability of being below the interval is as likely as being above it.\n",
    "\n",
    "Determine the 95% equal-tailed interval for site A's beta distribution using the simulations you just performed. (Hint: `SciPy.stats` has a percentile function called `ppf`.)"
   ]
  },
  {
   "cell_type": "code",
   "execution_count": 13,
   "metadata": {},
   "outputs": [
    {
     "name": "stdout",
     "output_type": "stream",
     "text": [
      "A's 95% HDI is 0.05008 to 0.08447\n",
      "B's 95% HDI is 0.08246 to 0.12442\n",
      "\n"
     ]
    }
   ],
   "source": [
    "# We first need to calculate the lower bound using scs.beta.ppf function\n",
    "lower_a = scs.beta(a=sum(site_a), b=800-sum(site_a)).ppf(0.025)\n",
    "# Let's now do the same for the upper bound\n",
    "upper_a = scs.beta(a=sum(site_a), b=800-sum(site_a)).ppf(0.975)\n",
    "print(\"A's 95% HDI is {:.5f} to {:.5f}\".format(lower_a, upper_a))\n",
    "\n",
    "# Let's now do the same for Site B\n",
    "lower_b = scs.beta(a=sum(site_b), b=800-sum(site_b)).ppf(0.025)\n",
    "upper_b = scs.beta(a=sum(site_b), b=800-sum(site_b)).ppf(0.975)\n",
    "print(\"B's 95% HDI is {:.5f} to {:.5f}\\n\".format(lower_b, upper_b))"
   ]
  },
  {
   "cell_type": "markdown",
   "metadata": {},
   "source": [
    "### Question 10\n",
    "\n",
    "A great thing about Bayesian A/B testing is that we can also answer the question, *What is the probability that site B is 2 percentage points better than site A*?\n",
    "\n",
    "* Here, instead of needing `B > A`, we need `B > A + 0.02`.\n",
    "\n",
    "* You should determine that we need more data to say this with confidence.\n",
    "\n",
    "* Note, when you compare `B > A` you can calculate a single probability that this occurs in the simulation, but you can also do something richer, like calculate the entire distribution of `B - A`. Plot a histogram of this quantity. Try `B-A-.02`. What distribution do the shape of these histograms suggest? Why? What shape does it take on if you only use one observation of site_b's data? Is this a problem?"
   ]
  },
  {
   "cell_type": "markdown",
   "metadata": {},
   "source": [
    "Let's first look at the first question in a similar manner to how we answered it before..."
   ]
  },
  {
   "cell_type": "code",
   "execution_count": 14,
   "metadata": {},
   "outputs": [
    {
     "name": "stdout",
     "output_type": "stream",
     "text": [
      "There is a 87.83% probability that Site B is 2% better than Site A\n",
      "\n"
     ]
    }
   ],
   "source": [
    "# Now let's get the percentage of the time that the draw from Site B is\n",
    "# larger than the draw from Site A using the samples we defined earlier\n",
    "prob = (b_sample > a_sample + 0.02).mean() * 100\n",
    "print(\n",
    "    'There is a {:.2f}% probability that Site B is 2% better than Site A\\n'.format(prob))"
   ]
  },
  {
   "cell_type": "markdown",
   "metadata": {},
   "source": [
    "Now this is a fairly high likelihood that Site B is 2% better than A, but this also completely depends on your tolerance for risk.  There is greater than a 1 in 10 chance that Site B **does not** perform 2% better than Site A.  To concretely make this conclusion we will need to collect more data."
   ]
  },
  {
   "cell_type": "code",
   "execution_count": 15,
   "metadata": {},
   "outputs": [
    {
     "data": {
      "image/png": "[encoded data removed]",
      "text/plain": [
       "<matplotlib.figure.Figure at 0x11536ab50>"
      ]
     },
     "metadata": {},
     "output_type": "display_data"
    }
   ],
   "source": [
    "# Now let's take a look at the histogram of the difference b/w B and A + 2%\n",
    "site_diff = b_sample - (a_sample + 0.02)\n",
    "plt.hist(site_diff, bins=20);"
   ]
  },
  {
   "cell_type": "markdown",
   "metadata": {},
   "source": [
    "### Question 11\n",
    "\n",
    "For a sanity check, see that you get similar results as you did in #8 using the frequentist approach. Which of the questions in #10 could you answer with a frequentist approach?\n",
    "\n",
    "$ H_0 $ = There is no difference in the CTR between site A and site B\n",
    "\n",
    "$ H_A $ = Site B has a higher CTR than site A\n",
    "\n",
    "Note that we divide the p-value returned by Scipy by 2 because by default it returns a p-value for a 2-tailed test and we are running a one-tail test"
   ]
  },
  {
   "cell_type": "code",
   "execution_count": 16,
   "metadata": {},
   "outputs": [
    {
     "name": "stdout",
     "output_type": "stream",
     "text": [
      "Frequentist Comparison of Site A and B\n",
      "We can reject null hypothesis. P-value: 0.00453867262865\n",
      "\n"
     ]
    }
   ],
   "source": [
    "# Let's first look at the difference between Site A and B\n",
    "print('Frequentist Comparison of Site A and B')\n",
    "t, p = scs.ttest_ind(site_a, site_b)\n",
    "if p/2 < 0.05:\n",
    "    print(\"We can reject null hypothesis. P-value: {}\\n\".format(p/2))\n",
    "else:\n",
    "    print(\"We cannot reject null hypothesis. P-value: {}\\n\".format(p/2))"
   ]
  },
  {
   "cell_type": "markdown",
   "metadata": {},
   "source": [
    "We would be able to answer the first question from #10 by adding 0.02 to every entry in the Site A results like so..."
   ]
  },
  {
   "cell_type": "code",
   "execution_count": 17,
   "metadata": {},
   "outputs": [
    {
     "name": "stdout",
     "output_type": "stream",
     "text": [
      "Is Site B 2% better than Site A?\n",
      "We cannot reject null hypothesis. P-value: 0.120878828199\n",
      "\n"
     ]
    }
   ],
   "source": [
    "# Now let's look whether B is 2% better than A\n",
    "print('Is Site B 2% better than Site A?')\n",
    "t, p = scs.ttest_ind(site_a + 0.02, site_b)\n",
    "if p/2 < 0.05:\n",
    "    print(\"We can reject null hypothesis. P-value: {}\\n\".format(p/2))\n",
    "else:\n",
    "    print(\"We cannot reject null hypothesis. P-value: {}\\n\".format(p/2))"
   ]
  },
  {
   "cell_type": "markdown",
   "metadata": {},
   "source": [
    "### Question 12 \n",
    "\n",
    "It's important to understand the business impact of your work as a data scientist. Imagine that your company is debating whether to switch to site B from site A. Assume the following:\n",
    "\n",
    "* the average click on site A yields $1.00 in profit \n",
    "\n",
    "* the average click on site B yields $1.05 in profit\n",
    "\n",
    "Should your company invest in switching to site B? Assume it is costly to do so, both in time and money. Explain. (**Hint**: The answer is not obvious.)"
   ]
  },
  {
   "cell_type": "code",
   "execution_count": 18,
   "metadata": {
    "collapsed": true
   },
   "outputs": [],
   "source": [
    "# Let's first find the expected values of each site\n",
    "expect_a = a_sample.mean()\n",
    "expect_b = b_sample.mean()"
   ]
  },
  {
   "cell_type": "code",
   "execution_count": 19,
   "metadata": {
    "collapsed": true
   },
   "outputs": [],
   "source": [
    "def expected_profit_difference(hits, expect_a, expect_b):\n",
    "    ''' Returns the expected profit from switching from A to B\n",
    "\n",
    "    Parameters\n",
    "    -----------\n",
    "    hits : int number of clicks you expect your site to recieve\n",
    "    expect_a : Expected value of Site A\n",
    "    expect_b : Expected value of Site B\n",
    "\n",
    "    Returns\n",
    "    --------\n",
    "    profit : float\n",
    "    '''\n",
    "    return expect_b * 1.05 * hits - expect_a * 1.00 * hits"
   ]
  },
  {
   "cell_type": "code",
   "execution_count": 20,
   "metadata": {},
   "outputs": [
    {
     "name": "stdout",
     "output_type": "stream",
     "text": [
      "Expected difference of $413.20 for 10000 hits\n",
      "Expected difference of $4131.98 for 100000 hits\n",
      "Expected difference of $41319.79 for 1000000 hits\n",
      "Expected difference of $413197.92 for 10000000 hits\n",
      "Expected difference of $4131979.22 for 100000000 hits\n",
      "Expected difference of $41319792.20 for 1000000000 hits\n"
     ]
    }
   ],
   "source": [
    "# Let's look at a wide range of possible hits\n",
    "hits = [10000 * 10**p for p in range(6)]\n",
    "diffs = [expected_profit_difference(hit, expect_a, expect_b) for hit in hits]\n",
    "for hit, diff in zip(hits, diffs):\n",
    "    print(\"Expected difference of ${:.2f} for {} hits\".format(diff, hit))"
   ]
  },
  {
   "cell_type": "markdown",
   "metadata": {},
   "source": [
    "The answer to this question is entirely dependent on business circumstances including how much it costs to implement Site B and how many clicks you would expect it to recieve after implementation?\n",
    "\n",
    "If it would cost a substantial amount of money to implement that change and you think that less than 1,000,000 people will click on it then it probably isn't worth the effort..."
   ]
  },
  {
   "cell_type": "code",
   "execution_count": null,
   "metadata": {
    "collapsed": true
   },
   "outputs": [],
   "source": []
  }
 ],
 "metadata": {
  "anaconda-cloud": {},
  "kernelspec": {
   "display_name": "Python 3",
   "language": "python",
   "name": "python3"
  },
  "language_info": {
   "codemirror_mode": {
    "name": "ipython",
    "version": 3
   },
   "file_extension": ".py",
   "mimetype": "text/x-python",
   "name": "python",
   "nbconvert_exporter": "python",
   "pygments_lexer": "ipython3",
   "version": "3.6.3"
  },
  "varInspector": {
   "cols": {
    "lenName": 16,
    "lenType": 16,
    "lenVar": 40
   },
   "kernels_config": {
    "python": {
     "delete_cmd_postfix": "",
     "delete_cmd_prefix": "del ",
     "library": "var_list.py",
     "varRefreshCmd": "print(var_dic_list())"
    },
    "r": {
     "delete_cmd_postfix": ") ",
     "delete_cmd_prefix": "rm(",
     "library": "var_list.r",
     "varRefreshCmd": "cat(var_dic_list()) "
    }
   },
   "types_to_exclude": [
    "module",
    "function",
    "builtin_function_or_method",
    "instance",
    "_Feature"
   ],
   "window_display": false
  }
 },
 "nbformat": 4,
 "nbformat_minor": 2
}
