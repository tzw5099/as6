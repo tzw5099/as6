{
 "cells": [
  {
   "cell_type": "code",
   "execution_count": 120,
   "metadata": {
    "ExecuteTime": {
     "end_time": "2018-03-31T17:24:09.834574Z",
     "start_time": "2018-03-31T17:24:09.689057Z"
    },
    "collapsed": true
   },
   "outputs": [],
   "source": [
    "# COLLAPSE CELL\n",
    "# PMsearch np.v*\n",
    "#x = data['mass']\n",
    "#x?\n",
    "\n",
    "# from jupyterthemes import jtplot\n",
    "# jtplot.style(theme='solarized')\n",
    "# from jupyterlab_table import JSONTable\n",
    "# JSONTable(df)\n",
    "\n",
    "from pprint import pprint\n",
    "import math\n",
    "import statsmodels.stats as sms\n",
    "import statsmodels.api as sm\n",
    "import scipy.stats as stats\n",
    "import pandas as pd\n",
    "import numpy as np\n",
    "import matplotlib.pyplot as plt\n",
    "import seaborn as sns\n",
    "sns.set(color_codes=True)\n",
    "\n",
    "# %load_ext heat\n",
    "\n",
    "plt.ion()\n",
    "# plt.ioff()\n",
    "\n",
    "# %heat\n",
    "\n",
    "import ATTEMPT_INDIVIDUAL_1 as ai\n",
    "from ATTEMPT_INDIVIDUAL_1 import *"
   ]
  },
  {
   "cell_type": "code",
   "execution_count": 121,
   "metadata": {
    "ExecuteTime": {
     "end_time": "2018-03-31T17:24:09.973931Z",
     "start_time": "2018-03-31T17:24:09.952254Z"
    },
    "collapsed": true
   },
   "outputs": [],
   "source": [
    "dfA=pd.read_csv('data/siteA.txt', sep=' ')"
   ]
  },
  {
   "cell_type": "code",
   "execution_count": null,
   "metadata": {
    "ExecuteTime": {
     "end_time": "2018-03-30T21:35:00.940889Z",
     "start_time": "2018-03-30T21:35:00.921371Z"
    },
    "collapsed": true
   },
   "outputs": [],
   "source": []
  },
  {
   "cell_type": "code",
   "execution_count": 122,
   "metadata": {
    "ExecuteTime": {
     "end_time": "2018-03-31T17:24:12.929565Z",
     "start_time": "2018-03-31T17:24:12.924534Z"
    },
    "collapsed": true
   },
   "outputs": [],
   "source": [
    "pA = dfA.mean() \n",
    "# 0.066333"
   ]
  },
  {
   "cell_type": "code",
   "execution_count": 123,
   "metadata": {
    "ExecuteTime": {
     "end_time": "2018-03-31T17:24:13.278113Z",
     "start_time": "2018-03-31T17:24:13.271869Z"
    },
    "collapsed": true
   },
   "outputs": [],
   "source": [
    "dfB=pd.read_csv('data/siteB.txt', sep=' ')\n",
    "pB = dfB.mean() \n",
    "# 0.102628"
   ]
  },
  {
   "cell_type": "code",
   "execution_count": 124,
   "metadata": {
    "ExecuteTime": {
     "end_time": "2018-03-31T17:24:13.305753Z",
     "start_time": "2018-03-31T17:24:13.288761Z"
    },
    "collapsed": true
   },
   "outputs": [],
   "source": [
    "x = np.arange(0, 1.01, 0.01)\n",
    "y = stats.uniform().pdf(x)"
   ]
  },
  {
   "cell_type": "code",
   "execution_count": 125,
   "metadata": {
    "ExecuteTime": {
     "end_time": "2018-03-31T17:24:13.508363Z",
     "start_time": "2018-03-31T17:24:13.499489Z"
    },
    "collapsed": true
   },
   "outputs": [],
   "source": [
    "def plot_with_fill(x, y, label):\n",
    "      lines = plt.plot(x, y, label=label, lw=2)\n",
    "      plt.fill_between(x, 0, y, alpha=0.2, color=lines[0].get_c())"
   ]
  },
  {
   "cell_type": "code",
   "execution_count": 126,
   "metadata": {
    "ExecuteTime": {
     "end_time": "2018-03-31T17:24:13.594183Z",
     "start_time": "2018-03-31T17:24:13.590251Z"
    },
    "collapsed": true
   },
   "outputs": [],
   "source": [
    "# plt.legend(\"Prior\")\n",
    "# plot_with_fill(x,y, \"Prior\")"
   ]
  },
  {
   "cell_type": "code",
   "execution_count": 127,
   "metadata": {
    "ExecuteTime": {
     "end_time": "2018-03-31T17:24:13.735715Z",
     "start_time": "2018-03-31T17:24:13.731668Z"
    },
    "collapsed": true
   },
   "outputs": [],
   "source": [
    "shape = (dfA).shape # (799, 1)\n",
    "# shape[0] = 799"
   ]
  },
  {
   "cell_type": "code",
   "execution_count": 128,
   "metadata": {
    "ExecuteTime": {
     "end_time": "2018-03-31T17:24:14.260365Z",
     "start_time": "2018-03-31T17:24:13.887410Z"
    }
   },
   "outputs": [
    {
     "data": {
      "image/png": "[encoded data removed]",
      "text/plain": [
       "<matplotlib.figure.Figure at 0x10d79a198>"
      ]
     },
     "metadata": {},
     "output_type": "display_data"
    }
   ],
   "source": [
    "df_a_50 = dfA['0'].head(50)\n",
    "df_b_50 = dfB['0'].head(50)\n",
    "\n",
    "a_dfA = sum(df_a_50)\n",
    "b_dfA = 50-sum(df_b_50)\n",
    "\n",
    "y_prior = stats.beta(a_dfA, b_dfA).pdf(x)\n",
    "\n",
    "y_b = stats.beta(x, y_prior).pdf(x)\n",
    "def plot_with_fill(x, y_prior, label):\n",
    "      lines = plt.plot(x, y_prior, label=label, lw=2)\n",
    "      plt.fill_between(x, 0, y_prior, alpha=0.2, color=lines[0].get_c())\n",
    "plt.legend(\"Prior\")\n",
    "plot_with_fill(x,y_prior, \"Prior\")"
   ]
  },
  {
   "cell_type": "code",
   "execution_count": 129,
   "metadata": {
    "ExecuteTime": {
     "end_time": "2018-03-31T17:24:14.347377Z",
     "start_time": "2018-03-31T17:24:14.342296Z"
    },
    "collapsed": true
   },
   "outputs": [],
   "source": [
    "views = [50, 100, 200, 400, 800]"
   ]
  },
  {
   "cell_type": "code",
   "execution_count": 130,
   "metadata": {
    "ExecuteTime": {
     "end_time": "2018-03-31T17:24:14.451907Z",
     "start_time": "2018-03-31T17:24:14.443300Z"
    }
   },
   "outputs": [
    {
     "data": {
      "text/plain": [
       "'\\ninputs:\\n    views\\n    dfA, dfB\\n'"
      ]
     },
     "execution_count": 130,
     "metadata": {},
     "output_type": "execute_result"
    }
   ],
   "source": [
    "'''\n",
    "inputs:\n",
    "    views\n",
    "    dfA, dfB\n",
    "'''\n",
    "    "
   ]
  },
  {
   "cell_type": "code",
   "execution_count": 131,
   "metadata": {
    "ExecuteTime": {
     "end_time": "2018-03-31T17:24:14.677746Z",
     "start_time": "2018-03-31T17:24:14.534922Z"
    }
   },
   "outputs": [
    {
     "ename": "AttributeError",
     "evalue": "module 'ATTEMPT_INDIVIDUAL_1' has no attribute 'beta_distribution'",
     "output_type": "error",
     "traceback": [
      "\u001b[0;31m---------------------------------------------------------------------------\u001b[0m",
      "\u001b[0;31mAttributeError\u001b[0m                            Traceback (most recent call last)",
      "\u001b[0;32m<ipython-input-131-07b4d4c3a505>\u001b[0m in \u001b[0;36m<module>\u001b[0;34m()\u001b[0m\n\u001b[0;32m----> 1\u001b[0;31m \u001b[0md_beta\u001b[0m \u001b[0;34m=\u001b[0m \u001b[0mai\u001b[0m\u001b[0;34m.\u001b[0m\u001b[0mbeta_distribution\u001b[0m\u001b[0;34m(\u001b[0m\u001b[0mviews\u001b[0m\u001b[0;34m,\u001b[0m \u001b[0mdfA\u001b[0m\u001b[0;34m,\u001b[0m \u001b[0mdfB\u001b[0m\u001b[0;34m)\u001b[0m\u001b[0;34m\u001b[0m\u001b[0m\n\u001b[0m\u001b[1;32m      2\u001b[0m \u001b[0;34m\u001b[0m\u001b[0m\n\u001b[1;32m      3\u001b[0m \u001b[0my_b\u001b[0m \u001b[0;34m=\u001b[0m \u001b[0mstats\u001b[0m\u001b[0;34m.\u001b[0m\u001b[0mbeta\u001b[0m\u001b[0;34m(\u001b[0m\u001b[0mx\u001b[0m\u001b[0;34m,\u001b[0m \u001b[0md_beta\u001b[0m\u001b[0;34m)\u001b[0m\u001b[0;34m.\u001b[0m\u001b[0mpdf\u001b[0m\u001b[0;34m(\u001b[0m\u001b[0mx\u001b[0m\u001b[0;34m)\u001b[0m\u001b[0;34m\u001b[0m\u001b[0m\n",
      "\u001b[0;31mAttributeError\u001b[0m: module 'ATTEMPT_INDIVIDUAL_1' has no attribute 'beta_distribution'"
     ]
    }
   ],
   "source": [
    "d_beta = ai.beta_distribution(views, dfA, dfB)\n",
    "\n",
    "y_b = stats.beta(x, d_beta).pdf(x)"
   ]
  },
  {
   "cell_type": "code",
   "execution_count": 132,
   "metadata": {
    "ExecuteTime": {
     "end_time": "2018-03-31T17:24:46.153505Z",
     "start_time": "2018-03-31T17:24:46.143443Z"
    }
   },
   "outputs": [
    {
     "ename": "AttributeError",
     "evalue": "module 'ATTEMPT_INDIVIDUAL_1' has no attribute 'beta_distribution'",
     "output_type": "error",
     "traceback": [
      "\u001b[0;31m---------------------------------------------------------------------------\u001b[0m",
      "\u001b[0;31mAttributeError\u001b[0m                            Traceback (most recent call last)",
      "\u001b[0;32m<ipython-input-132-5e463a4a1135>\u001b[0m in \u001b[0;36m<module>\u001b[0;34m()\u001b[0m\n\u001b[0;32m----> 1\u001b[0;31m \u001b[0mATTEMPT_INDIVIDUAL_1\u001b[0m\u001b[0;34m.\u001b[0m\u001b[0mbeta_distribution\u001b[0m\u001b[0;34m(\u001b[0m\u001b[0mviews\u001b[0m\u001b[0;34m,\u001b[0m\u001b[0mdfA\u001b[0m\u001b[0;34m,\u001b[0m\u001b[0mdfB\u001b[0m\u001b[0;34m)\u001b[0m\u001b[0;34m\u001b[0m\u001b[0m\n\u001b[0m",
      "\u001b[0;31mAttributeError\u001b[0m: module 'ATTEMPT_INDIVIDUAL_1' has no attribute 'beta_distribution'"
     ]
    }
   ],
   "source": [
    "ATTEMPT_INDIVIDUAL_1.beta_distribution(views,dfA,dfB)"
   ]
  },
  {
   "cell_type": "code",
   "execution_count": null,
   "metadata": {
    "collapsed": true
   },
   "outputs": [],
   "source": []
  },
  {
   "cell_type": "code",
   "execution_count": null,
   "metadata": {
    "collapsed": true
   },
   "outputs": [],
   "source": []
  },
  {
   "cell_type": "code",
   "execution_count": null,
   "metadata": {
    "collapsed": true
   },
   "outputs": [],
   "source": []
  }
 ],
 "metadata": {
  "kernelspec": {
   "display_name": "Python 3",
   "language": "python",
   "name": "python3"
  },
  "language_info": {
   "codemirror_mode": {
    "name": "ipython",
    "version": 3
   },
   "file_extension": ".py",
   "mimetype": "text/x-python",
   "name": "python",
   "nbconvert_exporter": "python",
   "pygments_lexer": "ipython3",
   "version": "3.6.3"
  },
  "varInspector": {
   "cols": {
    "lenName": 16,
    "lenType": 16,
    "lenVar": 40
   },
   "kernels_config": {
    "python": {
     "delete_cmd_postfix": "",
     "delete_cmd_prefix": "del ",
     "library": "var_list.py",
     "varRefreshCmd": "print(var_dic_list())"
    },
    "r": {
     "delete_cmd_postfix": ") ",
     "delete_cmd_prefix": "rm(",
     "library": "var_list.r",
     "varRefreshCmd": "cat(var_dic_list()) "
    }
   },
   "types_to_exclude": [
    "module",
    "function",
    "builtin_function_or_method",
    "instance",
    "_Feature"
   ],
   "window_display": false
  }
 },
 "nbformat": 4,
 "nbformat_minor": 2
}
