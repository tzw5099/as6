{
 "cells": [
  {
   "cell_type": "code",
   "execution_count": 50,
   "metadata": {
    "ExecuteTime": {
     "end_time": "2018-04-03T17:47:17.151272Z",
     "start_time": "2018-04-03T17:47:17.098716Z"
    },
    "code_folding": [],
    "collapsed": true
   },
   "outputs": [],
   "source": [
    "# COLLAPSE CELL\n",
    "# PMsearch np.v*\n",
    "#x = data['mass']\n",
    "#x?\n",
    "\n",
    "# from jupyterthemes import jtplot\n",
    "# jtplot.style(theme='solarized')\n",
    "# from jupyterlab_table import JSONTable\n",
    "# JSONTable(df)\n",
    "\n",
    "from pprint import pprint\n",
    "import math\n",
    "import statsmodels.stats as sms\n",
    "import statsmodels.api as sm\n",
    "import statsmodels.regression as smr\n",
    "import scipy.stats as stats\n",
    "import pandas as pd\n",
    "import numpy as np\n",
    "import matplotlib.pyplot as plt\n",
    "import seaborn as sns\n",
    "sns.set(color_codes=True)\n",
    "\n",
    "# 04atplotlib inline\n",
    "# %load_ext heat\n",
    "\n",
    "plt.ion()\n",
    "# plt.ioff()\n",
    "\n",
    "# %heat\n",
    "\n",
    "import os \n",
    "# dir_path = os.path.dirname(os.path.realpath(__file__))\n",
    "cwd = os.getcwd()\n",
    "\n",
    "# fig, ax = plt.subplots()\n",
    "# ax.plot(x, y)"
   ]
  },
  {
   "cell_type": "code",
   "execution_count": 51,
   "metadata": {
    "ExecuteTime": {
     "end_time": "2018-04-03T17:47:18.175805Z",
     "start_time": "2018-04-03T17:47:17.725591Z"
    },
    "code_folding": [
     7,
     23,
     26,
     29,
     37,
     43,
     68,
     101,
     113,
     122,
     143,
     162,
     178
    ],
    "collapsed": true
   },
   "outputs": [],
   "source": [
    "import scipy.stats as scs\n",
    "import numpy as np\n",
    "import random\n",
    "\n",
    "\n",
    "class ipyBanditStrategy(object):\n",
    "    '''\n",
    "    Implements a online, learning strategy to solve the Multi-Armed Bandit\n",
    "      problem.\n",
    "\n",
    "    Methods\n",
    "        --------\n",
    "        sample_bandits(n): sample and train on n pulls.\n",
    "\n",
    "        Attributes\n",
    "        -----------\n",
    "        N : the cumulative number of samples\n",
    "        choices : the historical choices as a (N,) array\n",
    "        bb_score: the historical score as a (N,) array\n",
    "        '''\n",
    "\n",
    "    def __init__(self, bandits, choice_function, seed=None, **kwargs):\n",
    "        '''\n",
    "        Initializes the BanditStrategy given an instance of the Bandits class\n",
    "          and a choice function.\n",
    "\n",
    "        Parameters\n",
    "            -----------\n",
    "            bandits : a Bandit class with .pull method\n",
    "            choice_function : str indicating the choice function or a custom\n",
    "                choice fuction accepting a self argument (which gives access to\n",
    "                all the BanditStrategy's attributes) which returns an int\n",
    "                between 0 and n-1\n",
    "                Accepted str inputs include 'max_mean', 'random_choice',\n",
    "                'epsilon_greedy', 'softmax', 'ucb1', and 'bayesian_bandit'\n",
    "            seed : int setting the random seed or None to not seed the random\n",
    "                number generator\n",
    "            Also supports passing keyword args which can be used in a\n",
    "                particular choice function.  Namely 'epsilon_greedy' accepts\n",
    "                epsilon=float and 'softmax' accepts tau=float\n",
    "                e.g. strat = BanditStrategy(bandits, 'epsilon_greedy',\n",
    "                  epsilon=0.1)\n",
    "        '''\n",
    "        choice_dict = {'max_mean': self._max_mean,\n",
    "                       'random_choice': self._random_choice,\n",
    "                       'epsilon_greedy': self._epsilon_greedy,\n",
    "                       'softmax': self._softmax,\n",
    "                       'ucb1': self._ucb1,\n",
    "                       'bayesian_bandit': self._bayesian_bandit}\n",
    "        self.bandits = bandits\n",
    "        n_bandits = len(self.bandits)\n",
    "        self.wins = np.zeros(n_bandits)\n",
    "        self.trials = np.zeros(n_bandits)\n",
    "        self.N = 0\n",
    "        self.choices = []\n",
    "        self.score = []\n",
    "        self.seed = seed\n",
    "        self._kwargs = kwargs\n",
    "        if isinstance(choice_function, str):\n",
    "            if choice_function in choice_dict:\n",
    "                self.choice_function = choice_dict[choice_function]\n",
    "            else:\n",
    "                raise ValueError(\"{0} not a valid choice function. Valid choices include {1}\".format(choice_function, choice_dict.keys()))\n",
    "        elif not hasattr(choice_function, '__call__'):\n",
    "            raise ValueError(\"{0} is not a valid input. Must be str or callable function accepting self\".format(choice_function))\n",
    "        else:\n",
    "            BanditStrategy.choice_function = choice_function\n",
    "\n",
    "    def sample_bandits(self, n=1):\n",
    "        ''' Simulate n rounds of running the bandit machine\n",
    "\n",
    "        Parameters\n",
    "        -----------\n",
    "        n : int number of rounds\n",
    "        '''\n",
    "        score = np.zeros(n)\n",
    "        choices = np.zeros(n)\n",
    "\n",
    "        # seed the random number generators so you get the same results every\n",
    "        # time.\n",
    "        if self.seed:\n",
    "            np.random.seed(self.seed)\n",
    "            random.seed(self.seed)\n",
    "\n",
    "        for k in range(n):\n",
    "            #sample from the bandits's priors, and select the largest sample\n",
    "            choice = self.choice_function()\n",
    "\n",
    "            #sample the chosen bandit\n",
    "            result = self.bandits.pull(choice)\n",
    "\n",
    "            #update priors and score\n",
    "            self.wins[choice] += result\n",
    "            self.trials[choice] += 1\n",
    "            score[k] = result\n",
    "            self.N += 1\n",
    "            choices[k] = choice\n",
    "\n",
    "        self.score = np.r_[self.score, score]\n",
    "        self.choices = np.r_[self.choices, choices]\n",
    "\n",
    "    def _max_mean(self):\n",
    "        ''' Pick the bandit with the current best observed proportion of winning\n",
    "\n",
    "        Returns\n",
    "        --------\n",
    "        int : index of the winning bandit\n",
    "        '''\n",
    "        # make sure to play each bandit at least once\n",
    "        if self.trials.min() == 0:\n",
    "            return np.argmin(self.trials)\n",
    "        return np.argmax(self.wins / self.trials)\n",
    "\n",
    "    def _random_choice(self):\n",
    "        ''' Pick a bandit uniformly at random\n",
    "\n",
    "        Returns\n",
    "        --------\n",
    "        int : index of the winning bandit\n",
    "        '''\n",
    "        return np.random.randint(0, len(self.wins))\n",
    "\n",
    "    def _epsilon_greedy(self):\n",
    "        '''\n",
    "        Pick a bandit uniformly at random epsilon percent of the time.\n",
    "        Otherwise pick the bandit with the best observed proportion of winning\n",
    "\n",
    "        Returns\n",
    "        --------\n",
    "        int : index of the winning bandit\n",
    "        '''\n",
    "        # Set default value of epsilon if not provided in init\n",
    "        epsilon = self._kwargs.get('epsilon', 0.1)\n",
    "\n",
    "        # Verify that we have attempted each bandit at least once\n",
    "        if self.trials.min() == 0:\n",
    "            return np.argmin(self.trials)\n",
    "        if random.random() < epsilon:\n",
    "            # Exploration\n",
    "            return np.random.randint(len(self.bandits))\n",
    "        else:\n",
    "            return np.argmax(self.wins / self.trials)\n",
    "\n",
    "    def _softmax(self):\n",
    "        ''' Pick an bandit according to the Boltzman Distribution\n",
    "\n",
    "        Returns\n",
    "        --------\n",
    "        int : index of the winning bandit\n",
    "        '''\n",
    "        # Set default value of tau if not provided in init\n",
    "        tau = self._kwargs.get('tau', 0.01)\n",
    "\n",
    "        # Verify that we have attempted each bandit at least once\n",
    "        if self.trials.min() == 0:\n",
    "            return np.argmin(self.trials)\n",
    "\n",
    "        mean = self.wins / self.trials\n",
    "        scaled = np.exp(mean / tau)\n",
    "        probs = scaled / np.sum(scaled)\n",
    "        return np.random.choice(range(0, len(self.bandits)), p=probs)\n",
    "\n",
    "    def _ucb1(self):\n",
    "        ''' Pick the bandit according to the UCB1 strategy\n",
    "\n",
    "        Returns\n",
    "        --------\n",
    "        int : index of the winning bandit\n",
    "        '''\n",
    "        # Verify that we have attempted each bandit at least once\n",
    "        if self.trials.min() == 0:\n",
    "            return np.argmin(self.trials)\n",
    "\n",
    "        means = self.wins / self.trials\n",
    "        confidence_bounds = np.sqrt((2. * np.log(self.N)) / self.trials)\n",
    "        upper_confidence_bounds = means + confidence_bounds\n",
    "        return np.argmax(upper_confidence_bounds)\n",
    "\n",
    "    def _bayesian_bandit(self):\n",
    "        '''\n",
    "        Randomly sample from a beta distribution for each bandit and pick\n",
    "        the one with the largest value\n",
    "\n",
    "        Returns\n",
    "        --------\n",
    "        int : index of the winning bandit\n",
    "        '''\n",
    "        samples = [np.random.beta(a=1 + wins, b=1 + trials - wins)\n",
    "                   for wins, trials in zip(self.wins, self.trials)]\n",
    "        return np.argmax(samples)\n"
   ]
  },
  {
   "cell_type": "code",
   "execution_count": 52,
   "metadata": {
    "ExecuteTime": {
     "end_time": "2018-04-03T17:47:18.452505Z",
     "start_time": "2018-04-03T17:47:18.448329Z"
    },
    "collapsed": true
   },
   "outputs": [],
   "source": [
    "from src.bandits import Bandits\n",
    "# from src.banditstrategy import BanditStrategy\n",
    "# from src.banditstrategy_attempt_1 import BanditStrategy"
   ]
  },
  {
   "cell_type": "code",
   "execution_count": 53,
   "metadata": {
    "ExecuteTime": {
     "end_time": "2018-04-03T17:47:19.016053Z",
     "start_time": "2018-04-03T17:47:19.011769Z"
    },
    "collapsed": true
   },
   "outputs": [],
   "source": [
    "prob_split = [0.05, 0.03, 0.2]"
   ]
  },
  {
   "cell_type": "code",
   "execution_count": 54,
   "metadata": {
    "ExecuteTime": {
     "end_time": "2018-04-03T17:47:19.386709Z",
     "start_time": "2018-04-03T17:47:19.352502Z"
    },
    "code_folding": [
     0
    ]
   },
   "outputs": [
    {
     "name": "stdout",
     "output_type": "stream",
     "text": [
      "Note: Default = splits evenly       |  Number of trials:  [371. 338. 291.]\n",
      "Note: Default = highest weight wins |  Number of wins:    [18.  5. 45.]\n",
      "Note: Should match your weights     |  Conversion rates:  [0.04851752 0.0147929  0.15463918]\n",
      "Note: Should be weighted average    |  A total of 68 wins of 1000 trials.\n"
     ]
    }
   ],
   "source": [
    "# random choice\n",
    "bandits = Bandits(prob_split)\n",
    "strat_rc = ipyBanditStrategy(bandits, 'random_choice')\n",
    "strat_rc.sample_bandits(1000)\n",
    "print(\"Note: Default = splits evenly       | \", \"Number of trials: \", strat_rc.trials) \n",
    "print(\"Note: Default = highest weight wins | \", \"Number of wins:   \", strat_rc.wins)\n",
    "print(\"Note: Should match your weights     | \", \"Conversion rates: \", strat_rc.wins / strat_rc.trials )\n",
    "print(\"Note: Should be weighted average    | \", \"A total of %d wins of %d trials.\" % \\\n",
    "    (strat_rc.wins.sum(), strat_rc.trials.sum()))\n",
    "\n"
   ]
  },
  {
   "cell_type": "code",
   "execution_count": 55,
   "metadata": {
    "ExecuteTime": {
     "end_time": "2018-04-03T17:47:19.605880Z",
     "start_time": "2018-04-03T17:47:19.567601Z"
    },
    "code_folding": [
     0
    ]
   },
   "outputs": [
    {
     "name": "stdout",
     "output_type": "stream",
     "text": [
      "Note: Default = splits evenly       |  Number of trials:  [998.   1.   1.]\n",
      "Note: Default = highest weight wins |  Number of wins:    [48.  0.  0.]\n",
      "Note: Should match your weights     |  Conversion rates:  [0.04809619 0.         0.        ]\n",
      "Note: Should be weighted average    |  A total of 48 wins of 1000 trials.\n"
     ]
    }
   ],
   "source": [
    "# max_mean\n",
    "bandits = Bandits(prob_split)\n",
    "strat_mm = ipyBanditStrategy(bandits, 'max_mean')\n",
    "strat_mm.sample_bandits(1000)\n",
    "print(\"Note: Default = splits evenly       | \", \"Number of trials: \", strat_mm.trials) \n",
    "print(\"Note: Default = highest weight wins | \", \"Number of wins:   \", strat_mm.wins)\n",
    "print(\"Note: Should match your weights     | \", \"Conversion rates: \", strat_mm.wins / strat_mm.trials )\n",
    "print(\"Note: Should be weighted average    | \", \"A total of %d wins of %d trials.\" % \\\n",
    "    (strat_mm.wins.sum(), strat_mm.trials.sum()))\n",
    "\n"
   ]
  },
  {
   "cell_type": "code",
   "execution_count": 56,
   "metadata": {
    "ExecuteTime": {
     "end_time": "2018-04-03T17:47:20.241467Z",
     "start_time": "2018-04-03T17:47:20.194590Z"
    },
    "code_folding": [
     0
    ],
    "scrolled": true
   },
   "outputs": [
    {
     "name": "stdout",
     "output_type": "stream",
     "text": [
      "Note: Default = splits evenly       |  Number of trials:  [ 67.  32. 901.]\n",
      "Note: Default = highest weight wins |  Number of wins:    [  3.   0. 178.]\n",
      "Note: Should match your weights     |  Conversion rates:  [0.04477612 0.         0.19755827]\n",
      "Note: Should be weighted average    |  A total of 181 wins of 1000 trials.\n"
     ]
    }
   ],
   "source": [
    "# epsilon_greedy\n",
    "bandits = Bandits(prob_split)\n",
    "strat_eg = ipyBanditStrategy(bandits, 'epsilon_greedy')\n",
    "strat_eg.sample_bandits(1000)\n",
    "print(\"Note: Default = splits evenly       | \", \"Number of trials: \", strat_eg.trials) \n",
    "print(\"Note: Default = highest weight wins | \", \"Number of wins:   \", strat_eg.wins)\n",
    "print(\"Note: Should match your weights     | \", \"Conversion rates: \", strat_eg.wins / strat_eg.trials )\n",
    "print(\"Note: Should be weighted average    | \", \"A total of %d wins of %d trials.\" % \\\n",
    "    (strat_eg.wins.sum(), strat_eg.trials.sum()))\n",
    "\n"
   ]
  },
  {
   "cell_type": "code",
   "execution_count": 57,
   "metadata": {
    "ExecuteTime": {
     "end_time": "2018-04-03T17:47:20.650341Z",
     "start_time": "2018-04-03T17:47:20.535874Z"
    },
    "code_folding": [
     0
    ]
   },
   "outputs": [
    {
     "name": "stdout",
     "output_type": "stream",
     "text": [
      "Note: Default = splits evenly       |  Number of trials:  [  1.   1. 998.]\n",
      "Note: Default = highest weight wins |  Number of wins:    [  0.   0. 206.]\n",
      "Note: Should match your weights     |  Conversion rates:  [0.         0.         0.20641283]\n",
      "Note: Should be weighted average    |  A total of 206 wins of 1000 trials.\n"
     ]
    }
   ],
   "source": [
    "# softmax\n",
    "bandits = Bandits(prob_split)\n",
    "strat_sm = ipyBanditStrategy(bandits, 'softmax')\n",
    "strat_sm.sample_bandits(1000)\n",
    "print(\"Note: Default = splits evenly       | \", \"Number of trials: \", strat_sm.trials) \n",
    "print(\"Note: Default = highest weight wins | \", \"Number of wins:   \", strat_sm.wins)\n",
    "print(\"Note: Should match your weights     | \", \"Conversion rates: \", strat_sm.wins / strat_sm.trials )\n",
    "print(\"Note: Should be weighted average    | \", \"A total of %d wins of %d trials.\" % \\\n",
    "    (strat_sm.wins.sum(), strat_sm.trials.sum()))\n",
    "\n"
   ]
  },
  {
   "cell_type": "code",
   "execution_count": 58,
   "metadata": {
    "ExecuteTime": {
     "end_time": "2018-04-03T17:47:20.822541Z",
     "start_time": "2018-04-03T17:47:20.746515Z"
    },
    "code_folding": [
     0
    ]
   },
   "outputs": [
    {
     "name": "stdout",
     "output_type": "stream",
     "text": [
      "Note: Default = splits evenly       |  Number of trials:  [ 24.  27. 949.]\n",
      "Note: Default = highest weight wins |  Number of wins:    [  0.   1. 188.]\n",
      "Note: Should match your weights     |  Conversion rates:  [0.         0.03703704 0.19810327]\n",
      "Note: Should be weighted average    |  A total of 189 wins of 1000 trials.\n"
     ]
    }
   ],
   "source": [
    "# bayesian bandit\n",
    "bandits = Bandits(prob_split)\n",
    "strat_bb = ipyBanditStrategy(bandits, 'bayesian_bandit')\n",
    "strat_bb.sample_bandits(1000)\n",
    "print(\"Note: Default = splits evenly       | \", \"Number of trials: \", strat_bb.trials) \n",
    "print(\"Note: Default = highest weight wins | \", \"Number of wins:   \", strat_bb.wins)\n",
    "print(\"Note: Should match your weights     | \", \"Conversion rates: \", strat_bb.wins / strat_bb.trials )\n",
    "print(\"Note: Should be weighted average    | \", \"A total of %d wins of %d trials.\" % \\\n",
    "    (strat_bb.wins.sum(), strat_bb.trials.sum()))\n",
    "\n"
   ]
  },
  {
   "cell_type": "code",
   "execution_count": 59,
   "metadata": {
    "ExecuteTime": {
     "end_time": "2018-04-03T17:47:20.954154Z",
     "start_time": "2018-04-03T17:47:20.944578Z"
    },
    "code_folding": [
     0
    ],
    "collapsed": true
   },
   "outputs": [],
   "source": [
    "# for i in dir(BanditStrategy):\n",
    "#    print (i,\"  \",type(getattr(BanditStrategy,i)))"
   ]
  },
  {
   "cell_type": "code",
   "execution_count": 60,
   "metadata": {
    "ExecuteTime": {
     "end_time": "2018-04-03T17:47:21.155960Z",
     "start_time": "2018-04-03T17:47:21.148795Z"
    },
    "collapsed": true
   },
   "outputs": [],
   "source": [
    "plt.style.use('ggplot')"
   ]
  },
  {
   "cell_type": "code",
   "execution_count": 61,
   "metadata": {
    "ExecuteTime": {
     "end_time": "2018-04-03T17:47:21.875330Z",
     "start_time": "2018-04-03T17:47:21.856651Z"
    },
    "collapsed": true
   },
   "outputs": [],
   "source": [
    "def sample_bandits(bandit_probs, choice_funcs, num_trials=1000, seed=42):\n",
    "    ''' Sample bandits a give number of times with every choice function\n",
    "    Print out the resulting number of wins for each choice strategy\n",
    "\n",
    "    Parameters\n",
    "    -----------\n",
    "    bandit_probs : Array of floats (0 to 1)\n",
    "        Indicates the underlying bandit probabilites\n",
    "    choice_funcs : Array or List of str\n",
    "        str indicating which choice functions to simulate\n",
    "    num_trials : int (default=1000)\n",
    "        Number of trials to conduct\n",
    "    seed : int or None (default=42)\n",
    "        Number to seed our BanditStrategy with for reproducibility\n",
    "    '''\n",
    "    print('True Bandit Probabilities: {}'.format(bandit_probs))\n",
    "    for func in choice_funcs:\n",
    "        bandits = Bandits(bandit_probs)\n",
    "        strat = BanditStrategy(bandits, func, seed)\n",
    "        strat.sample_bandits(num_trials)\n",
    "        print(\"\\t{} wins with {}\".format(strat.wins.sum(), func))\n",
    "    print('\\n')"
   ]
  },
  {
   "cell_type": "code",
   "execution_count": 67,
   "metadata": {
    "ExecuteTime": {
     "end_time": "2018-04-03T18:07:54.463131Z",
     "start_time": "2018-04-03T18:07:54.331545Z"
    }
   },
   "outputs": [
    {
     "name": "stdout",
     "output_type": "stream",
     "text": [
      "True Bandit Probabilities: [0.1, 0.1, 0.1, 0.1, 0.9]\n",
      "\t897.0 wins with max_mean\n",
      "\t263.0 wins with random_choice\n"
     ]
    },
    {
     "ename": "TypeError",
     "evalue": "list indices must be integers or slices, not NoneType",
     "output_type": "error",
     "traceback": [
      "\u001b[0;31m---------------------------------------------------------------------------\u001b[0m",
      "\u001b[0;31mTypeError\u001b[0m                                 Traceback (most recent call last)",
      "\u001b[0;32m<ipython-input-67-b431664cecc1>\u001b[0m in \u001b[0;36m<module>\u001b[0;34m()\u001b[0m\n\u001b[1;32m      6\u001b[0m \u001b[0;34m\u001b[0m\u001b[0m\n\u001b[1;32m      7\u001b[0m \u001b[0;32mfor\u001b[0m \u001b[0mprobs\u001b[0m \u001b[0;32min\u001b[0m \u001b[0mbandit_probs\u001b[0m\u001b[0;34m:\u001b[0m\u001b[0;34m\u001b[0m\u001b[0m\n\u001b[0;32m----> 8\u001b[0;31m     \u001b[0msample_bandits\u001b[0m\u001b[0;34m(\u001b[0m\u001b[0mprobs\u001b[0m\u001b[0;34m,\u001b[0m \u001b[0mchoice_functions\u001b[0m\u001b[0;34m)\u001b[0m\u001b[0;34m\u001b[0m\u001b[0m\n\u001b[0m",
      "\u001b[0;32m<ipython-input-61-cd859b76c84a>\u001b[0m in \u001b[0;36msample_bandits\u001b[0;34m(bandit_probs, choice_funcs, num_trials, seed)\u001b[0m\n\u001b[1;32m     18\u001b[0m         \u001b[0mbandits\u001b[0m \u001b[0;34m=\u001b[0m \u001b[0mBandits\u001b[0m\u001b[0;34m(\u001b[0m\u001b[0mbandit_probs\u001b[0m\u001b[0;34m)\u001b[0m\u001b[0;34m\u001b[0m\u001b[0m\n\u001b[1;32m     19\u001b[0m         \u001b[0mstrat\u001b[0m \u001b[0;34m=\u001b[0m \u001b[0mBanditStrategy\u001b[0m\u001b[0;34m(\u001b[0m\u001b[0mbandits\u001b[0m\u001b[0;34m,\u001b[0m \u001b[0mfunc\u001b[0m\u001b[0;34m,\u001b[0m \u001b[0mseed\u001b[0m\u001b[0;34m)\u001b[0m\u001b[0;34m\u001b[0m\u001b[0m\n\u001b[0;32m---> 20\u001b[0;31m         \u001b[0mstrat\u001b[0m\u001b[0;34m.\u001b[0m\u001b[0msample_bandits\u001b[0m\u001b[0;34m(\u001b[0m\u001b[0mnum_trials\u001b[0m\u001b[0;34m)\u001b[0m\u001b[0;34m\u001b[0m\u001b[0m\n\u001b[0m\u001b[1;32m     21\u001b[0m         \u001b[0mprint\u001b[0m\u001b[0;34m(\u001b[0m\u001b[0;34m\"\\t{} wins with {}\"\u001b[0m\u001b[0;34m.\u001b[0m\u001b[0mformat\u001b[0m\u001b[0;34m(\u001b[0m\u001b[0mstrat\u001b[0m\u001b[0;34m.\u001b[0m\u001b[0mwins\u001b[0m\u001b[0;34m.\u001b[0m\u001b[0msum\u001b[0m\u001b[0;34m(\u001b[0m\u001b[0;34m)\u001b[0m\u001b[0;34m,\u001b[0m \u001b[0mfunc\u001b[0m\u001b[0;34m)\u001b[0m\u001b[0;34m)\u001b[0m\u001b[0;34m\u001b[0m\u001b[0m\n\u001b[1;32m     22\u001b[0m     \u001b[0mprint\u001b[0m\u001b[0;34m(\u001b[0m\u001b[0;34m'\\n'\u001b[0m\u001b[0;34m)\u001b[0m\u001b[0;34m\u001b[0m\u001b[0m\n",
      "\u001b[0;32m<ipython-input-14-44d9aaf93c17>\u001b[0m in \u001b[0;36msample_bandits\u001b[0;34m(self, n)\u001b[0m\n\u001b[1;32m     88\u001b[0m \u001b[0;34m\u001b[0m\u001b[0m\n\u001b[1;32m     89\u001b[0m             \u001b[0;31m#sample the chosen bandit\u001b[0m\u001b[0;34m\u001b[0m\u001b[0;34m\u001b[0m\u001b[0m\n\u001b[0;32m---> 90\u001b[0;31m             \u001b[0mresult\u001b[0m \u001b[0;34m=\u001b[0m \u001b[0mself\u001b[0m\u001b[0;34m.\u001b[0m\u001b[0mbandits\u001b[0m\u001b[0;34m.\u001b[0m\u001b[0mpull\u001b[0m\u001b[0;34m(\u001b[0m\u001b[0mchoice\u001b[0m\u001b[0;34m)\u001b[0m\u001b[0;34m\u001b[0m\u001b[0m\n\u001b[0m\u001b[1;32m     91\u001b[0m \u001b[0;34m\u001b[0m\u001b[0m\n\u001b[1;32m     92\u001b[0m             \u001b[0;31m#update priors and score\u001b[0m\u001b[0;34m\u001b[0m\u001b[0;34m\u001b[0m\u001b[0m\n",
      "\u001b[0;32m~/Documents/dsi-solns-ermine/week3 - soln/w3d1-multi-armed-bandit - repo/src/bandits.py\u001b[0m in \u001b[0;36mpull\u001b[0;34m(self, i)\u001b[0m\n\u001b[1;32m     35\u001b[0m         \u001b[0mbool\u001b[0m \u001b[0mindicating\u001b[0m \u001b[0mwhether\u001b[0m \u001b[0mthe\u001b[0m \u001b[0mbandit\u001b[0m \u001b[0mreturned\u001b[0m \u001b[0ma\u001b[0m \u001b[0mreward\u001b[0m \u001b[0;32mor\u001b[0m \u001b[0;32mnot\u001b[0m\u001b[0;34m\u001b[0m\u001b[0m\n\u001b[1;32m     36\u001b[0m         '''\n\u001b[0;32m---> 37\u001b[0;31m         \u001b[0;32mreturn\u001b[0m \u001b[0mnp\u001b[0m\u001b[0;34m.\u001b[0m\u001b[0mrandom\u001b[0m\u001b[0;34m.\u001b[0m\u001b[0mrandom\u001b[0m\u001b[0;34m(\u001b[0m\u001b[0;34m)\u001b[0m \u001b[0;34m<\u001b[0m \u001b[0mself\u001b[0m\u001b[0;34m.\u001b[0m\u001b[0mp_array\u001b[0m\u001b[0;34m[\u001b[0m\u001b[0mi\u001b[0m\u001b[0;34m]\u001b[0m\u001b[0;34m\u001b[0m\u001b[0m\n\u001b[0m\u001b[1;32m     38\u001b[0m \u001b[0;34m\u001b[0m\u001b[0m\n\u001b[1;32m     39\u001b[0m     \u001b[0;32mdef\u001b[0m \u001b[0m__len__\u001b[0m\u001b[0;34m(\u001b[0m\u001b[0mself\u001b[0m\u001b[0;34m)\u001b[0m\u001b[0;34m:\u001b[0m\u001b[0;34m\u001b[0m\u001b[0m\n",
      "\u001b[0;31mTypeError\u001b[0m: list indices must be integers or slices, not NoneType"
     ]
    }
   ],
   "source": [
    "bandit_probs = [[0.1, 0.1, 0.1, 0.1, 0.9],\n",
    "                [0.1, 0.1, 0.1, 0.1, 0.12],\n",
    "                [0.1, 0.2, 0.3, 0.4, 0.5]]\n",
    "choice_functions = ['max_mean', 'random_choice',\n",
    "                    'epsilon_greedy', 'softmax', 'ucb1', 'bayesian_bandit']\n",
    "\n",
    "for probs in bandit_probs:\n",
    "    sample_bandits(probs, choice_functions)"
   ]
  },
  {
   "cell_type": "code",
   "execution_count": null,
   "metadata": {
    "collapsed": true
   },
   "outputs": [],
   "source": []
  },
  {
   "cell_type": "code",
   "execution_count": 27,
   "metadata": {
    "ExecuteTime": {
     "end_time": "2018-04-03T17:30:12.738301Z",
     "start_time": "2018-04-03T17:30:12.726397Z"
    }
   },
   "outputs": [
    {
     "data": {
      "text/plain": [
       "2.718281828459045"
      ]
     },
     "execution_count": 27,
     "metadata": {},
     "output_type": "execute_result"
    }
   ],
   "source": []
  },
  {
   "cell_type": "code",
   "execution_count": 6,
   "metadata": {
    "ExecuteTime": {
     "end_time": "2018-04-03T17:04:53.150833Z",
     "start_time": "2018-04-03T17:04:53.126040Z"
    },
    "collapsed": true
   },
   "outputs": [],
   "source": [
    "def regret(bandit_probs, choices):\n",
    "    '''\n",
    "    INPUT: array of floats (0 to 1), array of ints\n",
    "    OUTPUT: array of floats\n",
    "\n",
    "    Take an array of the true probabilities for each machine and an\n",
    "    array of the indices of the machine played at each round.\n",
    "    Return an array giving the total regret after each round.\n",
    "    '''\n",
    "    p_opt = np.max(probabilities)\n",
    "    return np.cumsum(p_opt - probabilities[choices])\n",
    "bandit_probs = [[0.1, 0.1, 0.1, 0.1, 0.9],\n",
    "                [0.1, 0.1, 0.1, 0.1, 0.12],\n",
    "                [0.1, 0.2, 0.3, 0.4, 0.5]]\n",
    "choices = strat.choices.astype(int)\n"
   ]
  }
 ],
 "metadata": {
  "hide_input": false,
  "kernelspec": {
   "display_name": "Python 3",
   "language": "python",
   "name": "python3"
  },
  "language_info": {
   "codemirror_mode": {
    "name": "ipython",
    "version": 3
   },
   "file_extension": ".py",
   "mimetype": "text/x-python",
   "name": "python",
   "nbconvert_exporter": "python",
   "pygments_lexer": "ipython3",
   "version": "3.6.3"
  },
  "latex_envs": {
   "LaTeX_envs_menu_present": true,
   "autoclose": false,
   "autocomplete": true,
   "bibliofile": "biblio.bib",
   "cite_by": "apalike",
   "current_citInitial": 1,
   "eqLabelWithNumbers": true,
   "eqNumInitial": 1,
   "hotkeys": {
    "equation": "Ctrl-E",
    "itemize": "Ctrl-I"
   },
   "labels_anchors": false,
   "latex_user_defs": false,
   "report_style_numbering": false,
   "user_envs_cfg": false
  },
  "toc": {
   "nav_menu": {},
   "number_sections": true,
   "sideBar": true,
   "skip_h1_title": false,
   "title_cell": "Table of Contents",
   "title_sidebar": "Contents",
   "toc_cell": false,
   "toc_position": {},
   "toc_section_display": true,
   "toc_window_display": false
  },
  "varInspector": {
   "cols": {
    "lenName": 16,
    "lenType": 16,
    "lenVar": 40
   },
   "kernels_config": {
    "python": {
     "delete_cmd_postfix": "",
     "delete_cmd_prefix": "del ",
     "library": "var_list.py",
     "varRefreshCmd": "print(var_dic_list())"
    },
    "r": {
     "delete_cmd_postfix": ") ",
     "delete_cmd_prefix": "rm(",
     "library": "var_list.r",
     "varRefreshCmd": "cat(var_dic_list()) "
    }
   },
   "types_to_exclude": [
    "module",
    "function",
    "builtin_function_or_method",
    "instance",
    "_Feature"
   ],
   "window_display": false
  }
 },
 "nbformat": 4,
 "nbformat_minor": 2
}
