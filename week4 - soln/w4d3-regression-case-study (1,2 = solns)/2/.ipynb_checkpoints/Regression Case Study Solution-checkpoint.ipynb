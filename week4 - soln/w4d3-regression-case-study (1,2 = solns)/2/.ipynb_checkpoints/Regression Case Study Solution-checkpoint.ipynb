{
 "cells": [
  {
   "cell_type": "markdown",
   "metadata": {},
   "source": [
    "# Import the things"
   ]
  },
  {
   "cell_type": "code",
   "execution_count": 28,
   "metadata": {
    "collapsed": true
   },
   "outputs": [],
   "source": [
    "import pandas as pd\n",
    "import numpy as np\n",
    "from sklearn.ensemble import RandomForestRegressor"
   ]
  },
  {
   "cell_type": "markdown",
   "metadata": {},
   "source": [
    "# Read the data"
   ]
  },
  {
   "cell_type": "code",
   "execution_count": 29,
   "metadata": {},
   "outputs": [],
   "source": [
    "df_train = pd.read_csv('data/Train.csv')\n",
    "df_test = pd.read_csv('data/test.csv')"
   ]
  },
  {
   "cell_type": "markdown",
   "metadata": {},
   "source": [
    "# Preprocess & Feature Engineer"
   ]
  },
  {
   "cell_type": "code",
   "execution_count": 30,
   "metadata": {},
   "outputs": [],
   "source": [
    "def preprocess(df):\n",
    "    df['sale_year'] = pd.to_datetime(df['saledate']).apply(lambda x: x.year)\n",
    "    df['age'] = df['sale_year'] - df['YearMade']\n",
    "\n",
    "preprocess(df_train)\n",
    "preprocess(df_test)"
   ]
  },
  {
   "cell_type": "code",
   "execution_count": 31,
   "metadata": {
    "collapsed": true
   },
   "outputs": [],
   "source": [
    "def preprocess2(df):\n",
    "    df = pd.concat([df, pd.get_dummies(df['UsageBand'])], axis=1)\n",
    "    return df\n",
    "\n",
    "df_train = preprocess2(df_train)\n",
    "df_test = preprocess2(df_test)"
   ]
  },
  {
   "cell_type": "markdown",
   "metadata": {},
   "source": [
    "# Train a Random Forest on only a few good features"
   ]
  },
  {
   "cell_type": "code",
   "execution_count": 42,
   "metadata": {},
   "outputs": [],
   "source": [
    "features = ['ModelID', 'YearMade', 'age'] #, 'MachineHoursCurrentMeter', 'datasource', 'Low', 'Medium', 'High']\n",
    "\n",
    "X_train, y_train = df_train[features].fillna(-1), df_train['SalePrice']\n",
    "\n",
    "model = RandomForestRegressor(50, n_jobs=2)\n",
    "model.fit(X_train, y_train)\n",
    "\n",
    "y_prediction = model.predict(df_test[features].fillna(-1))"
   ]
  },
  {
   "cell_type": "markdown",
   "metadata": {},
   "source": [
    "# Output our answers"
   ]
  },
  {
   "cell_type": "code",
   "execution_count": 43,
   "metadata": {
    "collapsed": true
   },
   "outputs": [],
   "source": [
    "df_output = pd.DataFrame({'SalePrice': y_prediction}, index=df_test['SalesID'])\n",
    "df_output.to_csv('answers.csv')"
   ]
  },
  {
   "cell_type": "markdown",
   "metadata": {},
   "source": [
    "# Notes"
   ]
  },
  {
   "cell_type": "markdown",
   "metadata": {},
   "source": [
    "\n",
    "|    features    | root mean squared log error |\n",
    "|---------|--------|\n",
    "| 'ModelID'    |      0.320080771128  |\n",
    "| 'ModelID', 'YearMade'  |     0.313296967127   |\n",
    "| 'ModelID', 'YearMade', 'age'    |      0.282919500352  |\n",
    "\n",
    "more features seem to just add noise..."
   ]
  },
  {
   "cell_type": "code",
   "execution_count": 44,
   "metadata": {},
   "outputs": [
    {
     "data": {
      "text/plain": [
       "4605     5039\n",
       "3538     4869\n",
       "3170     4315\n",
       "4604     4233\n",
       "3362     4083\n",
       "3537     3701\n",
       "3171     3442\n",
       "4603     3402\n",
       "3357     3216\n",
       "3178     3139\n",
       "9550     2848\n",
       "3112     2629\n",
       "3854     2486\n",
       "4579     2453\n",
       "3542     2434\n",
       "4147     2405\n",
       "6788     2379\n",
       "7277     2266\n",
       "9551     2066\n",
       "4146     2010\n",
       "7110     1988\n",
       "4124     1915\n",
       "4123     1851\n",
       "3877     1839\n",
       "7057     1823\n",
       "7008     1782\n",
       "1169     1685\n",
       "6633     1603\n",
       "23931    1596\n",
       "4991     1555\n",
       "         ... \n",
       "12734       1\n",
       "15547       1\n",
       "21426       1\n",
       "14115       1\n",
       "28750       1\n",
       "28019       1\n",
       "16319       1\n",
       "16561       1\n",
       "25385       1\n",
       "25013       1\n",
       "15225       1\n",
       "25458       1\n",
       "22901       1\n",
       "22830       1\n",
       "24873       1\n",
       "10528       1\n",
       "22391       1\n",
       "26550       1\n",
       "23883       1\n",
       "15994       1\n",
       "36010       1\n",
       "15548       1\n",
       "14114       1\n",
       "36266       1\n",
       "3770        1\n",
       "36460       1\n",
       "28598       1\n",
       "15907       1\n",
       "25264       1\n",
       "17288       1\n",
       "Name: ModelID, dtype: int64"
      ]
     },
     "execution_count": 44,
     "metadata": {},
     "output_type": "execute_result"
    }
   ],
   "source": [
    "df_train['ModelID'].value_counts()"
   ]
  },
  {
   "cell_type": "code",
   "execution_count": null,
   "metadata": {
    "collapsed": true
   },
   "outputs": [],
   "source": []
  }
 ],
 "metadata": {
  "hide_input": false,
  "kernelspec": {
   "display_name": "Python 3",
   "language": "python",
   "name": "python3"
  },
  "language_info": {
   "codemirror_mode": {
    "name": "ipython",
    "version": 3
   },
   "file_extension": ".py",
   "mimetype": "text/x-python",
   "name": "python",
   "nbconvert_exporter": "python",
   "pygments_lexer": "ipython3",
   "version": "3.6.3"
  },
  "latex_envs": {
   "LaTeX_envs_menu_present": true,
   "autoclose": false,
   "autocomplete": true,
   "bibliofile": "biblio.bib",
   "cite_by": "apalike",
   "current_citInitial": 1,
   "eqLabelWithNumbers": true,
   "eqNumInitial": 1,
   "hotkeys": {
    "equation": "Ctrl-E",
    "itemize": "Ctrl-I"
   },
   "labels_anchors": false,
   "latex_user_defs": false,
   "report_style_numbering": false,
   "user_envs_cfg": false
  },
  "toc": {
   "nav_menu": {},
   "number_sections": true,
   "sideBar": true,
   "skip_h1_title": false,
   "title_cell": "Table of Contents",
   "title_sidebar": "Contents",
   "toc_cell": false,
   "toc_position": {},
   "toc_section_display": true,
   "toc_window_display": false
  },
  "varInspector": {
   "cols": {
    "lenName": 16,
    "lenType": 16,
    "lenVar": 40
   },
   "kernels_config": {
    "python": {
     "delete_cmd_postfix": "",
     "delete_cmd_prefix": "del ",
     "library": "var_list.py",
     "varRefreshCmd": "print(var_dic_list())"
    },
    "r": {
     "delete_cmd_postfix": ") ",
     "delete_cmd_prefix": "rm(",
     "library": "var_list.r",
     "varRefreshCmd": "cat(var_dic_list()) "
    }
   },
   "types_to_exclude": [
    "module",
    "function",
    "builtin_function_or_method",
    "instance",
    "_Feature"
   ],
   "window_display": false
  }
 },
 "nbformat": 4,
 "nbformat_minor": 1
}
