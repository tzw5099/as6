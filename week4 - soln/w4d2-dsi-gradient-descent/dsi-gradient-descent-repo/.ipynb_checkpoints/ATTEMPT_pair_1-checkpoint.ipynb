{
 "cells": [
  {
   "cell_type": "code",
   "execution_count": 1,
   "metadata": {
    "ExecuteTime": {
     "end_time": "2018-04-05T22:06:58.297898Z",
     "start_time": "2018-04-05T22:06:56.499137Z"
    },
    "code_folding": [],
    "collapsed": true
   },
   "outputs": [
    {
     "name": "stderr",
     "output_type": "stream",
     "text": [
      "/Users/tomwong/anaconda3/lib/python3.6/site-packages/statsmodels/compat/pandas.py:56: FutureWarning: The pandas.core.datetools module is deprecated and will be removed in a future version. Please use the pandas.tseries module instead.\n",
      "  from pandas.core import datetools\n"
     ]
    }
   ],
   "source": [
    "# COLLAPSE CELL\n",
    "# PMsearch np.v*\n",
    "#x = data['mass']\n",
    "#x?\n",
    "\n",
    "# from jupyterthemes import jtplot\n",
    "# jtplot.style(theme='solarized')\n",
    "# from jupyterlab_table import JSONTable\n",
    "# JSONTable(df)\n",
    "\n",
    "# from IPython.display import HTML, display\n",
    "\n",
    "from sklearn.linear_model import LinearRegression, Ridge, Lasso\n",
    "from sklearn.model_selection import train_test_split, KFold, cross_val_score\n",
    "from sklearn.metrics import mean_squared_error\n",
    "\n",
    "from pprint import pprint\n",
    "import math\n",
    "import statsmodels.stats as sms\n",
    "import statsmodels.api as sm\n",
    "import statsmodels.regression as smr\n",
    "import scipy.stats as stats\n",
    "import pandas as pd\n",
    "import numpy as np\n",
    "import matplotlib.pyplot as plt\n",
    "import seaborn as sns\n",
    "sns.set(color_codes=True)\n",
    "\n",
    "# 04atplotlib inline\n",
    "# %load_ext heat\n",
    "\n",
    "plt.ion()\n",
    "# plt.ioff()\n",
    "\n",
    "# %heat\n",
    "\n",
    "import os \n",
    "# dir_path = os.path.dirname(os.path.realpath(__file__))\n",
    "cwd = os.getcwd()\n",
    "\n",
    "# fig, ax = plt.subplots()\n",
    "# ax.plot(x, y)"
   ]
  },
  {
   "cell_type": "markdown",
   "metadata": {},
   "source": [
    "#### Gradient Descent\n",
    "We will be implementing logistic regression using the gradient descent algorithm.\n",
    "\n",
    "#### References:\n",
    "* [Andrew Ng's Machine Learning Lecture Notes](https://see.stanford.edu/materials/aimlcs229/cs229-notes1.pdf)\n",
    "\n",
    "#### Notes on Implementing Gradient Descent:\n",
    "* Implementing gradient descent can lead to challenging debugging. Make sure you implement your algorithm using very simple pieces (functions or methods) which you then combine into the full algorithm.  This allows you to check the correctness of the individual functions, which makes mistakes easier to track down. You may also try computing values by hand for a really simple example (1 feature, 2 data points) and make sure that your methods are getting the same values.\n",
    "* Numpy is your friend. Use the power of it! There should only be one loop in\n",
    "your code (in `fit`). You should never have to loop over a numpy array. See the\n",
    "numpy [tutorial](https://docs.scipy.org/doc/numpy-dev/user/quickstart.html) and\n",
    "[documentation](http://docs.scipy.org/doc/).\n"
   ]
  },
  {
   "cell_type": "code",
   "execution_count": 2,
   "metadata": {
    "ExecuteTime": {
     "end_time": "2018-04-05T22:06:58.379620Z",
     "start_time": "2018-04-05T22:06:58.328781Z"
    },
    "collapsed": true
   },
   "outputs": [],
   "source": [
    "from sklearn.datasets import make_classification"
   ]
  },
  {
   "cell_type": "code",
   "execution_count": 3,
   "metadata": {
    "ExecuteTime": {
     "end_time": "2018-04-05T22:06:58.727122Z",
     "start_time": "2018-04-05T22:06:58.719455Z"
    },
    "collapsed": true
   },
   "outputs": [],
   "source": [
    "X, y = make_classification(n_samples=100,\n",
    "                            n_features=2,\n",
    "                            n_informative=2,\n",
    "                            n_redundant=0,\n",
    "                            n_classes=2,\n",
    "                            random_state=0)"
   ]
  },
  {
   "cell_type": "code",
   "execution_count": null,
   "metadata": {
    "ExecuteTime": {
     "end_time": "2018-04-05T21:56:31.204793Z",
     "start_time": "2018-04-05T21:56:31.189714Z"
    },
    "collapsed": true
   },
   "outputs": [],
   "source": []
  },
  {
   "cell_type": "code",
   "execution_count": 4,
   "metadata": {
    "ExecuteTime": {
     "end_time": "2018-04-05T22:06:59.804848Z",
     "start_time": "2018-04-05T22:06:59.796917Z"
    },
    "collapsed": true
   },
   "outputs": [],
   "source": [
    "def plot_X(X, y):\n",
    "    # https://stackoverflow.com/questions/4455076/how-to-access-the-ith-column-of-a-numpy-multidimensional-array\n",
    "    # X[0]\n",
    "    colors = np.array([\"red\", \"blue\"])[y]\n",
    "    x1 = X[:,0]\n",
    "    x2 = X[:,1]\n",
    "    plt.scatter(x1,x2, color=colors)\n"
   ]
  },
  {
   "cell_type": "code",
   "execution_count": 5,
   "metadata": {
    "ExecuteTime": {
     "end_time": "2018-04-05T22:07:00.496780Z",
     "start_time": "2018-04-05T22:07:00.284440Z"
    }
   },
   "outputs": [
    {
     "data": {
      "image/png": "[encoded data removed]",
      "text/plain": [
       "<matplotlib.figure.Figure at 0x114077358>"
      ]
     },
     "metadata": {},
     "output_type": "display_data"
    }
   ],
   "source": [
    "plot_X(X,y)\n",
    "# (-3,-3)(1,2)"
   ]
  },
  {
   "cell_type": "markdown",
   "metadata": {
    "ExecuteTime": {
     "end_time": "2018-04-05T21:47:58.193102Z",
     "start_time": "2018-04-05T21:47:57.971434Z"
    }
   },
   "source": [
    "## Part 2: Cost function\n",
    "\n",
    "In order to be able to evaluate if our gradient descent algorithm is working\n",
    "correctly, we will need to be able to calculate the cost.\n",
    "\n",
    "Recall the log likelihood function for logistic regression. Our goal is to *maximize* this value.\n",
    "\n",
    "![Cost Function](images/likelihood.png)\n",
    "<!--\n",
    "\\ell(\\boldsymbol\\beta) = \\sum_{i=1}^{n} y_i \\log ( h(\\mathbf{x_i}) ) + (1-y_i) \\log (1 - h(\\mathbf{x_i}))\n",
    "-->\n",
    "\n",
    "Recall that the hypothesis function *h* is defined as follows:\n",
    "#### NOTE: Image = not perfect. Exponent should be (sum_j=0_to_m of B_j * X_ij). In other words, matrix mult the coeff and X\n",
    "![hypothesis](images/hypothesis.png)\n",
    "<!--\n",
    "h(\\mathbf{x_i}) = \\frac{1}{1+e^{-\\boldsymbol\\beta\\mathbf{x_i}}}\n",
    "-->\n",
    "\n",
    "Since we will be implemented Gradient *Descent*, which *minimizes* a function, we'll look at the cost function below, which is just the negation of the log likelihood function above.\n",
    "\n",
    "![cost function](images/cost.png)\n",
    "<!--\n",
    "J(\\boldsymbol\\beta) = - \\sum_{i=1}^{n} y_i \\log ( h(\\mathbf{x_i}) ) + (1-y_i) \\log (1 - h(\\mathbf{x_i}))\n",
    "-->\n",
    "\n",
    "The gradient of the cost function is as follows:\n",
    "![gradient](images/gradient.png)\n",
    "<!--\n",
    "\\nabla J(\\boldsymbol\\beta) =\n",
    "\\left[\n",
    "\\frac\\partial{\\partial\\beta_1}J(\\boldsymbol\\beta),\n",
    "\\frac\\partial{\\partial\\beta_2}J(\\boldsymbol\\beta),\n",
    "\\ldots,\n",
    "\\frac\\partial{\\partial\\beta_p}J(\\boldsymbol\\beta)\n",
    "\\right]\n",
    "-->\n",
    "\n",
    "Each partial derivative will be computed as follows:\n",
    "\n",
    "![partial](images/partial.png)\n",
    "<!--\n",
    "\\frac\\partial{\\partial\\beta_j}J(\\boldsymbol\\beta) =\n",
    "\\sum_{i=1}^n \\left( h(\\mathbf{x_i}) - y_i \\right ) x_{ij}\n",
    "-->\n",
    "\n",
    "1. To verify that your implementations are correct, compute the following _by hand_. Of course, you can use a calculator/google/wolfram alpha/python.\n",
    "\n",
    "|        Order       | feature 1 | feature 2 |   y |\n",
    "| ----------------- | --------: | --------: | --: |\n",
    "| **x<sub>1</sub>** |         0 |         1 |   1 |\n",
    "| **x<sub>2</sub>** |         2 |         2 |   0 |\n",
    "| **x<sub>3</sub>** |         3 |         0 |   0 |\n",
    "\n",
    "    1. Using the data above, compute the **value of the cost function**. Initialize your coefficients:\n",
    "    β<sub>1</sub> =1, β<sub>2</sub> =1.\n",
    "    \n",
    "        Hint: you will use\n",
    "        (β<sub>1</sub>x<sub>1,1</sub> + β<sub>2</sub>x<sub>1,2</sub>)\n",
    "        while computing your hypothesis function for the first data point.\n",
    "    \n",
    "    2. Using the data above, compute the **gradient of the cost function**.\n",
    "    \n",
    "\n",
    "2. In `logistic_regression_functions.py`, implement `predict_proba` and `predict` functions. `predict_proba` will calculate the result of `h(x)` for the given coefficients. This returns float values between 0 and 1, which should be interpreted as conditional probabilities. `predict` will round these values so that you get a prediction of either 0 or 1. An optional argument is provided for the threshold, which is defaulted to `0.5`.  **Note:** The names of these functions were chosen to align with `sklearn`'s conventions.\n",
    "\n",
    "3. In `logistic_regression_functions.py`, implement `cost` and `gradient`. You should be able to use the `predict_proba` function you implemented above. Make sure to check that you get the same values as you computed above.\n",
    "\n",
    "    In a terminal, you should be able to run your function like this:\n",
    "\n",
    "    ```python\n",
    "    import logistic_regression_functions as f\n",
    "    import numpy as np\n",
    "    X = np.array([[0, 1], [2, 2], [3, 0]])\n",
    "    y = np.array([1, 0, 0])\n",
    "    coeffs = np.array([1, 1])\n",
    "    f.cost(X, y, coeffs)\n",
    "    ```\n",
    "\n",
    "    Make sure to do `reload(f)` if you make changes to your code."
   ]
  },
  {
   "cell_type": "code",
   "execution_count": 8,
   "metadata": {
    "ExecuteTime": {
     "end_time": "2018-04-05T22:09:26.854848Z",
     "start_time": "2018-04-05T22:09:26.848028Z"
    },
    "collapsed": true
   },
   "outputs": [
    {
     "data": {
      "text/plain": [
       "'\\n    |                   | feature 1 | feature 2 |   y |\\n    | ----------------- | --------: | --------: | --: |\\n    | **x<sub>1</sub>** |         0 |         1 |   1 |\\n    | **x<sub>2</sub>** |         2 |         2 |   0 |\\n    | **x<sub>3</sub>** |         3 |         0 |   0 |\\n'"
      ]
     },
     "execution_count": 8,
     "metadata": {},
     "output_type": "execute_result"
    }
   ],
   "source": [
    "'''\n",
    "    |                   | feature 1 | feature 2 |   y |\n",
    "    | ----------------- | --------: | --------: | --: |\n",
    "    | **x<sub>1</sub>** |         0 |         1 |   1 |\n",
    "    | **x<sub>2</sub>** |         2 |         2 |   0 |\n",
    "    | **x<sub>3</sub>** |         3 |         0 |   0 |\n",
    "'''"
   ]
  },
  {
   "cell_type": "code",
   "execution_count": null,
   "metadata": {
    "ExecuteTime": {
     "end_time": "2018-04-05T22:17:57.927160Z",
     "start_time": "2018-04-05T22:17:57.469453Z"
    }
   },
   "outputs": [],
   "source": [
    "# import logistic_regression_functions as lrf"
   ]
  },
  {
   "cell_type": "code",
   "execution_count": 78,
   "metadata": {
    "ExecuteTime": {
     "end_time": "2018-04-05T23:10:56.450658Z",
     "start_time": "2018-04-05T23:10:56.346330Z"
    },
    "collapsed": true
   },
   "outputs": [],
   "source": [
    "\n",
    "def predict_proba(X, coeffs):\n",
    "    \"\"\"Calculate the predicted conditional probabilities (floats between 0 and\n",
    "    1) for the given data with the given coefficients.\n",
    "\n",
    "    Parameters\n",
    "    ----------\n",
    "    X: A 2 dimensional numpy array.  The data (independent variables) to use\n",
    "        for prediction.\n",
    "    coeffs: A 1 dimensional numpy array, the hypothesized coefficients.  Note\n",
    "        that the shape of X and coeffs must align.\n",
    "\n",
    "    Returns\n",
    "    -------\n",
    "    predicted_probabilities: The conditional probabilities from the logistic\n",
    "        hypothesis function given the data and coefficients.\n",
    "\n",
    "    \"\"\"\n",
    "    linear_predictor = np.dot(X, coeffs)\n",
    "    denom = 1 + np.exp(-linear_predictor)\n",
    "    return 1 / denom\n",
    "\n",
    "\n",
    "def predict(X, coeffs, thresh=0.5):\n",
    "    \"\"\"\n",
    "    Calculate the predicted class labels (0 or 1) for the given data with the\n",
    "    given coefficients by comparing the predicted probabilities to a given\n",
    "    threshold.\n",
    "\n",
    "    Parameters\n",
    "    ----------\n",
    "    X: A 2 dimensional numpy array.  The data (independent variables) to use\n",
    "        for prediction.\n",
    "    coeffs: A 1 dimensional numpy array, the hypothesized coefficients.  Note\n",
    "        that the shape of X and coeffs must align.\n",
    "    thresh: Threshold for comparison of probabilities.\n",
    "\n",
    "    Returns\n",
    "    -------\n",
    "    predicted_class: The predicted class.\n",
    "    \"\"\"\n",
    "    probs = predict_proba(X, coeffs)\n",
    "    return probs >= thresh\n",
    "\n",
    "\n",
    "def cost(X, y, coeffs, lam=0.0, has_intercept=True):\n",
    "    \"\"\"\n",
    "    Calculate the logistic cost function of the data with the given\n",
    "    coefficients.\n",
    "\n",
    "    Parameters\n",
    "    ----------\n",
    "    X: A 2 dimensional numpy array.  The data (independent variables) to use\n",
    "        for prediction.\n",
    "    y: A 1 dimensional numpy array.  The actual class values of the response.\n",
    "        Must be encoded as 0's and 1's.  Also, must align properly with X and\n",
    "        coeffs.\n",
    "    coeffs: A 1 dimensional numpy array, the hypothesized coefficients.  Note\n",
    "        that the shape of X, y, and coeffs must align.\n",
    "\n",
    "    Returns\n",
    "    -------\n",
    "    logistic_cost: The computed logistic cost.\n",
    "    \"\"\"\n",
    "    p = predict_proba(X, coeffs)\n",
    "    cost_per_observation = y * np.log(p) + (1 - y) * np.log(1 - p)\n",
    "    ridge_penalty = np.sum(coeffs*coeffs)\n",
    "    if has_intercept:\n",
    "        ridge_penalty -= coeffs[0]*coeffs[0]\n",
    "    return -np.sum(cost_per_observation) + lam * ridge_penalty\n",
    "\n",
    "def cost_one_datapoint(x, y, coeffs):\n",
    "    \"\"\"\n",
    "    Calculate the logistic cost function of a single data point using the given\n",
    "    coefficients.\n",
    "\n",
    "    Parameters\n",
    "    ----------\n",
    "    x: ndarray, shape (n_features, )\n",
    "        The data (independent variables) to use for prediction.\n",
    "    y: Integer, 0 or 1 \n",
    "        The actual class values of the response.\n",
    "    coeffs: ndarray, shape (n_features)\n",
    "        The hypothosized coefficients of the logistic regression.\n",
    "\n",
    "    Returns\n",
    "    -------\n",
    "    logistic_cost: float\n",
    "        The computed logistic cost.\n",
    "    \"\"\"\n",
    "    linear_pred = np.sum(x * coeffs)\n",
    "    p = 1 / (1 + np.exp(-linear_pred))\n",
    "    return (- y * np.log(p) - (1 - y) * np.log(1 - p))\n",
    "\n",
    "\n",
    "def gradient(X, y, coeffs, lam=0.0, has_intercept=True):\n",
    "    \"\"\"\n",
    "    Calculate the gradient of the logistic cost function at the given value for\n",
    "    the coeffs.\n",
    "\n",
    "    Parameters\n",
    "    ----------\n",
    "    X: ndarray, shape (n_samples, n_features)\n",
    "        The data (independent variables) to use for prediction.\n",
    "    y: ndarray, shape (n_samples, )\n",
    "        The actual class values of the response.  Must be encoded as 0's and\n",
    "        1's.\n",
    "    coeffs: ndarray, shape (n_features)\n",
    "        The hypothosized coefficients of the logistic regression.\n",
    "    lam: float \n",
    "        Strength of regularization parameter for the ridge penalty.\n",
    "    has_intercept: boolean \n",
    "        Is the first entry of coeffs an intercept parameter?\n",
    "\n",
    "    Returns\n",
    "    -------\n",
    "    logistic_grad: ndarray, shape (n_features, )\n",
    "        The computed gradient of the logistic cost.\n",
    "    \"\"\"\n",
    "    p = predict_proba(X, coeffs)\n",
    "    ridge_grad = 2 * coeffs\n",
    "    if has_intercept:\n",
    "        ridge_grad[0] = 0.0\n",
    "    return np.dot(X.T, p - y) + lam * ridge_grad\n",
    "\n",
    "\n",
    "def gradient_one_datapoint(x, y, coeffs):\n",
    "    \"\"\"\n",
    "    Calculate the gradient of the logistic cost function evaluated at a single\n",
    "    data point.\n",
    "\n",
    "    Parameters\n",
    "    ----------\n",
    "    x: ndarray, shape (n_features, )\n",
    "        The data (independent variables) to use for prediction.\n",
    "    y: Integer, 0 or 1 \n",
    "        The actual class values of the response.\n",
    "    coeffs: ndarray, shape (n_features)\n",
    "        The hypothosized coefficients of the logistic regression.\n",
    "\n",
    "    Returns\n",
    "    -------\n",
    "    logistic_grad: ndarray, shape (n_features, )\n",
    "        The computed gradient of the logistic cost.\n",
    "    \"\"\"\n",
    "    linear_pred = np.sum(x * coeffs)\n",
    "    p = 1 / (1 + np.exp(-linear_pred))\n",
    "    return (x * (p - y))"
   ]
  },
  {
   "cell_type": "code",
   "execution_count": 91,
   "metadata": {
    "ExecuteTime": {
     "end_time": "2018-04-05T23:13:37.504820Z",
     "start_time": "2018-04-05T23:13:37.498627Z"
    },
    "collapsed": true
   },
   "outputs": [],
   "source": [
    "X = np.array([[0, 1], [2, 2], [3, 0]])\n",
    "x = np.array([1])\n",
    "y = np.array([1, 0, 0])\n",
    "coeffs = np.array([1, -0.5])"
   ]
  },
  {
   "cell_type": "code",
   "execution_count": 70,
   "metadata": {
    "ExecuteTime": {
     "end_time": "2018-04-05T23:03:38.836661Z",
     "start_time": "2018-04-05T23:03:38.831264Z"
    },
    "collapsed": true
   },
   "outputs": [],
   "source": [
    "from math import log"
   ]
  },
  {
   "cell_type": "markdown",
   "metadata": {},
   "source": [
    "![cost function](images/cost.png)"
   ]
  },
  {
   "cell_type": "code",
   "execution_count": 96,
   "metadata": {
    "ExecuteTime": {
     "end_time": "2018-04-05T23:55:14.034361Z",
     "start_time": "2018-04-05T23:55:13.912753Z"
    }
   },
   "outputs": [
    {
     "ename": "TypeError",
     "evalue": "'numpy.float64' object is not callable",
     "output_type": "error",
     "traceback": [
      "\u001b[0;31m---------------------------------------------------------------------------\u001b[0m",
      "\u001b[0;31mTypeError\u001b[0m                                 Traceback (most recent call last)",
      "\u001b[0;32m<ipython-input-96-a28d2aa8603c>\u001b[0m in \u001b[0;36m<module>\u001b[0;34m()\u001b[0m\n\u001b[1;32m      1\u001b[0m \u001b[0mp\u001b[0m \u001b[0;34m=\u001b[0m \u001b[0mpredict_proba\u001b[0m\u001b[0;34m(\u001b[0m\u001b[0mX\u001b[0m\u001b[0;34m,\u001b[0m \u001b[0mcoeffs\u001b[0m\u001b[0;34m)\u001b[0m\u001b[0;34m\u001b[0m\u001b[0m\n\u001b[1;32m      2\u001b[0m \u001b[0my_hat\u001b[0m \u001b[0;34m=\u001b[0m \u001b[0mpredict\u001b[0m\u001b[0;34m(\u001b[0m\u001b[0mX\u001b[0m\u001b[0;34m,\u001b[0m \u001b[0mcoeffs\u001b[0m\u001b[0;34m)\u001b[0m\u001b[0;34m\u001b[0m\u001b[0m\n\u001b[0;32m----> 3\u001b[0;31m \u001b[0mcost\u001b[0m \u001b[0;34m=\u001b[0m \u001b[0mcost\u001b[0m\u001b[0;34m(\u001b[0m\u001b[0mX\u001b[0m\u001b[0;34m,\u001b[0m \u001b[0my\u001b[0m\u001b[0;34m,\u001b[0m \u001b[0mcoeffs\u001b[0m\u001b[0;34m)\u001b[0m\u001b[0;34m\u001b[0m\u001b[0m\n\u001b[0m\u001b[1;32m      4\u001b[0m \u001b[0mgrad\u001b[0m \u001b[0;34m=\u001b[0m \u001b[0mgradient\u001b[0m\u001b[0;34m(\u001b[0m\u001b[0mX\u001b[0m\u001b[0;34m,\u001b[0m \u001b[0my\u001b[0m\u001b[0;34m,\u001b[0m \u001b[0mcoeffs\u001b[0m\u001b[0;34m)\u001b[0m\u001b[0;34m\u001b[0m\u001b[0m\n\u001b[1;32m      5\u001b[0m \u001b[0;34m\u001b[0m\u001b[0m\n",
      "\u001b[0;31mTypeError\u001b[0m: 'numpy.float64' object is not callable"
     ]
    }
   ],
   "source": [
    "p = predict_proba(X, coeffs)\n",
    "y_hat = predict(X, coeffs)\n",
    "cost = cost(X, y, coeffs)\n",
    "grad = gradient(X, y, coeffs)\n",
    "\n",
    "print(\"The predicted probability vector is {}\".format(str(p)))\n",
    "print(\"The predicted class vector is {}\".format(str(y_hat)))\n",
    "print(\"The cost function at these coefficients is {}\".format(str(cost)))\n",
    "print(\"The gradient of the cost is {}\".format(str(grad)))\n",
    "\n"
   ]
  },
  {
   "cell_type": "code",
   "execution_count": 95,
   "metadata": {
    "ExecuteTime": {
     "end_time": "2018-04-05T23:44:26.742167Z",
     "start_time": "2018-04-05T23:44:26.716198Z"
    }
   },
   "outputs": [],
   "source": [
    "\n",
    "class GradientDescent(object):\n",
    "    \"\"\"Perform the gradient descent optimization algorithm for an arbitrary\n",
    "    cost function.\n",
    "    \"\"\"\n",
    "\n",
    "    def __init__(self, cost, gradient, predict_func, \n",
    "                 alpha=0.01,\n",
    "                 num_iterations=10000):\n",
    "        \"\"\"Initialize the instance attributes of a GradientDescent object.\n",
    "\n",
    "        Parameters\n",
    "        ----------\n",
    "        cost: The cost function to be minimized.\n",
    "        gradient: The gradient of the cost function.\n",
    "        predict_func: A function to make predictions after the optimization has\n",
    "            converged.\n",
    "        alpha: The learning rate.\n",
    "        num_iterations: Number of iterations to use in the descent.\n",
    "\n",
    "        Returns\n",
    "        -------\n",
    "        self: The initialized GradientDescent object.\n",
    "        \"\"\"\n",
    "        # Initialize coefficients in run method once you know how many features\n",
    "        # you have.\n",
    "        self.coeffs = None\n",
    "        self.cost = cost\n",
    "        self.gradient = gradient\n",
    "        self.predict_func = predict_func\n",
    "        self.alpha = alpha\n",
    "        self.num_iterations = num_iterations\n",
    "\n",
    "    def fit(self, X, y):\n",
    "        \"\"\"Run the gradient descent algorithm for num_iterations repetitions.\n",
    "\n",
    "        Parameters\n",
    "        ----------\n",
    "        X: A two dimenstional numpy array.  The training data for the\n",
    "            optimization.\n",
    "        y: A one dimenstional numpy array.  The training response for the\n",
    "            optimization.\n",
    "\n",
    "        Returns\n",
    "        -------\n",
    "        self:  The fit GradientDescent object.\n",
    "        \"\"\"\n",
    "        pass\n",
    "\n",
    "    def predict(self, X):\n",
    "        \"\"\"Call self.predict_func to return predictions.\n",
    "\n",
    "        Parameters\n",
    "        ----------\n",
    "        X: Data to make predictions on.\n",
    "\n",
    "        Returns\n",
    "        -------\n",
    "        preds: A one dimensional numpy array of predictions.\n",
    "        \"\"\"\n",
    "        pass\n"
   ]
  },
  {
   "cell_type": "code",
   "execution_count": null,
   "metadata": {
    "collapsed": true
   },
   "outputs": [],
   "source": [
    "gd = GradientDescent(cost, gradient, predict)\n",
    "gd.fit(X, y)\n",
    "print(\"coeffs:\", gd.coeffs)\n",
    "predictions = gd.predict(X)"
   ]
  }
 ],
 "metadata": {
  "hide_input": false,
  "kernelspec": {
   "display_name": "Python 3",
   "language": "python",
   "name": "python3"
  },
  "language_info": {
   "codemirror_mode": {
    "name": "ipython",
    "version": 3
   },
   "file_extension": ".py",
   "mimetype": "text/x-python",
   "name": "python",
   "nbconvert_exporter": "python",
   "pygments_lexer": "ipython3",
   "version": "3.6.3"
  },
  "latex_envs": {
   "LaTeX_envs_menu_present": true,
   "autoclose": false,
   "autocomplete": true,
   "bibliofile": "biblio.bib",
   "cite_by": "apalike",
   "current_citInitial": 1,
   "eqLabelWithNumbers": true,
   "eqNumInitial": 1,
   "hotkeys": {
    "equation": "Ctrl-E",
    "itemize": "Ctrl-I"
   },
   "labels_anchors": false,
   "latex_user_defs": false,
   "report_style_numbering": false,
   "user_envs_cfg": false
  },
  "toc": {
   "nav_menu": {},
   "number_sections": true,
   "sideBar": true,
   "skip_h1_title": false,
   "title_cell": "Table of Contents",
   "title_sidebar": "Contents",
   "toc_cell": false,
   "toc_position": {},
   "toc_section_display": true,
   "toc_window_display": false
  },
  "varInspector": {
   "cols": {
    "lenName": 16,
    "lenType": 16,
    "lenVar": 40
   },
   "kernels_config": {
    "python": {
     "delete_cmd_postfix": "",
     "delete_cmd_prefix": "del ",
     "library": "var_list.py",
     "varRefreshCmd": "print(var_dic_list())"
    },
    "r": {
     "delete_cmd_postfix": ") ",
     "delete_cmd_prefix": "rm(",
     "library": "var_list.r",
     "varRefreshCmd": "cat(var_dic_list()) "
    }
   },
   "types_to_exclude": [
    "module",
    "function",
    "builtin_function_or_method",
    "instance",
    "_Feature"
   ],
   "window_display": false
  }
 },
 "nbformat": 4,
 "nbformat_minor": 2
}
