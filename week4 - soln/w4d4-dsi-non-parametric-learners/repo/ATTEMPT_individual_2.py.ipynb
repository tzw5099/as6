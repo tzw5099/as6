{
 "cells": [
  {
   "cell_type": "markdown",
   "metadata": {
    "deletable": false,
    "editable": false
   },
   "source": [
    "## k-Nearest Neighbors\n",
    "This algorithm is very simple to implement. Note that it takes nothing to train the model, you just need to save the data. When given a new data point, you need to calculate the distance of that data point to every existing data point and find the *k* closest ones.\n",
    "\n",
    "### Data\n",
    "\n",
    "You can also use sklearn's `make_classification` for creating a fake dataset.\n",
    "\n",
    "```python\n",
    "X, y = make_classification(n_features=4, n_redundant=0, n_informative=1,\n",
    "                           n_clusters_per_class=1, class_sep=5, random_state=5)\n",
    "```\n",
    "\n",
    "## kNN Implementation\n",
    "\n",
    "**Include all your code for this section in** `KNearestNeighbors.py`.\n",
    "\n",
    "Here's the pseudocode for using k Nearest Neighbors to predict the class of a point `x`:\n",
    "\n",
    "```\n",
    "kNN:\n",
    "    for every point in the dataset:\n",
    "        calculate the distance between the point and x\n",
    "    take the k points with the smallest distances to x (**hint: use numpy's argsort() function**)\n",
    "    return the majority class among these items\n",
    "```\n",
    "\n",
    "1. Implement the function `euclidean_distance` which computes the Euclidean distance between two numpy arrays.\n",
    "\n",
    "2. Implement the class `KNearestNeighbors`. We are going to write our code similar to how sklearn does. You should be able to run your code like this:\n",
    "\n",
    "    ```python\n",
    "    knn = KNearestNeighbors(k=3, distance=euclidean_distance)\n",
    "    knn.fit(X, y)\n",
    "    y_predict = knn.predict(X_new)\n",
    "    ```\n",
    "\n",
    "    Here `X` is the feature matrix as a 2d numpy array, `y` is the labels as a numpy array. 3 is the *k* and `euclidean_distance` is the distance function. `predict` will return a numpy array of the predicted labels.\n",
    "\n",
    "    You will need to implement a `KNearestNeighbors` class with three methods: `fit`, `predict` and `score` (calculates accuracy).\n",
    "\n",
    "3. Implement the function `cosine_distance` which computes a cosine-similarity-based distance between two numpy arrays. Specifically, use this formula:\n",
    "\n",
    "    ![cosine distance](images/cosine.png)\n",
    "\n",
    "4. Plot the decision boundary. Look at this [sklearn example](http://scikit-learn.org/stable/auto_examples/neighbors/plot_classification.html#example-neighbors-plot-classification-py). Note that you'll need exactly 2 continuous features in order to do this.\n",
    "\n",
    "5. Test your algorithm on a dataset used for a previous exercise. Use [sklearn.metrics](http://scikit-learn.org/stable/modules/classes.html#module-sklearn.metrics) to compute the accuracy, precision and recall of your model. Use KFold Cross Validation and determine the best choice of `k` (will probably depend on which metric you use!).\n",
    "\n",
    "\n",
    "## Extra Credit\n",
    "\n",
    "Practice with [recursion](https://github.com/gschool/dsi-welcome/tree/master/readings/recursion)."
   ]
  },
  {
   "cell_type": "code",
   "execution_count": 1,
   "metadata": {
    "ExecuteTime": {
     "end_time": "2018-04-07T18:41:08.184677Z",
     "start_time": "2018-04-07T18:41:06.230358Z"
    },
    "code_folding": [
     0
    ]
   },
   "outputs": [
    {
     "name": "stderr",
     "output_type": "stream",
     "text": [
      "/Users/tomwong/anaconda3/lib/python3.6/site-packages/statsmodels/compat/pandas.py:56: FutureWarning: The pandas.core.datetools module is deprecated and will be removed in a future version. Please use the pandas.tseries module instead.\n",
      "  from pandas.core import datetools\n"
     ]
    }
   ],
   "source": [
    "# COLLAPSE CELL\n",
    "# PMsearch np.v*\n",
    "#x = data['mass']\n",
    "#x?\n",
    "\n",
    "# from jupyterthemes import jtplot\n",
    "# jtplot.style(theme='solarized')\n",
    "# from jupyterlab_table import JSONTable\n",
    "# JSONTable(df)\n",
    "\n",
    "# from IPython.display import HTML, display\n",
    "\n",
    "# from notebook.services.config import ConfigManager\n",
    "# cm = ConfigManager().update('notebook', {'limit_output': 1000})\n",
    "\n",
    "import better_exceptions\n",
    "better_exceptions.MAX_LENGTH = None\n",
    "\n",
    "from sklearn.linear_model import LinearRegression, Ridge, Lasso\n",
    "from sklearn.model_selection import train_test_split, KFold, cross_val_score\n",
    "from sklearn.metrics import mean_squared_error\n",
    "\n",
    "from pprint import pprint\n",
    "import math\n",
    "import statsmodels.stats as sms\n",
    "import statsmodels.api as sm\n",
    "import statsmodels.regression as smr\n",
    "import scipy.stats as stats\n",
    "import pandas as pd\n",
    "import numpy as np\n",
    "import matplotlib.pyplot as plt\n",
    "import seaborn as sns\n",
    "sns.set(color_codes=True)\n",
    "\n",
    "# 04atplotlib inline\n",
    "# %load_ext heat\n",
    "\n",
    "plt.ion()\n",
    "# plt.ioff()\n",
    "\n",
    "# %heat\n",
    "\n",
    "import os \n",
    "# dir_path = os.path.dirname(os.path.realpath(__file__))\n",
    "cwd = os.getcwd()\n",
    "\n",
    "# fig, ax = plt.subplots()\n",
    "# ax.plot(x, y)"
   ]
  },
  {
   "cell_type": "code",
   "execution_count": 2,
   "metadata": {
    "ExecuteTime": {
     "end_time": "2018-04-07T18:56:12.056391Z",
     "start_time": "2018-04-07T18:56:12.051831Z"
    },
    "collapsed": true
   },
   "outputs": [],
   "source": [
    "from sklearn.datasets import make_classification"
   ]
  },
  {
   "cell_type": "code",
   "execution_count": 3,
   "metadata": {
    "ExecuteTime": {
     "end_time": "2018-04-07T18:56:14.907415Z",
     "start_time": "2018-04-07T18:56:14.891318Z"
    },
    "collapsed": true
   },
   "outputs": [],
   "source": [
    "X, y = make_classification(n_features=4, n_redundant=0, n_informative=1,\n",
    "                           n_clusters_per_class=1, class_sep=5, random_state=5)\n"
   ]
  },
  {
   "cell_type": "code",
   "execution_count": 103,
   "metadata": {
    "ExecuteTime": {
     "end_time": "2018-04-07T22:35:01.467729Z",
     "start_time": "2018-04-07T22:35:01.459420Z"
    },
    "collapsed": true
   },
   "outputs": [
    {
     "name": "stdout",
     "output_type": "stream",
     "text": [
      "array([1, 2, 0, 1, 2, 1, 0, 1, 2, 1, 1, 2, 2, 2, 0, 1, 0, 1, 1, 1, 2, 2,\n",
      "       0, 1, 1, 2, 1, 0, 2, 0, 2, 2, 2, 0, 0, 1, 0, 0, 1, 0, 2, 0, 1, 2,\n",
      "       0, 0, 2, 1, 2, 1, 1, 2, 0, 2, 1, 0, 1, 2, 0, 1, 2, 1, 0, 1, 0, 2,\n",
      "       2, 0, 0, 0, 0, 0, 2, 2, 1, 1, 0, 0, 1, 0, 2, 1, 0, 0, 1, 1, 1, 1,\n",
      "       2, 2, 0, 2, 0, 2, 2, 2, 2, 2, 0, 0])\n",
      "array([[-1.2515569 ,  0.62815841],\n",
      "       [-0.8832003 ,  0.19519895],\n",
      "       [-1.51361789,  0.16348362],\n",
      "       [-0.77230204, -0.06527799],\n",
      "       [-1.12983001, -1.00670594]])\n"
     ]
    }
   ],
   "source": [
    "pprint(y)\n",
    "pprint(X[95:,])"
   ]
  },
  {
   "cell_type": "code",
   "execution_count": 90,
   "metadata": {
    "ExecuteTime": {
     "end_time": "2018-04-07T22:27:27.592760Z",
     "start_time": "2018-04-07T22:27:27.584926Z"
    },
    "code_folding": [
     0
    ],
    "collapsed": true
   },
   "outputs": [],
   "source": [
    "# old euclid\n",
    "def euclid(newX, X):\n",
    "   distances = []\n",
    "   for row, value in enumerate(X):\n",
    "       distances.append(np.linalg.norm(newX-value))\n",
    "   return(distances)\n",
    "\n",
    "#         np.linalg.norm(newX-X[0])\n",
    "\n"
   ]
  },
  {
   "cell_type": "code",
   "execution_count": 106,
   "metadata": {
    "ExecuteTime": {
     "end_time": "2018-04-07T23:02:32.069098Z",
     "start_time": "2018-04-07T23:02:32.062904Z"
    },
    "collapsed": true
   },
   "outputs": [],
   "source": [
    "def euclidean_distance(array1,array2):\n",
    "    return np.linalg.norm(array1-array2)\n",
    "def cosine_distance(array1, array2):\n",
    "    return (1 - (np.dot(x,y)/(np.linalg.norm(x)*np.linalg.norm(y))))"
   ]
  },
  {
   "cell_type": "code",
   "execution_count": 110,
   "metadata": {
    "ExecuteTime": {
     "end_time": "2018-04-07T23:05:05.854784Z",
     "start_time": "2018-04-07T23:05:05.843332Z"
    }
   },
   "outputs": [
    {
     "ename": "ValueError",
     "evalue": "shapes (4,) and (100,2) not aligned: 4 (dim 0) != 100 (dim 0)",
     "output_type": "error",
     "traceback": [
      "\u001b[0;31m---------------------------------------------------------------------------\u001b[0m",
      "\u001b[0;31mValueError\u001b[0m                                Traceback (most recent call last)",
      "\u001b[0;32m<ipython-input-110-56254390bc53>\u001b[0m in \u001b[0;36m<module>\u001b[0;34m()\u001b[0m\n\u001b[1;32m      1\u001b[0m \u001b[0;34m\u001b[0m\u001b[0m\n\u001b[0;32m----> 2\u001b[0;31m \u001b[0mnp\u001b[0m\u001b[0;34m.\u001b[0m\u001b[0mdot\u001b[0m\u001b[0;34m(\u001b[0m\u001b[0mnewX\u001b[0m\u001b[0;34m,\u001b[0m\u001b[0mX\u001b[0m\u001b[0;34m)\u001b[0m\u001b[0;34m\u001b[0m\u001b[0m\n\u001b[0m",
      "\u001b[0;31mValueError\u001b[0m: shapes (4,) and (100,2) not aligned: 4 (dim 0) != 100 (dim 0)"
     ]
    }
   ],
   "source": [
    "\n",
    "np.dot(newX,X)"
   ]
  },
  {
   "cell_type": "code",
   "execution_count": 79,
   "metadata": {
    "ExecuteTime": {
     "end_time": "2018-04-07T22:19:36.393431Z",
     "start_time": "2018-04-07T22:19:36.164214Z"
    },
    "code_folding": [
     0
    ],
    "collapsed": true
   },
   "outputs": [
    {
     "name": "stdout",
     "output_type": "stream",
     "text": [
      "1.8152287773808549\n",
      "1.9408995513124474\n",
      "1.9458193564414632\n",
      "1.9563959883368138\n",
      "2.035549594707053\n",
      "2.110787816121782\n",
      "2.1323120155620088\n",
      "2.1492149744810254\n",
      "2.1592113706272635\n",
      "2.214118497387465\n",
      "2.3044684873150696\n",
      "2.304513172572567\n",
      "2.321232798873976\n",
      "2.349970815618789\n",
      "2.362695267810404\n",
      "2.3801043678665437\n",
      "2.4039499077011945\n",
      "2.449263498294931\n",
      "2.450269343661928\n",
      "2.455640501171082\n",
      "2.4623827552791857\n",
      "2.502038451810142\n",
      "2.551639083620694\n",
      "2.5864140858881726\n",
      "2.6024703624051364\n",
      "2.6056369427700026\n",
      "2.6291830206319795\n",
      "2.6679919723256655\n",
      "2.7195446917288697\n",
      "2.7390574862100565\n",
      "2.7694106288029454\n",
      "2.79311129152168\n",
      "2.8029788080709723\n",
      "2.8894695171611624\n",
      "2.8956491506372424\n",
      "2.9887792978934886\n",
      "2.988809029541001\n",
      "3.052756189408496\n",
      "3.066027673218236\n",
      "3.10544011643194\n",
      "3.216128186205029\n",
      "3.306283488438843\n",
      "3.3091583989941484\n",
      "3.3134384585413366\n",
      "3.3395575989491166\n",
      "3.3865768968664876\n",
      "3.4496464404146625\n",
      "3.4637669138286284\n",
      "3.5014505736995774\n",
      "3.921421374995524\n",
      "6.120394469552799\n",
      "6.628195249833534\n",
      "6.925067650189494\n",
      "7.063680428853165\n",
      "7.464973204392678\n",
      "7.5165669639122825\n",
      "7.557847116932327\n",
      "7.5681821294255585\n",
      "7.600367535248081\n",
      "7.625823059021394\n",
      "7.638039785665578\n",
      "7.64473908204178\n",
      "7.649970489374599\n",
      "7.65371976192975\n",
      "7.688789672515221\n",
      "7.721613243858855\n",
      "7.897389447970957\n",
      "7.963492495239272\n",
      "7.968280782369359\n",
      "7.971606108935524\n",
      "7.987432266031049\n",
      "8.020661972765035\n",
      "8.11661770009882\n",
      "8.141756308718605\n",
      "8.151376228157087\n",
      "8.211766703651234\n",
      "8.247367117479484\n",
      "8.422008593791388\n",
      "8.46468705750739\n",
      "8.518899897904932\n",
      "8.531978182228215\n",
      "8.55243653064149\n",
      "8.569006126129864\n",
      "8.645054229048583\n",
      "8.757244497891882\n",
      "8.805803840215342\n",
      "8.858489253747674\n",
      "8.863197217255617\n",
      "8.888645926597675\n",
      "8.953503344480168\n",
      "8.959300697674838\n",
      "8.997752472053719\n",
      "9.082826574276018\n",
      "9.139350692226577\n",
      "9.303872168701117\n",
      "9.473627831417192\n",
      "9.611853022714936\n",
      "9.62593560716249\n",
      "9.786476751027243\n",
      "10.22495562225353\n"
     ]
    }
   ],
   "source": [
    "# old code - testing argsort\n",
    "a = [4, 3, 2, 1]\n",
    "for i in np.argsort(euclid(newX, X)):\n",
    "    print(euclid(newX, X)[i])\n",
    "print [a[i] for i in np.argsort(a)]"
   ]
  },
  {
   "cell_type": "code",
   "execution_count": 23,
   "metadata": {
    "ExecuteTime": {
     "end_time": "2018-04-07T19:06:07.664720Z",
     "start_time": "2018-04-07T19:06:07.458804Z"
    },
    "collapsed": true
   },
   "outputs": [
    {
     "data": {
      "text/plain": [
       "<matplotlib.collections.PathCollection at 0x10ea2c630>"
      ]
     },
     "execution_count": 23,
     "metadata": {},
     "output_type": "execute_result"
    },
    {
     "data": {
      "image/png": "[encoded data removed]",
      "text/plain": [
       "<matplotlib.figure.Figure at 0x10571aa20>"
      ]
     },
     "metadata": {},
     "output_type": "display_data"
    }
   ],
   "source": [
    "\n",
    "plt.scatter(X[:,0],y, label=\"1\")\n",
    "# plt.scatter(X[:,1],y, label=\"2\")\n",
    "# plt.scatter(X[:,2],y, label=\"3\")\n",
    "# plt.scatter(X[:,3],y, label=\"4\")"
   ]
  },
  {
   "cell_type": "code",
   "execution_count": null,
   "metadata": {
    "collapsed": true
   },
   "outputs": [],
   "source": [
    "'''\n",
    "Here's the pseudocode for using k Nearest Neighbors to predict the class of a point x:\n",
    "    kNN:\n",
    "    for every point in the dataset:\n",
    "        calculate the distance between the point and x\n",
    "    take the k points with the smallest distances to x (**hint: use numpy's argsort() function**)\n",
    "    return the majority class among these items\n",
    "'''\n",
    "\n",
    "# class kNN(object):\n",
    "# knn = KNearestNeighbors(k=3, distance=euclidean_distance)\n",
    "# knn.fit(X, y)\n",
    "# y_predict = knn.predict(X_new)"
   ]
  },
  {
   "cell_type": "code",
   "execution_count": null,
   "metadata": {
    "collapsed": true
   },
   "outputs": [],
   "source": [
    "# https://machinelearningmastery.com/tutorial-to-implement-k-nearest-neighbors-in-python-from-scratch/\n",
    "\n",
    "class kNN(object):\n",
    "    def __init__(self, k, distance):\n",
    "        self.k = k\n",
    "        self.distance = distance\n",
    "    def fit():\n",
    "        pass\n",
    "    def predict():\n",
    "        pass\n",
    "    def score():\n",
    "        pass"
   ]
  },
  {
   "cell_type": "code",
   "execution_count": 111,
   "metadata": {
    "ExecuteTime": {
     "end_time": "2018-04-07T23:10:32.828531Z",
     "start_time": "2018-04-07T23:10:25.129356Z"
    }
   },
   "outputs": [
    {
     "name": "stdout",
     "output_type": "stream",
     "text": [
      "(100,)\n",
      "Accuracy: 0.95\n",
      "\tactual\tpredict\tcorrect?\n",
      "0\t1\t1\t1\n",
      "1\t2\t2\t1\n",
      "2\t0\t0\t1\n",
      "3\t1\t1\t1\n",
      "4\t2\t2\t1\n",
      "5\t1\t1\t1\n",
      "6\t0\t0\t1\n",
      "7\t1\t1\t1\n",
      "8\t2\t2\t1\n",
      "9\t1\t1\t1\n",
      "10\t1\t1\t1\n",
      "11\t2\t2\t1\n",
      "12\t2\t2\t1\n",
      "13\t2\t2\t1\n",
      "14\t0\t0\t1\n",
      "15\t1\t1\t1\n",
      "16\t0\t0\t1\n",
      "17\t1\t1\t1\n",
      "18\t1\t1\t1\n",
      "19\t1\t1\t1\n",
      "20\t2\t2\t1\n",
      "21\t2\t2\t1\n",
      "22\t0\t0\t1\n",
      "23\t1\t1\t1\n",
      "24\t1\t1\t1\n",
      "25\t2\t2\t1\n",
      "26\t1\t1\t1\n",
      "27\t0\t0\t1\n",
      "28\t2\t2\t1\n",
      "29\t0\t0\t1\n",
      "30\t2\t2\t1\n",
      "31\t2\t2\t1\n",
      "32\t2\t1\t0\n",
      "33\t0\t0\t1\n",
      "34\t0\t0\t1\n",
      "35\t1\t1\t1\n",
      "36\t0\t0\t1\n",
      "37\t0\t0\t1\n",
      "38\t1\t1\t1\n",
      "39\t0\t0\t1\n",
      "40\t2\t2\t1\n",
      "41\t0\t0\t1\n",
      "42\t1\t1\t1\n",
      "43\t2\t2\t1\n",
      "44\t0\t0\t1\n",
      "45\t0\t0\t1\n",
      "46\t2\t2\t1\n",
      "47\t1\t1\t1\n",
      "48\t2\t2\t1\n",
      "49\t1\t1\t1\n",
      "50\t1\t1\t1\n",
      "51\t2\t2\t1\n",
      "52\t0\t0\t1\n",
      "53\t2\t2\t1\n",
      "54\t1\t1\t1\n",
      "55\t0\t0\t1\n",
      "56\t1\t1\t1\n",
      "57\t2\t2\t1\n",
      "58\t0\t0\t1\n",
      "59\t1\t1\t1\n",
      "60\t2\t2\t1\n",
      "61\t1\t1\t1\n",
      "62\t0\t0\t1\n",
      "63\t1\t1\t1\n",
      "64\t0\t0\t1\n",
      "65\t2\t2\t1\n",
      "66\t2\t2\t1\n",
      "67\t0\t0\t1\n",
      "68\t0\t0\t1\n",
      "69\t0\t0\t1\n",
      "70\t0\t0\t1\n",
      "71\t0\t0\t1\n",
      "72\t2\t2\t1\n",
      "73\t2\t2\t1\n",
      "74\t1\t1\t1\n",
      "75\t1\t1\t1\n",
      "76\t0\t0\t1\n",
      "77\t0\t2\t0\n",
      "78\t1\t1\t1\n",
      "79\t0\t2\t0\n",
      "80\t2\t2\t1\n",
      "81\t1\t1\t1\n",
      "82\t0\t0\t1\n",
      "83\t0\t2\t0\n",
      "84\t1\t1\t1\n",
      "85\t1\t1\t1\n",
      "86\t1\t1\t1\n",
      "87\t1\t1\t1\n",
      "88\t2\t2\t1\n",
      "89\t2\t2\t1\n",
      "90\t0\t0\t1\n",
      "91\t2\t2\t1\n",
      "92\t0\t0\t1\n",
      "93\t2\t2\t1\n",
      "94\t2\t2\t1\n",
      "95\t2\t2\t1\n",
      "96\t2\t2\t1\n",
      "97\t2\t2\t1\n",
      "98\t0\t2\t0\n",
      "99\t0\t0\t1\n"
     ]
    },
    {
     "data": {
      "image/png": "[encoded data removed]",
      "text/plain": [
       "<matplotlib.figure.Figure at 0x10e6e7278>"
      ]
     },
     "metadata": {},
     "output_type": "display_data"
    },
    {
     "data": {
      "image/png": "[encoded data removed]",
      "text/plain": [
       "<matplotlib.figure.Figure at 0x10f851ef0>"
      ]
     },
     "metadata": {},
     "output_type": "display_data"
    }
   ],
   "source": [
    "\"\"\"\n",
    "Functions and classes to complete non-parametric-learners individual exercise.\n",
    "\n",
    "Implementation of kNN algorithm modeled on sci-kit learn functionality.\n",
    "\n",
    "TODO: Improve '__main__' to allow flexible running of script\n",
    "    (different ks, different number of classes)\n",
    "\"\"\"\n",
    "\n",
    "from collections import Counter\n",
    "from matplotlib.colors import ListedColormap\n",
    "import sys\n",
    "\n",
    "\n",
    "def plot_decision_boundary(clf, X, y, n_classes):\n",
    "    \"\"\"Plot the decision boundary of a kNN classifier.\n",
    "\n",
    "    Plots decision boundary for up to 4 classes.\n",
    "\n",
    "    Colors have been specifically chosen to be color blindness friendly.\n",
    "\n",
    "    Assumes classifier, clf, has a .predict() method that follows the\n",
    "    sci-kit learn functionality.\n",
    "\n",
    "    X must contain only 2 continuous features.\n",
    "\n",
    "    Function modeled on sci-kit learn example.\n",
    "\n",
    "    Parameters\n",
    "    ----------\n",
    "    clf: instance of classifier object\n",
    "        A fitted classifier with a .predict() method.\n",
    "    X: numpy array, shape = [n_samples, n_features]\n",
    "        Test data.\n",
    "    y: numpy array, shape = [n_samples,]\n",
    "        Target labels.\n",
    "    n_classes: int\n",
    "        The number of classes in the target labels.\n",
    "    \"\"\"\n",
    "    mesh_step_size = .1\n",
    "\n",
    "    # Colors are in the order [red, yellow, blue, cyan]\n",
    "    cmap_light = ListedColormap(['#FFAAAA', '#FFFFAA', '#AAAAFF', '#AAFFFF'])\n",
    "    cmap_bold = ListedColormap(['#FF0000', '#FFFF00', '#0000FF', '#00CCCC'])\n",
    "\n",
    "    # Plot the decision boundary. For that, we will assign a color to each\n",
    "    # point in the mesh [x_min, m_max]x[y_min, y_max].\n",
    "    feature_1 = X[:, 0]\n",
    "    feature_2 = X[:, 1]\n",
    "    x_min, x_max = feature_1.min() - 1, feature_1.max() + 1\n",
    "    y_min, y_max = feature_2.min() - 1, feature_2.max() + 1\n",
    "    xx, yy = np.meshgrid(np.arange(x_min, x_max, mesh_step_size),\n",
    "                         np.arange(y_min, y_max, mesh_step_size))\n",
    "    dec_boundary = clf.predict(np.c_[xx.ravel(), yy.ravel()])\n",
    "\n",
    "    # Put the result into a color plot\n",
    "    dec_boundary = dec_boundary.reshape(xx.shape)\n",
    "    plt.figure()\n",
    "    plt.pcolormesh(xx, yy, dec_boundary, cmap=cmap_light)\n",
    "\n",
    "    # Plot also the training points\n",
    "    plt.scatter(feature_1, feature_2, c=y, cmap=cmap_bold)\n",
    "    plt.xlim(xx.min(), xx.max())\n",
    "    plt.ylim(yy.min(), yy.max())\n",
    "\n",
    "    plt.title(\n",
    "              \"{0}-Class classification (k = {1}, metric = '{2}')\"\n",
    "              .format(n_classes, clf.k, clf.distance))\n",
    "    plt.show()\n",
    "\n",
    "\n",
    "def euclidean_distance(a, b):\n",
    "    \"\"\"Compute the euclidean_distance between two numpy arrays.\n",
    "\n",
    "    Parameters\n",
    "    ----------\n",
    "    a: numpy array\n",
    "    b: numpy array\n",
    "\n",
    "    Returns\n",
    "    -------\n",
    "    numpy array\n",
    "    \"\"\"\n",
    "    return np.sqrt(np.dot(a - b, a - b))\n",
    "\n",
    "\n",
    "def cosine_distance(a, b):\n",
    "    \"\"\"Compute the cosine_distance between two numpy arrays.\n",
    "\n",
    "    Parameters\n",
    "    ----------\n",
    "    a: numpy array\n",
    "    b: numpy array\n",
    "\n",
    "    Returns\n",
    "    -------\n",
    "    \"\"\"\n",
    "    return 1 - np.dot(a, b) / np.sqrt(np.dot(a, a) * np.dot(b, b))\n",
    "\n",
    "\n",
    "class KNearestNeighbors(object):\n",
    "    \"\"\"Classifier implementing the k-nearest neighbors algorithm.\n",
    "\n",
    "    Parameters\n",
    "    ----------\n",
    "    k: int, optional (default = 5)\n",
    "        Number of neighbors that get a vote.\n",
    "    distance: function, optional (default = euclidean)\n",
    "        The distance function to use when computing distances.\n",
    "    \"\"\"\n",
    "\n",
    "    def __init__(self, k=5, distance=euclidean_distance):\n",
    "        \"\"\"Initialize a KNearestNeighbors object.\"\"\"\n",
    "        self.k = k\n",
    "        self.distance = distance\n",
    "\n",
    "    def fit(self, X, y):\n",
    "        \"\"\"Fit the model using X as training data and y as target labels.\n",
    "\n",
    "        According to kNN algorithm, the training data is simply stored.\n",
    "\n",
    "        Parameters\n",
    "        ----------\n",
    "        X: numpy array, shape = [n_samples, n_features]\n",
    "            Training data.\n",
    "        y: numpy array, shape = [n_samples,]\n",
    "            Target labels.\n",
    "\n",
    "        Returns\n",
    "        -------\n",
    "        None\n",
    "        \"\"\"\n",
    "        self.X_train = X\n",
    "        self.y_train = y\n",
    "\n",
    "    def predict(self, X):\n",
    "        \"\"\"Return the predicted labels for the input X test data.\n",
    "\n",
    "        Assumes shape of X is [n_test_samples, n_features] where n_features\n",
    "        is the same as the n_features for the input training data.\n",
    "\n",
    "        Parameters\n",
    "        ----------\n",
    "        X: numpy array, shape = [n_samples, n_features]\n",
    "            Test data.\n",
    "\n",
    "        Returns\n",
    "        -------\n",
    "        result: numpy array, shape = [n_samples,]\n",
    "            Predicted labels for each test data sample.\n",
    "\n",
    "        \"\"\"\n",
    "        num_train_rows, num_train_cols = self.X_train.shape\n",
    "        num_X_rows, _ = X.shape\n",
    "        X = X.reshape((-1, num_train_cols))\n",
    "        distances = np.zeros((num_X_rows, num_train_rows))\n",
    "        for i, x in enumerate(X):\n",
    "            for j, x_train in enumerate(self.X_train):\n",
    "                distances[i, j] = self.distance(x_train, x)\n",
    "        # Sort and take top k\n",
    "        top_k = self.y_train[distances.argsort()[:, :self.k]]\n",
    "        result = np.zeros(num_X_rows)\n",
    "        for i, values in enumerate(top_k):\n",
    "            top_voted_label, _ = Counter(values).most_common(1)[0]\n",
    "            result[i] = top_voted_label\n",
    "        return result\n",
    "\n",
    "    def score(self, X, y_true):\n",
    "        \"\"\"Return the mean accuracy on the given data and true labels.\n",
    "\n",
    "        Parameters\n",
    "        ----------\n",
    "        X: numpy array, shape = [n_samples, n_features]\n",
    "            Test data.\n",
    "        y_true: numpy array, shape = [n_samples,]\n",
    "            True labels for given test data, X.\n",
    "\n",
    "        Returns\n",
    "        -------\n",
    "        score: float\n",
    "            Mean accuracy of self.predict(X) given true labels, y_true.\n",
    "        \"\"\"\n",
    "        y_pred = self.predict(X)\n",
    "        score = y_true == y_pred\n",
    "        return np.mean(score)\n",
    "\n",
    "\n",
    "if __name__ == '__main__':\n",
    "    X, y = make_classification(n_classes=3, n_features=2, n_redundant=0,\n",
    "                               n_informative=2, n_clusters_per_class=1,\n",
    "                               class_sep=1, random_state=5)\n",
    "    print(y.shape)\n",
    "\n",
    "    knn = KNearestNeighbors(4, cosine_distance)\n",
    "    knn.fit(X, y)\n",
    "    print(\"Accuracy: {}\".format(knn.score(X, y)))\n",
    "    print(\"\\tactual\\tpredict\\tcorrect?\")\n",
    "    for i, (actual, predicted) in enumerate(zip(y, knn.predict(X))):\n",
    "        print(\"{}\\t{}\\t{}\\t{}\".format(i,\n",
    "                                  actual,\n",
    "                                  int(predicted),\n",
    "                                  int(actual == predicted)))\n",
    "\n",
    "    # This loop plots the decision boundaries for different decision metrics\n",
    "    for metric in [euclidean_distance, cosine_distance]:\n",
    "        # we create an instance of Neighbours Classifier and fit the data.\n",
    "        clf = KNearestNeighbors(k=3, distance=metric)\n",
    "        clf.fit(X, y)\n",
    "        plot_decision_boundary(clf, X, y, n_classes=3)"
   ]
  },
  {
   "cell_type": "code",
   "execution_count": 84,
   "metadata": {
    "ExecuteTime": {
     "end_time": "2018-04-07T22:26:15.568904Z",
     "start_time": "2018-04-07T22:26:15.561572Z"
    }
   },
   "outputs": [
    {
     "data": {
      "text/plain": [
       "array([ 0.62732397, -0.48666318, -0.11161925,  1.41747159, -1.11075276,\n",
       "        2.1890572 , -2.10674166,  0.59148992, -1.37449758,  0.22079911,\n",
       "        1.30117175, -2.83333342, -1.1910853 , -2.41639462, -0.94783015,\n",
       "        2.2762548 , -0.566895  ,  0.34361716,  1.0137787 ,  0.7469239 ,\n",
       "        0.0250994 , -0.01100864, -0.18074965,  2.3716251 ,  0.34471361,\n",
       "       -3.44737963,  0.46230454, -1.41216434, -0.76391792, -0.67449854,\n",
       "       -1.57492415, -0.71554606,  0.96485584, -1.42629254, -1.05172963,\n",
       "        0.38340862, -1.00409969, -0.87259859,  2.83870427, -1.28606042,\n",
       "       -1.59362978, -2.15300462,  0.08490007, -2.67386522, -0.98550349,\n",
       "       -1.16963313,  0.83302559,  1.70338918, -0.66641972,  0.83033804,\n",
       "       -0.75386568, -1.98092595, -0.9715037 , -0.99287359,  1.33243859,\n",
       "       -0.95250335, -0.08810642, -2.05079534, -1.13987431,  0.44598558,\n",
       "       -1.25521996,  1.96139854, -0.02676286, -0.36671061, -0.43167485,\n",
       "       -1.63792364, -2.05791472, -1.16976879, -0.93142729, -1.24993128,\n",
       "       -0.19852893, -0.49426568, -0.10806769,  0.05858998,  1.40603029,\n",
       "        1.26147925, -0.54030079, -0.09195834,  1.08215874, -0.47539621,\n",
       "       -0.65807668, -0.39568924, -1.18453301, -0.45352977,  1.82472406,\n",
       "        0.66338902,  0.80181576,  0.59050711, -0.88616527, -1.10585919,\n",
       "       -0.26751423, -0.72266119, -1.33209756, -2.33715931, -1.73835625,\n",
       "       -1.2515569 , -0.8832003 , -1.51361789, -0.77230204, -1.12983001])"
      ]
     },
     "execution_count": 84,
     "metadata": {},
     "output_type": "execute_result"
    }
   ],
   "source": [
    "X[:,0]"
   ]
  },
  {
   "cell_type": "code",
   "execution_count": 98,
   "metadata": {
    "ExecuteTime": {
     "end_time": "2018-04-07T22:30:07.990726Z",
     "start_time": "2018-04-07T22:30:07.985150Z"
    },
    "collapsed": true
   },
   "outputs": [],
   "source": [
    "newX = np.array([-3, .4, .4, -.4])\n",
    "newX2= np.array([4.03391624,  0.95034471, -3.28391545, -0.77869325])"
   ]
  },
  {
   "cell_type": "code",
   "execution_count": 100,
   "metadata": {
    "ExecuteTime": {
     "end_time": "2018-04-07T22:30:23.696275Z",
     "start_time": "2018-04-07T22:30:23.690501Z"
    }
   },
   "outputs": [
    {
     "data": {
      "text/plain": [
       "7.968280780162368"
      ]
     },
     "execution_count": 100,
     "metadata": {},
     "output_type": "execute_result"
    }
   ],
   "source": []
  },
  {
   "cell_type": "code",
   "execution_count": 101,
   "metadata": {
    "ExecuteTime": {
     "end_time": "2018-04-07T22:30:24.493917Z",
     "start_time": "2018-04-07T22:30:24.487582Z"
    }
   },
   "outputs": [
    {
     "data": {
      "text/plain": [
       "7.968280780162368"
      ]
     },
     "execution_count": 101,
     "metadata": {},
     "output_type": "execute_result"
    }
   ],
   "source": [
    "euclidean_distance(newX,newX2)"
   ]
  },
  {
   "cell_type": "code",
   "execution_count": null,
   "metadata": {
    "collapsed": true
   },
   "outputs": [],
   "source": []
  }
 ],
 "metadata": {
  "hide_input": false,
  "kernelspec": {
   "display_name": "Python 3",
   "language": "python",
   "name": "python3"
  },
  "language_info": {
   "codemirror_mode": {
    "name": "ipython",
    "version": 3
   },
   "file_extension": ".py",
   "mimetype": "text/x-python",
   "name": "python",
   "nbconvert_exporter": "python",
   "pygments_lexer": "ipython3",
   "version": "3.6.3"
  },
  "latex_envs": {
   "LaTeX_envs_menu_present": true,
   "autoclose": false,
   "autocomplete": true,
   "bibliofile": "biblio.bib",
   "cite_by": "apalike",
   "current_citInitial": 1,
   "eqLabelWithNumbers": true,
   "eqNumInitial": 1,
   "hotkeys": {
    "equation": "Ctrl-E",
    "itemize": "Ctrl-I"
   },
   "labels_anchors": false,
   "latex_user_defs": false,
   "report_style_numbering": false,
   "user_envs_cfg": false
  },
  "toc": {
   "nav_menu": {},
   "number_sections": true,
   "sideBar": true,
   "skip_h1_title": false,
   "title_cell": "Table of Contents",
   "title_sidebar": "Contents",
   "toc_cell": false,
   "toc_position": {},
   "toc_section_display": true,
   "toc_window_display": false
  },
  "varInspector": {
   "cols": {
    "lenName": 16,
    "lenType": 16,
    "lenVar": 40
   },
   "kernels_config": {
    "python": {
     "delete_cmd_postfix": "",
     "delete_cmd_prefix": "del ",
     "library": "var_list.py",
     "varRefreshCmd": "print(var_dic_list())"
    },
    "r": {
     "delete_cmd_postfix": ") ",
     "delete_cmd_prefix": "rm(",
     "library": "var_list.r",
     "varRefreshCmd": "cat(var_dic_list()) "
    }
   },
   "types_to_exclude": [
    "module",
    "function",
    "builtin_function_or_method",
    "instance",
    "_Feature"
   ],
   "window_display": false
  }
 },
 "nbformat": 4,
 "nbformat_minor": 2
}
