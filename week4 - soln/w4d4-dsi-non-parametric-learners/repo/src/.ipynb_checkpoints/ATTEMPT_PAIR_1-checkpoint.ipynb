{
 "cells": [
  {
   "cell_type": "code",
   "execution_count": 1,
   "metadata": {
    "ExecuteTime": {
     "end_time": "2018-04-05T20:59:25.353453Z",
     "start_time": "2018-04-05T20:59:25.335196Z"
    },
    "collapsed": true
   },
   "outputs": [],
   "source": [
    "# gini index: https://machinelearningmastery.com/implement-decision-tree-algorithm-scratch-python/\n",
    "# https://www.researchgate.net/post/How_to_compute_impurity_using_Gini_Index"
   ]
  },
  {
   "cell_type": "code",
   "execution_count": 16,
   "metadata": {
    "ExecuteTime": {
     "end_time": "2018-04-05T21:04:14.868923Z",
     "start_time": "2018-04-05T21:04:14.408110Z"
    },
    "collapsed": true
   },
   "outputs": [],
   "source": [
    "import pandas as pd\n",
    "import numpy as np\n",
    "import math\n",
    "from collections import Counter\n",
    "from TreeNode import TreeNode\n",
    "from math import log\n",
    "\n",
    "class DecisionTree(object):\n",
    "    '''\n",
    "    A decision tree class.\n",
    "    '''\n",
    "\n",
    "    def __init__(self, impurity_criterion='entropy'):\n",
    "        '''\n",
    "        Initialize an empty DecisionTree.\n",
    "        '''\n",
    "\n",
    "        self.root = None  # root Node\n",
    "        self.feature_names = None  # string names of features (for interpreting\n",
    "                                   # the tree)\n",
    "        self.categorical = None  # Boolean array of whether variable is\n",
    "                                 # categorical (or continuous)\n",
    "        self.impurity_criterion = self._entropy \\\n",
    "                                  if impurity_criterion == 'entropy' \\\n",
    "                                  else self._gini\n",
    "\n",
    "    def fit(self, X, y, feature_names=None):\n",
    "        '''\n",
    "        INPUT:\n",
    "            - X: 2d numpy array\n",
    "            - y: 1d numpy array\n",
    "            - feature_names: numpy array of strings\n",
    "        OUTPUT: None\n",
    "\n",
    "        Build the decision tree.\n",
    "        X is a 2 dimensional array with each column being a feature and each\n",
    "        row a data point.\n",
    "        y is a 1 dimensional array with each value being the corresponding\n",
    "        label.\n",
    "        feature_names is an optional list containing the names of each of the\n",
    "        features.\n",
    "        '''\n",
    "\n",
    "        if feature_names is None or len(feature_names) != X.shape[1]:\n",
    "            self.feature_names = np.arange(X.shape[1])\n",
    "        else:\n",
    "            self.feature_names = feature_names\n",
    "\n",
    "        # Create True/False array of whether the variable is categorical\n",
    "        is_categorical = lambda x: isinstance(x, str) or \\\n",
    "                                   isinstance(x, bool) or \\\n",
    "                                   isinstance(x, str)\n",
    "        self.categorical = np.vectorize(is_categorical)(X[0])\n",
    "\n",
    "        self.root = self._build_tree(X, y)\n",
    "\n",
    "    def _build_tree(self, X, y):\n",
    "        '''\n",
    "        INPUT:\n",
    "            - X: 2d numpy array\n",
    "            - y: 1d numpy array\n",
    "        OUTPUT:\n",
    "            - TreeNode\n",
    "\n",
    "        Recursively build the decision tree. Return the root node.\n",
    "        '''\n",
    "\n",
    "        node = TreeNode()\n",
    "        index, value, splits = self._choose_split_index(X, y)\n",
    "\n",
    "        if index is None or len(np.unique(y)) == 1:\n",
    "            node.leaf = True\n",
    "            node.classes = Counter(y)\n",
    "            node.name = node.classes.most_common(1)[0][0]\n",
    "        else:\n",
    "            X1, y1, X2, y2 = splits\n",
    "            node.column = index\n",
    "            node.name = self.feature_names[index]\n",
    "            node.value = value\n",
    "            node.categorical = self.categorical[index]\n",
    "            node.left = self._build_tree(X1, y1)\n",
    "            node.right = self._build_tree(X2, y2)\n",
    "        return node\n",
    "\n",
    "    def _entropy(self, y):\n",
    "        '''\n",
    "        INPUT:\n",
    "            - y: 1d numpy array\n",
    "        OUTPUT:\n",
    "            - float\n",
    "\n",
    "        Return the entropy of the array y.\n",
    "        '''\n",
    "        \n",
    "        ### YOUR CODE HERE\n",
    "        # negative sum of (p_i * (log2 of p_i) )\n",
    "        \n",
    "        # https://stackoverflow.com/questions/15450192/fastest-way-to-compute-entropy-in-python\n",
    "        \n",
    "        labels = y\n",
    "        n_labels = len(labels)\n",
    "        \n",
    "        y_string, y = np.unique(y, return_counts=True)\n",
    "        \n",
    "        if n_labels <= 1:\n",
    "            return 0\n",
    "\n",
    "#         counts = np.bincount(labels)\n",
    "        counts = y\n",
    "        probs = counts / n_labels\n",
    "        n_classes = np.count_nonzero(probs)\n",
    "\n",
    "        if n_classes <= 1:\n",
    "            return 0\n",
    "\n",
    "        ent = 0.\n",
    "\n",
    "        # Compute standard entropy.\n",
    "        for i in probs:\n",
    "             ent -= i * log(i, n_classes)\n",
    "\n",
    "        return ent\n",
    "        \n",
    "\n",
    "\n",
    "\n",
    "    def _gini(self, y):\n",
    "        '''\n",
    "        INPUT:\n",
    "            - y: 1d numpy array\n",
    "        OUTPUT:\n",
    "            - float\n",
    "\n",
    "        Return the gini impurity of the array y.\n",
    "        '''\n",
    "\n",
    "        ### YOUR CODE HERE\n",
    "        '''\n",
    "        labels = y\n",
    "        n_labels = len(labels)\n",
    "        \n",
    "        y_string, y = np.unique(y, return_counts=True)\n",
    "        \n",
    "        if n_labels <= 1:\n",
    "            return 0\n",
    "\n",
    "#         counts = np.bincount(labels)\n",
    "        counts = y\n",
    "        probs = counts / n_labels\n",
    "        n_classes = np.count_nonzero(probs)\n",
    "\n",
    "        if n_classes <= 1:\n",
    "            return 0\n",
    "\n",
    "        ent = 0.\n",
    "\n",
    "        # Compute standard entropy.\n",
    "        for i in probs:\n",
    "            ent -= i * log(i, base=n_classes)\n",
    "        \n",
    "        return ent\n",
    "        '''\n",
    "        \n",
    "        \n",
    "        \n",
    "        return 0.0\n",
    "\n",
    "    def _make_split(self, X, y, split_index, split_value):\n",
    "        '''\n",
    "        INPUT:\n",
    "            - X: 2d numpy array\n",
    "            - y: 1d numpy array\n",
    "            - split_index: int (index of feature)\n",
    "            - split_value: int/float/bool/str (value of feature)\n",
    "        OUTPUT:\n",
    "            - X1: 2d numpy array (feature matrix for subset 1)\n",
    "            - y1: 1d numpy array (labels for subset 1)\n",
    "            - X2: 2d numpy array (feature matrix for subset 2)\n",
    "            - y2: 1d numpy array (labels for subset 2)\n",
    "\n",
    "        Return the two subsets of the dataset achieved by the given feature and\n",
    "        value to split on.\n",
    "\n",
    "        Call the method like this:\n",
    "        >>> X1, y1, X2, y2 = self._make_split(X, y, split_index, split_value)\n",
    "\n",
    "        X1, y1 is a subset of the data.\n",
    "        X2, y2 is the other subset of the data.\n",
    "        '''\n",
    "\n",
    "        ### YOUR CODE HERE\n",
    "        return None, None, None, None\n",
    "\n",
    "    def _information_gain(self, y, y1, y2):\n",
    "        '''\n",
    "        INPUT:\n",
    "            - y: 1d numpy array\n",
    "            - y1: 1d numpy array (labels for subset 1)\n",
    "            - y2: 1d numpy array (labels for subset 2)\n",
    "        OUTPUT:\n",
    "            - float\n",
    "\n",
    "        Return the information gain of making the given split.\n",
    "\n",
    "        Use self.impurity_criterion(y) rather than calling _entropy or _gini\n",
    "        directly.\n",
    "        '''\n",
    "\n",
    "        ### YOUR CODE HERE\n",
    "        return 0.0\n",
    "\n",
    "    def _choose_split_index(self, X, y):\n",
    "        '''\n",
    "        INPUT:\n",
    "            - X: 2d numpy array\n",
    "            - y: 1d numpy array\n",
    "        OUTPUT:\n",
    "            - index: int (index of feature)\n",
    "            - value: int/float/bool/str (value of feature)\n",
    "            - splits: (2d array, 1d array, 2d array, 1d array)\n",
    "\n",
    "        Determine which feature and value to split on. Return the index and\n",
    "        value of the optimal split along with the split of the dataset.\n",
    "\n",
    "        Return None, None, None if there is no split which improves information\n",
    "        gain.\n",
    "\n",
    "        Call the method like this:\n",
    "        >>> index, value, splits = self._choose_split_index(X, y)\n",
    "        >>> X1, y1, X2, y2 = splits\n",
    "        '''\n",
    "\n",
    "        ### YOUR CODE HERE\n",
    "        return None, None, None\n",
    "\n",
    "    def predict(self, X):\n",
    "        '''\n",
    "        INPUT:\n",
    "            - X: 2d numpy array\n",
    "        OUTPUT:\n",
    "            - y: 1d numpy array\n",
    "\n",
    "        Return an array of predictions for the feature matrix X.\n",
    "        '''\n",
    "\n",
    "        return np.array([self.root.predict_one(row) for row in X])\n",
    "\n",
    "    def __str__(self):\n",
    "        '''\n",
    "        Return string representation of the Decision Tree.\n",
    "        '''\n",
    "        return str(self.root)\n"
   ]
  },
  {
   "cell_type": "code",
   "execution_count": 3,
   "metadata": {
    "ExecuteTime": {
     "end_time": "2018-04-05T20:59:26.728134Z",
     "start_time": "2018-04-05T20:59:26.714964Z"
    },
    "collapsed": true
   },
   "outputs": [],
   "source": [
    "df = pd.read_csv('/Users/tomwong/Documents/dsi-solns-ermine-bitbucket/week4 - soln/w4d4 - dsi-non-parametric-learners/src/data/playgolf.csv')\n",
    "y = df['Result']\n",
    "X = df[['Outlook', 'Temperature', 'Humidity', 'Windy']]\n",
    "tree = DecisionTree()"
   ]
  },
  {
   "cell_type": "code",
   "execution_count": 4,
   "metadata": {
    "ExecuteTime": {
     "end_time": "2018-04-05T20:59:26.736500Z",
     "start_time": "2018-04-05T20:59:26.731981Z"
    },
    "collapsed": true
   },
   "outputs": [],
   "source": [
    "dt._entropy(y)"
   ]
  },
  {
   "cell_type": "code",
   "execution_count": 14,
   "metadata": {
    "ExecuteTime": {
     "end_time": "2018-04-05T21:03:16.687942Z",
     "start_time": "2018-04-05T21:03:16.681916Z"
    }
   },
   "outputs": [
    {
     "name": "stdout",
     "output_type": "stream",
     "text": [
      "<function <lambda> at 0x109b65378>\n"
     ]
    }
   ],
   "source": [
    "is_categorical = lambda x: isinstance(x, str) or \\\n",
    "                                   isinstance(x, bool) or \\\n",
    "                                   isinstance(x, str)\n",
    "print(is_categorical)"
   ]
  },
  {
   "cell_type": "code",
   "execution_count": 18,
   "metadata": {
    "ExecuteTime": {
     "end_time": "2018-04-05T21:05:16.892597Z",
     "start_time": "2018-04-05T21:05:16.887575Z"
    }
   },
   "outputs": [],
   "source": [
    "# np.vectorize(is_categorical)(X[0])"
   ]
  },
  {
   "cell_type": "code",
   "execution_count": null,
   "metadata": {
    "collapsed": true
   },
   "outputs": [],
   "source": []
  }
 ],
 "metadata": {
  "hide_input": false,
  "kernelspec": {
   "display_name": "Python 3",
   "language": "python",
   "name": "python3"
  },
  "language_info": {
   "codemirror_mode": {
    "name": "ipython",
    "version": 3
   },
   "file_extension": ".py",
   "mimetype": "text/x-python",
   "name": "python",
   "nbconvert_exporter": "python",
   "pygments_lexer": "ipython3",
   "version": "3.6.3"
  },
  "latex_envs": {
   "LaTeX_envs_menu_present": true,
   "autoclose": false,
   "autocomplete": true,
   "bibliofile": "biblio.bib",
   "cite_by": "apalike",
   "current_citInitial": 1,
   "eqLabelWithNumbers": true,
   "eqNumInitial": 1,
   "hotkeys": {
    "equation": "Ctrl-E",
    "itemize": "Ctrl-I"
   },
   "labels_anchors": false,
   "latex_user_defs": false,
   "report_style_numbering": false,
   "user_envs_cfg": false
  },
  "toc": {
   "nav_menu": {},
   "number_sections": true,
   "sideBar": true,
   "skip_h1_title": false,
   "title_cell": "Table of Contents",
   "title_sidebar": "Contents",
   "toc_cell": false,
   "toc_position": {},
   "toc_section_display": true,
   "toc_window_display": false
  },
  "varInspector": {
   "cols": {
    "lenName": 16,
    "lenType": 16,
    "lenVar": 40
   },
   "kernels_config": {
    "python": {
     "delete_cmd_postfix": "",
     "delete_cmd_prefix": "del ",
     "library": "var_list.py",
     "varRefreshCmd": "print(var_dic_list())"
    },
    "r": {
     "delete_cmd_postfix": ") ",
     "delete_cmd_prefix": "rm(",
     "library": "var_list.r",
     "varRefreshCmd": "cat(var_dic_list()) "
    }
   },
   "types_to_exclude": [
    "module",
    "function",
    "builtin_function_or_method",
    "instance",
    "_Feature"
   ],
   "window_display": false
  }
 },
 "nbformat": 4,
 "nbformat_minor": 2
}
