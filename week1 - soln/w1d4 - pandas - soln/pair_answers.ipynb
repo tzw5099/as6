{
 "cells": [
  {
   "cell_type": "markdown",
   "metadata": {},
   "source": [
    "# Exploring real Health Care data using Pandas"
   ]
  },
  {
   "cell_type": "code",
   "execution_count": 1,
   "metadata": {
    "collapsed": false
   },
   "outputs": [],
   "source": [
    "import pandas as pd\n",
    "import matplotlib.pyplot as plt\n",
    "%matplotlib inline\n",
    "\n",
    "df = pd.read_csv('data/hospital-costs.csv')"
   ]
  },
  {
   "cell_type": "markdown",
   "metadata": {},
   "source": [
    "### 1\\. Create a new column \"Total Charges\" using \"Discharges\" and \"Mean Charge\".\n",
    "\n",
    "Answer: The product of series is done element-wise: (http://pandas.pydata.org/pandas-docs/stable/generated/pandas.Series.multiply.html)"
   ]
  },
  {
   "cell_type": "code",
   "execution_count": 2,
   "metadata": {
    "collapsed": true
   },
   "outputs": [],
   "source": [
    "df['Total Charge'] = df['Discharges'] * df['Mean Charge']"
   ]
  },
  {
   "cell_type": "markdown",
   "metadata": {},
   "source": [
    "### 2\\. Do the same for the \"Total Costs\" using \"Mean Cost\"."
   ]
  },
  {
   "cell_type": "code",
   "execution_count": 3,
   "metadata": {
    "collapsed": true
   },
   "outputs": [],
   "source": [
    "df['Total Cost'] = df['Discharges'] * df['Mean Cost']"
   ]
  },
  {
   "cell_type": "markdown",
   "metadata": {},
   "source": [
    "### 3\\. Calculate the charges to costs \"markup\" rate.\n",
    "\n",
    "Answer: The division is also done element-wise: (http://pandas.pydata.org/pandas-docs/stable/generated/pandas.Series.divide.html)"
   ]
  },
  {
   "cell_type": "code",
   "execution_count": 4,
   "metadata": {
    "collapsed": true
   },
   "outputs": [],
   "source": [
    "df['Markup'] = df['Mean Charge'] / df['Mean Cost']"
   ]
  },
  {
   "cell_type": "markdown",
   "metadata": {},
   "source": [
    "### 4\\. Which procedure has the highest \"markup\" rate, and which one has the lowest \"markup\" rate. \n",
    "### (It's always good to do a sanity check, do these results make sense to you?)\n",
    "\n",
    "Answer: First, let's sort the dataframe by descending values of \"markup\".  (http://pandas.pydata.org/pandas-docs/stable/generated/pandas.DataFrame.sort_values.html)\n",
    "\n",
    "Then to display the procedures, we will limit ourselves to just a few columns: `Facility Name`, `APR DRG Description`, `Total Charge`, `Total Cost`, and `Markup`."
   ]
  },
  {
   "cell_type": "code",
   "execution_count": 5,
   "metadata": {
    "collapsed": false
   },
   "outputs": [],
   "source": [
    "markups = df.sort_values(by='Markup', ascending=False)\n",
    "\n",
    "markups = markups[['Facility Name', 'APR DRG Description',\n",
    "    'Total Charge', 'Total Cost', 'Markup']]"
   ]
  },
  {
   "cell_type": "markdown",
   "metadata": {},
   "source": [
    "The procedure with the highest (resp. lowest) markup is in the first (resp. last) row of the new dataframe:"
   ]
  },
  {
   "cell_type": "code",
   "execution_count": 6,
   "metadata": {
    "collapsed": false
   },
   "outputs": [
    {
     "name": "stdout",
     "output_type": "stream",
     "text": [
      "procedure with the highest markup:\n"
     ]
    },
    {
     "data": {
      "text/html": [
       "<div>\n",
       "<table border=\"1\" class=\"dataframe\">\n",
       "  <thead>\n",
       "    <tr style=\"text-align: right;\">\n",
       "      <th></th>\n",
       "      <th>Facility Name</th>\n",
       "      <th>APR DRG Description</th>\n",
       "      <th>Total Charge</th>\n",
       "      <th>Total Cost</th>\n",
       "      <th>Markup</th>\n",
       "    </tr>\n",
       "  </thead>\n",
       "  <tbody>\n",
       "    <tr>\n",
       "      <th>111925</th>\n",
       "      <td>SUNY Downstate Medical Center at LICH</td>\n",
       "      <td>Neonate Bwt 1500-1999G W Or W/O Other Signific...</td>\n",
       "      <td>43088.0</td>\n",
       "      <td>2068.0</td>\n",
       "      <td>20.83559</td>\n",
       "    </tr>\n",
       "  </tbody>\n",
       "</table>\n",
       "</div>"
      ],
      "text/plain": [
       "                                Facility Name  \\\n",
       "111925  SUNY Downstate Medical Center at LICH   \n",
       "\n",
       "                                      APR DRG Description  Total Charge  \\\n",
       "111925  Neonate Bwt 1500-1999G W Or W/O Other Signific...       43088.0   \n",
       "\n",
       "        Total Cost    Markup  \n",
       "111925      2068.0  20.83559  "
      ]
     },
     "execution_count": 6,
     "metadata": {},
     "output_type": "execute_result"
    }
   ],
   "source": [
    "print 'procedure with the highest markup:'\n",
    "\n",
    "markups.head(1)"
   ]
  },
  {
   "cell_type": "code",
   "execution_count": 7,
   "metadata": {
    "collapsed": false
   },
   "outputs": [
    {
     "name": "stdout",
     "output_type": "stream",
     "text": [
      "procedure with the lowest markup:\n"
     ]
    },
    {
     "data": {
      "text/html": [
       "<div>\n",
       "<table border=\"1\" class=\"dataframe\">\n",
       "  <thead>\n",
       "    <tr style=\"text-align: right;\">\n",
       "      <th></th>\n",
       "      <th>Facility Name</th>\n",
       "      <th>APR DRG Description</th>\n",
       "      <th>Total Charge</th>\n",
       "      <th>Total Cost</th>\n",
       "      <th>Markup</th>\n",
       "    </tr>\n",
       "  </thead>\n",
       "  <tbody>\n",
       "    <tr>\n",
       "      <th>370760</th>\n",
       "      <td>TLC Health Network Tri-County Memorial Hospital</td>\n",
       "      <td>Alcohol &amp; Drug Dependence W Rehab Or Rehab/Det...</td>\n",
       "      <td>1540540.0</td>\n",
       "      <td>97482510.0</td>\n",
       "      <td>0.015803</td>\n",
       "    </tr>\n",
       "  </tbody>\n",
       "</table>\n",
       "</div>"
      ],
      "text/plain": [
       "                                          Facility Name  \\\n",
       "370760  TLC Health Network Tri-County Memorial Hospital   \n",
       "\n",
       "                                      APR DRG Description  Total Charge  \\\n",
       "370760  Alcohol & Drug Dependence W Rehab Or Rehab/Det...     1540540.0   \n",
       "\n",
       "        Total Cost    Markup  \n",
       "370760  97482510.0  0.015803  "
      ]
     },
     "execution_count": 7,
     "metadata": {},
     "output_type": "execute_result"
    }
   ],
   "source": [
    "print 'procedure with the lowest markup:'\n",
    "\n",
    "markups.tail(1)"
   ]
  },
  {
   "cell_type": "markdown",
   "metadata": {},
   "source": [
    "### Bonus: What if we want to look at procedures with the highest and lowest averaged markup across facilities?\n",
    "\n",
    "We would change the line\n",
    "\n",
    "```python\n",
    "markups = df.sort_values(by='Markup', ascending=False)\n",
    "```\n",
    "\n",
    "to\n",
    "\n",
    "```python\n",
    "markups = (df.groupby('Facility Name').mean()\n",
    "    .sort_values(by='Markup', ascending=False))\n",
    "```\n",
    "\n",
    "The rest of the code is unchanged."
   ]
  },
  {
   "cell_type": "markdown",
   "metadata": {},
   "source": [
    "## Out of curiosity..."
   ]
  },
  {
   "cell_type": "markdown",
   "metadata": {},
   "source": [
    "### 1\\. What are the top 10 reasons people are going to the hospital for, and how many people did they see?"
   ]
  },
  {
   "cell_type": "code",
   "execution_count": 8,
   "metadata": {
    "collapsed": false
   },
   "outputs": [
    {
     "data": {
      "text/html": [
       "<div>\n",
       "<table border=\"1\" class=\"dataframe\">\n",
       "  <thead>\n",
       "    <tr style=\"text-align: right;\">\n",
       "      <th></th>\n",
       "      <th>Discharges</th>\n",
       "    </tr>\n",
       "    <tr>\n",
       "      <th>APR DRG Description</th>\n",
       "      <th></th>\n",
       "    </tr>\n",
       "  </thead>\n",
       "  <tbody>\n",
       "    <tr>\n",
       "      <th>Neonate Birthwt &gt;2499G, Normal Newborn Or Neonate W Other Problem</th>\n",
       "      <td>632412</td>\n",
       "    </tr>\n",
       "    <tr>\n",
       "      <th>Vaginal Delivery</th>\n",
       "      <td>458034</td>\n",
       "    </tr>\n",
       "    <tr>\n",
       "      <th>Cesarean Delivery</th>\n",
       "      <td>245265</td>\n",
       "    </tr>\n",
       "    <tr>\n",
       "      <th>Heart Failure</th>\n",
       "      <td>173826</td>\n",
       "    </tr>\n",
       "    <tr>\n",
       "      <th>Other Pneumonia</th>\n",
       "      <td>162344</td>\n",
       "    </tr>\n",
       "    <tr>\n",
       "      <th>Septicemia &amp; Disseminated Infections</th>\n",
       "      <td>161739</td>\n",
       "    </tr>\n",
       "    <tr>\n",
       "      <th>Chronic Obstructive Pulmonary Disease</th>\n",
       "      <td>146461</td>\n",
       "    </tr>\n",
       "    <tr>\n",
       "      <th>Cellulitis &amp; Other Bacterial Skin Infections</th>\n",
       "      <td>124617</td>\n",
       "    </tr>\n",
       "    <tr>\n",
       "      <th>Cardiac Arrhythmia &amp; Conduction Disorders</th>\n",
       "      <td>121042</td>\n",
       "    </tr>\n",
       "    <tr>\n",
       "      <th>Chest Pain</th>\n",
       "      <td>117630</td>\n",
       "    </tr>\n",
       "  </tbody>\n",
       "</table>\n",
       "</div>"
      ],
      "text/plain": [
       "                                                    Discharges\n",
       "APR DRG Description                                           \n",
       "Neonate Birthwt >2499G, Normal Newborn Or Neona...      632412\n",
       "Vaginal Delivery                                        458034\n",
       "Cesarean Delivery                                       245265\n",
       "Heart Failure                                           173826\n",
       "Other Pneumonia                                         162344\n",
       "Septicemia & Disseminated Infections                    161739\n",
       "Chronic Obstructive Pulmonary Disease                   146461\n",
       "Cellulitis & Other Bacterial Skin Infections            124617\n",
       "Cardiac Arrhythmia & Conduction Disorders               121042\n",
       "Chest Pain                                              117630"
      ]
     },
     "execution_count": 8,
     "metadata": {},
     "output_type": "execute_result"
    }
   ],
   "source": [
    "(df[['APR DRG Description', 'Discharges']]\n",
    "    .groupby('APR DRG Description')\n",
    "    .sum()\n",
    "    .sort_values(by='Discharges', ascending=False)\n",
    "    .head(10))"
   ]
  },
  {
   "cell_type": "markdown",
   "metadata": {
    "collapsed": true
   },
   "source": [
    "### Now, let's follow the money..."
   ]
  },
  {
   "cell_type": "markdown",
   "metadata": {},
   "source": [
    "### 1\\. Create a new dataframe named \"net\" that is only the Facility Name, Total Charge, Total Cost from our original dataframe"
   ]
  },
  {
   "cell_type": "code",
   "execution_count": 9,
   "metadata": {
    "collapsed": true
   },
   "outputs": [],
   "source": [
    "net = df[['Facility Name', 'Total Charge', 'Total Cost']]"
   ]
  },
  {
   "cell_type": "markdown",
   "metadata": {},
   "source": [
    "### 2\\. Find the total amount each hospital spent, and how much they charged. (Group your data by Facility names, and sum all the total costs and total charges) "
   ]
  },
  {
   "cell_type": "code",
   "execution_count": 10,
   "metadata": {
    "collapsed": true
   },
   "outputs": [],
   "source": [
    "net = net.groupby('Facility Name').sum()"
   ]
  },
  {
   "cell_type": "markdown",
   "metadata": {},
   "source": [
    "### 3\\. Now find the net income for every hospital. Tell me the most profitable and the least profitable ones and how much are they making?  "
   ]
  },
  {
   "cell_type": "code",
   "execution_count": 11,
   "metadata": {
    "collapsed": true
   },
   "outputs": [],
   "source": [
    "net['Net Income'] = net['Total Charge'] - net[\"Total Cost\"]\n",
    "\n",
    "net = net.sort_values(by='Net Income', ascending=False)"
   ]
  },
  {
   "cell_type": "code",
   "execution_count": 12,
   "metadata": {
    "collapsed": false
   },
   "outputs": [
    {
     "name": "stdout",
     "output_type": "stream",
     "text": [
      "most profitable:\n"
     ]
    },
    {
     "data": {
      "text/html": [
       "<div>\n",
       "<table border=\"1\" class=\"dataframe\">\n",
       "  <thead>\n",
       "    <tr style=\"text-align: right;\">\n",
       "      <th></th>\n",
       "      <th>Total Charge</th>\n",
       "      <th>Total Cost</th>\n",
       "      <th>Net Income</th>\n",
       "    </tr>\n",
       "    <tr>\n",
       "      <th>Facility Name</th>\n",
       "      <th></th>\n",
       "      <th></th>\n",
       "      <th></th>\n",
       "    </tr>\n",
       "  </thead>\n",
       "  <tbody>\n",
       "    <tr>\n",
       "      <th>North Shore University Hospital</th>\n",
       "      <td>7.984556e+09</td>\n",
       "      <td>1.933824e+09</td>\n",
       "      <td>6.050732e+09</td>\n",
       "    </tr>\n",
       "  </tbody>\n",
       "</table>\n",
       "</div>"
      ],
      "text/plain": [
       "                                 Total Charge    Total Cost    Net Income\n",
       "Facility Name                                                            \n",
       "North Shore University Hospital  7.984556e+09  1.933824e+09  6.050732e+09"
      ]
     },
     "execution_count": 12,
     "metadata": {},
     "output_type": "execute_result"
    }
   ],
   "source": [
    "print 'most profitable:'\n",
    "\n",
    "net.head(1)"
   ]
  },
  {
   "cell_type": "code",
   "execution_count": 13,
   "metadata": {
    "collapsed": false
   },
   "outputs": [
    {
     "name": "stdout",
     "output_type": "stream",
     "text": [
      "least profitable:\n"
     ]
    },
    {
     "data": {
      "text/html": [
       "<div>\n",
       "<table border=\"1\" class=\"dataframe\">\n",
       "  <thead>\n",
       "    <tr style=\"text-align: right;\">\n",
       "      <th></th>\n",
       "      <th>Total Charge</th>\n",
       "      <th>Total Cost</th>\n",
       "      <th>Net Income</th>\n",
       "    </tr>\n",
       "    <tr>\n",
       "      <th>Facility Name</th>\n",
       "      <th></th>\n",
       "      <th></th>\n",
       "      <th></th>\n",
       "    </tr>\n",
       "  </thead>\n",
       "  <tbody>\n",
       "    <tr>\n",
       "      <th>TLC Health Network Tri-County Memorial Hospital</th>\n",
       "      <td>4212448.0</td>\n",
       "      <td>199028516.0</td>\n",
       "      <td>-194816068.0</td>\n",
       "    </tr>\n",
       "  </tbody>\n",
       "</table>\n",
       "</div>"
      ],
      "text/plain": [
       "                                                 Total Charge   Total Cost  \\\n",
       "Facility Name                                                                \n",
       "TLC Health Network Tri-County Memorial Hospital     4212448.0  199028516.0   \n",
       "\n",
       "                                                  Net Income  \n",
       "Facility Name                                                 \n",
       "TLC Health Network Tri-County Memorial Hospital -194816068.0  "
      ]
     },
     "execution_count": 13,
     "metadata": {},
     "output_type": "execute_result"
    }
   ],
   "source": [
    "print 'least profitable:'\n",
    "\n",
    "net.tail(1)"
   ]
  },
  {
   "cell_type": "markdown",
   "metadata": {},
   "source": [
    "## Now, let's focus in on *Viral Meningitis*"
   ]
  },
  {
   "cell_type": "markdown",
   "metadata": {},
   "source": [
    "### 1\\. Create a new dataframe that only contains the data corresponding to *Viral Meningitis*"
   ]
  },
  {
   "cell_type": "code",
   "execution_count": 14,
   "metadata": {
    "collapsed": false
   },
   "outputs": [],
   "source": [
    "newdf = df[df[\"APR DRG Description\"] == \"Viral Meningitis\"]"
   ]
  },
  {
   "cell_type": "markdown",
   "metadata": {},
   "source": [
    "### 2\\. Now, with our new dataframe, only keep the data columns we care about which are:  \n",
    "\n",
    "    `[\"Facility Name\", \"APR DRG Description\", \"APR Severity of Illness Description\", \"Discharges\", \"Mean Charge\", \"Median Charge\", \"Mean Cost\"]`"
   ]
  },
  {
   "cell_type": "code",
   "execution_count": 15,
   "metadata": {
    "collapsed": true
   },
   "outputs": [],
   "source": [
    "newdf = newdf[['Facility Name',\n",
    "    'APR DRG Description', 'APR Severity of Illness Description',\n",
    "    'Discharges',\n",
    "    'Mean Charge', 'Median Charge', 'Mean Cost']]"
   ]
  },
  {
   "cell_type": "code",
   "execution_count": 16,
   "metadata": {
    "collapsed": false
   },
   "outputs": [
    {
     "data": {
      "text/html": [
       "<div>\n",
       "<table border=\"1\" class=\"dataframe\">\n",
       "  <thead>\n",
       "    <tr style=\"text-align: right;\">\n",
       "      <th></th>\n",
       "      <th>Facility Name</th>\n",
       "      <th>APR DRG Description</th>\n",
       "      <th>APR Severity of Illness Description</th>\n",
       "      <th>Discharges</th>\n",
       "      <th>Mean Charge</th>\n",
       "      <th>Median Charge</th>\n",
       "      <th>Mean Cost</th>\n",
       "    </tr>\n",
       "  </thead>\n",
       "  <tbody>\n",
       "    <tr>\n",
       "      <th>24</th>\n",
       "      <td>Adirondack Medical Center-Saranac Lake Site</td>\n",
       "      <td>Viral Meningitis</td>\n",
       "      <td>Minor</td>\n",
       "      <td>1</td>\n",
       "      <td>17116.0</td>\n",
       "      <td>17116.0</td>\n",
       "      <td>7006.0</td>\n",
       "    </tr>\n",
       "    <tr>\n",
       "      <th>557</th>\n",
       "      <td>Albany Medical Center Hospital</td>\n",
       "      <td>Viral Meningitis</td>\n",
       "      <td>Minor</td>\n",
       "      <td>19</td>\n",
       "      <td>13212.0</td>\n",
       "      <td>11914.0</td>\n",
       "      <td>4569.0</td>\n",
       "    </tr>\n",
       "    <tr>\n",
       "      <th>558</th>\n",
       "      <td>Albany Medical Center Hospital</td>\n",
       "      <td>Viral Meningitis</td>\n",
       "      <td>Moderate</td>\n",
       "      <td>11</td>\n",
       "      <td>21197.0</td>\n",
       "      <td>14197.0</td>\n",
       "      <td>7131.0</td>\n",
       "    </tr>\n",
       "    <tr>\n",
       "      <th>559</th>\n",
       "      <td>Albany Medical Center Hospital</td>\n",
       "      <td>Viral Meningitis</td>\n",
       "      <td>Major</td>\n",
       "      <td>6</td>\n",
       "      <td>28074.0</td>\n",
       "      <td>22846.0</td>\n",
       "      <td>7495.0</td>\n",
       "    </tr>\n",
       "    <tr>\n",
       "      <th>560</th>\n",
       "      <td>Albany Medical Center Hospital</td>\n",
       "      <td>Viral Meningitis</td>\n",
       "      <td>Extreme</td>\n",
       "      <td>1</td>\n",
       "      <td>130600.0</td>\n",
       "      <td>130600.0</td>\n",
       "      <td>39086.0</td>\n",
       "    </tr>\n",
       "    <tr>\n",
       "      <th>1635</th>\n",
       "      <td>Albany Memorial Hospital</td>\n",
       "      <td>Viral Meningitis</td>\n",
       "      <td>Minor</td>\n",
       "      <td>3</td>\n",
       "      <td>7694.0</td>\n",
       "      <td>4772.0</td>\n",
       "      <td>2751.0</td>\n",
       "    </tr>\n",
       "    <tr>\n",
       "      <th>1636</th>\n",
       "      <td>Albany Memorial Hospital</td>\n",
       "      <td>Viral Meningitis</td>\n",
       "      <td>Moderate</td>\n",
       "      <td>1</td>\n",
       "      <td>17038.0</td>\n",
       "      <td>17038.0</td>\n",
       "      <td>6306.0</td>\n",
       "    </tr>\n",
       "    <tr>\n",
       "      <th>1637</th>\n",
       "      <td>Albany Memorial Hospital</td>\n",
       "      <td>Viral Meningitis</td>\n",
       "      <td>Major</td>\n",
       "      <td>1</td>\n",
       "      <td>14004.0</td>\n",
       "      <td>14004.0</td>\n",
       "      <td>5052.0</td>\n",
       "    </tr>\n",
       "    <tr>\n",
       "      <th>2199</th>\n",
       "      <td>Alice Hyde Medical Center</td>\n",
       "      <td>Viral Meningitis</td>\n",
       "      <td>Minor</td>\n",
       "      <td>2</td>\n",
       "      <td>9652.0</td>\n",
       "      <td>9652.0</td>\n",
       "      <td>4294.0</td>\n",
       "    </tr>\n",
       "    <tr>\n",
       "      <th>2200</th>\n",
       "      <td>Alice Hyde Medical Center</td>\n",
       "      <td>Viral Meningitis</td>\n",
       "      <td>Moderate</td>\n",
       "      <td>1</td>\n",
       "      <td>15811.0</td>\n",
       "      <td>15811.0</td>\n",
       "      <td>6941.0</td>\n",
       "    </tr>\n",
       "    <tr>\n",
       "      <th>2201</th>\n",
       "      <td>Alice Hyde Medical Center</td>\n",
       "      <td>Viral Meningitis</td>\n",
       "      <td>Major</td>\n",
       "      <td>1</td>\n",
       "      <td>6260.0</td>\n",
       "      <td>6260.0</td>\n",
       "      <td>2374.0</td>\n",
       "    </tr>\n",
       "    <tr>\n",
       "      <th>2680</th>\n",
       "      <td>Arnot Ogden Medical Center</td>\n",
       "      <td>Viral Meningitis</td>\n",
       "      <td>Minor</td>\n",
       "      <td>3</td>\n",
       "      <td>9032.0</td>\n",
       "      <td>8748.0</td>\n",
       "      <td>5382.0</td>\n",
       "    </tr>\n",
       "    <tr>\n",
       "      <th>2681</th>\n",
       "      <td>Arnot Ogden Medical Center</td>\n",
       "      <td>Viral Meningitis</td>\n",
       "      <td>Moderate</td>\n",
       "      <td>9</td>\n",
       "      <td>13371.0</td>\n",
       "      <td>12968.0</td>\n",
       "      <td>6601.0</td>\n",
       "    </tr>\n",
       "    <tr>\n",
       "      <th>2682</th>\n",
       "      <td>Arnot Ogden Medical Center</td>\n",
       "      <td>Viral Meningitis</td>\n",
       "      <td>Extreme</td>\n",
       "      <td>1</td>\n",
       "      <td>56174.0</td>\n",
       "      <td>56174.0</td>\n",
       "      <td>20376.0</td>\n",
       "    </tr>\n",
       "    <tr>\n",
       "      <th>3461</th>\n",
       "      <td>Auburn Community Hospital</td>\n",
       "      <td>Viral Meningitis</td>\n",
       "      <td>Minor</td>\n",
       "      <td>1</td>\n",
       "      <td>9619.0</td>\n",
       "      <td>9619.0</td>\n",
       "      <td>3145.0</td>\n",
       "    </tr>\n",
       "    <tr>\n",
       "      <th>3462</th>\n",
       "      <td>Auburn Community Hospital</td>\n",
       "      <td>Viral Meningitis</td>\n",
       "      <td>Moderate</td>\n",
       "      <td>1</td>\n",
       "      <td>10250.0</td>\n",
       "      <td>10250.0</td>\n",
       "      <td>2974.0</td>\n",
       "    </tr>\n",
       "    <tr>\n",
       "      <th>3463</th>\n",
       "      <td>Auburn Community Hospital</td>\n",
       "      <td>Viral Meningitis</td>\n",
       "      <td>Major</td>\n",
       "      <td>3</td>\n",
       "      <td>41971.0</td>\n",
       "      <td>28204.0</td>\n",
       "      <td>12954.0</td>\n",
       "    </tr>\n",
       "    <tr>\n",
       "      <th>3969</th>\n",
       "      <td>Aurelia Osborn Fox Memorial Hospital</td>\n",
       "      <td>Viral Meningitis</td>\n",
       "      <td>Minor</td>\n",
       "      <td>2</td>\n",
       "      <td>3915.0</td>\n",
       "      <td>3915.0</td>\n",
       "      <td>1834.0</td>\n",
       "    </tr>\n",
       "    <tr>\n",
       "      <th>3970</th>\n",
       "      <td>Aurelia Osborn Fox Memorial Hospital</td>\n",
       "      <td>Viral Meningitis</td>\n",
       "      <td>Moderate</td>\n",
       "      <td>1</td>\n",
       "      <td>2601.0</td>\n",
       "      <td>2601.0</td>\n",
       "      <td>1395.0</td>\n",
       "    </tr>\n",
       "    <tr>\n",
       "      <th>4490</th>\n",
       "      <td>Bellevue Hospital Center</td>\n",
       "      <td>Viral Meningitis</td>\n",
       "      <td>Minor</td>\n",
       "      <td>4</td>\n",
       "      <td>11192.0</td>\n",
       "      <td>10506.0</td>\n",
       "      <td>8495.0</td>\n",
       "    </tr>\n",
       "    <tr>\n",
       "      <th>4491</th>\n",
       "      <td>Bellevue Hospital Center</td>\n",
       "      <td>Viral Meningitis</td>\n",
       "      <td>Moderate</td>\n",
       "      <td>6</td>\n",
       "      <td>13572.0</td>\n",
       "      <td>12370.0</td>\n",
       "      <td>10302.0</td>\n",
       "    </tr>\n",
       "    <tr>\n",
       "      <th>4492</th>\n",
       "      <td>Bellevue Hospital Center</td>\n",
       "      <td>Viral Meningitis</td>\n",
       "      <td>Major</td>\n",
       "      <td>1</td>\n",
       "      <td>2520.0</td>\n",
       "      <td>2520.0</td>\n",
       "      <td>1913.0</td>\n",
       "    </tr>\n",
       "    <tr>\n",
       "      <th>5443</th>\n",
       "      <td>Benedictine Hospital</td>\n",
       "      <td>Viral Meningitis</td>\n",
       "      <td>Minor</td>\n",
       "      <td>1</td>\n",
       "      <td>24895.0</td>\n",
       "      <td>24895.0</td>\n",
       "      <td>9387.0</td>\n",
       "    </tr>\n",
       "    <tr>\n",
       "      <th>6065</th>\n",
       "      <td>Beth Israel Med Center-Kings Hwy Div</td>\n",
       "      <td>Viral Meningitis</td>\n",
       "      <td>Moderate</td>\n",
       "      <td>1</td>\n",
       "      <td>21624.0</td>\n",
       "      <td>21624.0</td>\n",
       "      <td>4158.0</td>\n",
       "    </tr>\n",
       "    <tr>\n",
       "      <th>6066</th>\n",
       "      <td>Beth Israel Med Center-Kings Hwy Div</td>\n",
       "      <td>Viral Meningitis</td>\n",
       "      <td>Major</td>\n",
       "      <td>1</td>\n",
       "      <td>35601.0</td>\n",
       "      <td>35601.0</td>\n",
       "      <td>5893.0</td>\n",
       "    </tr>\n",
       "    <tr>\n",
       "      <th>6752</th>\n",
       "      <td>Beth Israel Medical Center/Petrie Campus</td>\n",
       "      <td>Viral Meningitis</td>\n",
       "      <td>Minor</td>\n",
       "      <td>13</td>\n",
       "      <td>24771.0</td>\n",
       "      <td>22001.0</td>\n",
       "      <td>7479.0</td>\n",
       "    </tr>\n",
       "    <tr>\n",
       "      <th>6753</th>\n",
       "      <td>Beth Israel Medical Center/Petrie Campus</td>\n",
       "      <td>Viral Meningitis</td>\n",
       "      <td>Moderate</td>\n",
       "      <td>10</td>\n",
       "      <td>37921.0</td>\n",
       "      <td>33878.0</td>\n",
       "      <td>9769.0</td>\n",
       "    </tr>\n",
       "    <tr>\n",
       "      <th>6754</th>\n",
       "      <td>Beth Israel Medical Center/Petrie Campus</td>\n",
       "      <td>Viral Meningitis</td>\n",
       "      <td>Major</td>\n",
       "      <td>1</td>\n",
       "      <td>82695.0</td>\n",
       "      <td>82695.0</td>\n",
       "      <td>22145.0</td>\n",
       "    </tr>\n",
       "    <tr>\n",
       "      <th>6755</th>\n",
       "      <td>Beth Israel Medical Center/Petrie Campus</td>\n",
       "      <td>Viral Meningitis</td>\n",
       "      <td>Extreme</td>\n",
       "      <td>2</td>\n",
       "      <td>126194.0</td>\n",
       "      <td>126194.0</td>\n",
       "      <td>34580.0</td>\n",
       "    </tr>\n",
       "    <tr>\n",
       "      <th>7769</th>\n",
       "      <td>Bon Secours Community Hospital</td>\n",
       "      <td>Viral Meningitis</td>\n",
       "      <td>Minor</td>\n",
       "      <td>1</td>\n",
       "      <td>32096.0</td>\n",
       "      <td>32096.0</td>\n",
       "      <td>4401.0</td>\n",
       "    </tr>\n",
       "    <tr>\n",
       "      <th>...</th>\n",
       "      <td>...</td>\n",
       "      <td>...</td>\n",
       "      <td>...</td>\n",
       "      <td>...</td>\n",
       "      <td>...</td>\n",
       "      <td>...</td>\n",
       "      <td>...</td>\n",
       "    </tr>\n",
       "    <tr>\n",
       "      <th>372765</th>\n",
       "      <td>University Hospital</td>\n",
       "      <td>Viral Meningitis</td>\n",
       "      <td>Moderate</td>\n",
       "      <td>14</td>\n",
       "      <td>22205.0</td>\n",
       "      <td>18215.0</td>\n",
       "      <td>7402.0</td>\n",
       "    </tr>\n",
       "    <tr>\n",
       "      <th>372766</th>\n",
       "      <td>University Hospital</td>\n",
       "      <td>Viral Meningitis</td>\n",
       "      <td>Major</td>\n",
       "      <td>1</td>\n",
       "      <td>61976.0</td>\n",
       "      <td>61976.0</td>\n",
       "      <td>21623.0</td>\n",
       "    </tr>\n",
       "    <tr>\n",
       "      <th>372767</th>\n",
       "      <td>University Hospital</td>\n",
       "      <td>Viral Meningitis</td>\n",
       "      <td>Extreme</td>\n",
       "      <td>1</td>\n",
       "      <td>115549.0</td>\n",
       "      <td>115549.0</td>\n",
       "      <td>44503.0</td>\n",
       "    </tr>\n",
       "    <tr>\n",
       "      <th>373821</th>\n",
       "      <td>University Hospital of Brooklyn</td>\n",
       "      <td>Viral Meningitis</td>\n",
       "      <td>Minor</td>\n",
       "      <td>6</td>\n",
       "      <td>6564.0</td>\n",
       "      <td>6185.0</td>\n",
       "      <td>5680.0</td>\n",
       "    </tr>\n",
       "    <tr>\n",
       "      <th>373822</th>\n",
       "      <td>University Hospital of Brooklyn</td>\n",
       "      <td>Viral Meningitis</td>\n",
       "      <td>Moderate</td>\n",
       "      <td>2</td>\n",
       "      <td>15209.0</td>\n",
       "      <td>15209.0</td>\n",
       "      <td>20082.0</td>\n",
       "    </tr>\n",
       "    <tr>\n",
       "      <th>374765</th>\n",
       "      <td>University Hospital SUNY Health Science Center</td>\n",
       "      <td>Viral Meningitis</td>\n",
       "      <td>Minor</td>\n",
       "      <td>23</td>\n",
       "      <td>8052.0</td>\n",
       "      <td>6449.0</td>\n",
       "      <td>4367.0</td>\n",
       "    </tr>\n",
       "    <tr>\n",
       "      <th>374766</th>\n",
       "      <td>University Hospital SUNY Health Science Center</td>\n",
       "      <td>Viral Meningitis</td>\n",
       "      <td>Moderate</td>\n",
       "      <td>6</td>\n",
       "      <td>17923.0</td>\n",
       "      <td>10156.0</td>\n",
       "      <td>9835.0</td>\n",
       "    </tr>\n",
       "    <tr>\n",
       "      <th>374767</th>\n",
       "      <td>University Hospital SUNY Health Science Center</td>\n",
       "      <td>Viral Meningitis</td>\n",
       "      <td>Major</td>\n",
       "      <td>1</td>\n",
       "      <td>11809.0</td>\n",
       "      <td>11809.0</td>\n",
       "      <td>4897.0</td>\n",
       "    </tr>\n",
       "    <tr>\n",
       "      <th>375658</th>\n",
       "      <td>Upstate Univ Hosp at Comm Gen</td>\n",
       "      <td>Viral Meningitis</td>\n",
       "      <td>Moderate</td>\n",
       "      <td>2</td>\n",
       "      <td>8352.0</td>\n",
       "      <td>8352.0</td>\n",
       "      <td>3544.0</td>\n",
       "    </tr>\n",
       "    <tr>\n",
       "      <th>375659</th>\n",
       "      <td>Upstate Univ Hosp at Comm Gen</td>\n",
       "      <td>Viral Meningitis</td>\n",
       "      <td>Minor</td>\n",
       "      <td>1</td>\n",
       "      <td>5314.0</td>\n",
       "      <td>5314.0</td>\n",
       "      <td>2314.0</td>\n",
       "    </tr>\n",
       "    <tr>\n",
       "      <th>376315</th>\n",
       "      <td>Vassar Brothers Medical Center</td>\n",
       "      <td>Viral Meningitis</td>\n",
       "      <td>Minor</td>\n",
       "      <td>4</td>\n",
       "      <td>13083.0</td>\n",
       "      <td>15700.0</td>\n",
       "      <td>3801.0</td>\n",
       "    </tr>\n",
       "    <tr>\n",
       "      <th>376316</th>\n",
       "      <td>Vassar Brothers Medical Center</td>\n",
       "      <td>Viral Meningitis</td>\n",
       "      <td>Moderate</td>\n",
       "      <td>3</td>\n",
       "      <td>15118.0</td>\n",
       "      <td>13955.0</td>\n",
       "      <td>4107.0</td>\n",
       "    </tr>\n",
       "    <tr>\n",
       "      <th>376317</th>\n",
       "      <td>Vassar Brothers Medical Center</td>\n",
       "      <td>Viral Meningitis</td>\n",
       "      <td>Major</td>\n",
       "      <td>1</td>\n",
       "      <td>10466.0</td>\n",
       "      <td>10466.0</td>\n",
       "      <td>2843.0</td>\n",
       "    </tr>\n",
       "    <tr>\n",
       "      <th>377218</th>\n",
       "      <td>Westchester Medical Center</td>\n",
       "      <td>Viral Meningitis</td>\n",
       "      <td>Minor</td>\n",
       "      <td>26</td>\n",
       "      <td>22363.0</td>\n",
       "      <td>18958.0</td>\n",
       "      <td>7642.0</td>\n",
       "    </tr>\n",
       "    <tr>\n",
       "      <th>377219</th>\n",
       "      <td>Westchester Medical Center</td>\n",
       "      <td>Viral Meningitis</td>\n",
       "      <td>Moderate</td>\n",
       "      <td>7</td>\n",
       "      <td>34138.0</td>\n",
       "      <td>35549.0</td>\n",
       "      <td>10788.0</td>\n",
       "    </tr>\n",
       "    <tr>\n",
       "      <th>378345</th>\n",
       "      <td>White Plains Hospital Center</td>\n",
       "      <td>Viral Meningitis</td>\n",
       "      <td>Moderate</td>\n",
       "      <td>8</td>\n",
       "      <td>14114.0</td>\n",
       "      <td>11460.0</td>\n",
       "      <td>5827.0</td>\n",
       "    </tr>\n",
       "    <tr>\n",
       "      <th>378346</th>\n",
       "      <td>White Plains Hospital Center</td>\n",
       "      <td>Viral Meningitis</td>\n",
       "      <td>Minor</td>\n",
       "      <td>8</td>\n",
       "      <td>9849.0</td>\n",
       "      <td>8489.0</td>\n",
       "      <td>4572.0</td>\n",
       "    </tr>\n",
       "    <tr>\n",
       "      <th>379241</th>\n",
       "      <td>Winthrop-University Hospital</td>\n",
       "      <td>Viral Meningitis</td>\n",
       "      <td>Minor</td>\n",
       "      <td>27</td>\n",
       "      <td>17235.0</td>\n",
       "      <td>12763.0</td>\n",
       "      <td>3676.0</td>\n",
       "    </tr>\n",
       "    <tr>\n",
       "      <th>379242</th>\n",
       "      <td>Winthrop-University Hospital</td>\n",
       "      <td>Viral Meningitis</td>\n",
       "      <td>Moderate</td>\n",
       "      <td>16</td>\n",
       "      <td>21234.0</td>\n",
       "      <td>18240.0</td>\n",
       "      <td>5083.0</td>\n",
       "    </tr>\n",
       "    <tr>\n",
       "      <th>379243</th>\n",
       "      <td>Winthrop-University Hospital</td>\n",
       "      <td>Viral Meningitis</td>\n",
       "      <td>Major</td>\n",
       "      <td>2</td>\n",
       "      <td>33729.0</td>\n",
       "      <td>33729.0</td>\n",
       "      <td>8744.0</td>\n",
       "    </tr>\n",
       "    <tr>\n",
       "      <th>380883</th>\n",
       "      <td>Women And Children's Hospital Of Buffalo</td>\n",
       "      <td>Viral Meningitis</td>\n",
       "      <td>Minor</td>\n",
       "      <td>28</td>\n",
       "      <td>6704.0</td>\n",
       "      <td>6234.0</td>\n",
       "      <td>2813.0</td>\n",
       "    </tr>\n",
       "    <tr>\n",
       "      <th>380884</th>\n",
       "      <td>Women And Children's Hospital Of Buffalo</td>\n",
       "      <td>Viral Meningitis</td>\n",
       "      <td>Moderate</td>\n",
       "      <td>9</td>\n",
       "      <td>6974.0</td>\n",
       "      <td>5665.0</td>\n",
       "      <td>2926.0</td>\n",
       "    </tr>\n",
       "    <tr>\n",
       "      <th>380885</th>\n",
       "      <td>Women And Children's Hospital Of Buffalo</td>\n",
       "      <td>Viral Meningitis</td>\n",
       "      <td>Major</td>\n",
       "      <td>2</td>\n",
       "      <td>9626.0</td>\n",
       "      <td>9626.0</td>\n",
       "      <td>4039.0</td>\n",
       "    </tr>\n",
       "    <tr>\n",
       "      <th>381585</th>\n",
       "      <td>Woodhull Medical &amp; Mental Health Center</td>\n",
       "      <td>Viral Meningitis</td>\n",
       "      <td>Minor</td>\n",
       "      <td>2</td>\n",
       "      <td>22947.0</td>\n",
       "      <td>22947.0</td>\n",
       "      <td>19688.0</td>\n",
       "    </tr>\n",
       "    <tr>\n",
       "      <th>381586</th>\n",
       "      <td>Woodhull Medical &amp; Mental Health Center</td>\n",
       "      <td>Viral Meningitis</td>\n",
       "      <td>Moderate</td>\n",
       "      <td>1</td>\n",
       "      <td>26195.0</td>\n",
       "      <td>26195.0</td>\n",
       "      <td>22475.0</td>\n",
       "    </tr>\n",
       "    <tr>\n",
       "      <th>381587</th>\n",
       "      <td>Woodhull Medical &amp; Mental Health Center</td>\n",
       "      <td>Viral Meningitis</td>\n",
       "      <td>Major</td>\n",
       "      <td>3</td>\n",
       "      <td>66690.0</td>\n",
       "      <td>28959.0</td>\n",
       "      <td>57219.0</td>\n",
       "    </tr>\n",
       "    <tr>\n",
       "      <th>382350</th>\n",
       "      <td>Wyckoff Heights Medical Center</td>\n",
       "      <td>Viral Meningitis</td>\n",
       "      <td>Minor</td>\n",
       "      <td>7</td>\n",
       "      <td>12588.0</td>\n",
       "      <td>10618.0</td>\n",
       "      <td>5470.0</td>\n",
       "    </tr>\n",
       "    <tr>\n",
       "      <th>382351</th>\n",
       "      <td>Wyckoff Heights Medical Center</td>\n",
       "      <td>Viral Meningitis</td>\n",
       "      <td>Moderate</td>\n",
       "      <td>2</td>\n",
       "      <td>7258.0</td>\n",
       "      <td>7258.0</td>\n",
       "      <td>3064.0</td>\n",
       "    </tr>\n",
       "    <tr>\n",
       "      <th>382352</th>\n",
       "      <td>Wyckoff Heights Medical Center</td>\n",
       "      <td>Viral Meningitis</td>\n",
       "      <td>Major</td>\n",
       "      <td>1</td>\n",
       "      <td>17336.0</td>\n",
       "      <td>17336.0</td>\n",
       "      <td>5653.0</td>\n",
       "    </tr>\n",
       "    <tr>\n",
       "      <th>383108</th>\n",
       "      <td>Wyoming County Community Hospital</td>\n",
       "      <td>Viral Meningitis</td>\n",
       "      <td>Major</td>\n",
       "      <td>1</td>\n",
       "      <td>4943.0</td>\n",
       "      <td>4943.0</td>\n",
       "      <td>3608.0</td>\n",
       "    </tr>\n",
       "  </tbody>\n",
       "</table>\n",
       "<p>1074 rows × 7 columns</p>\n",
       "</div>"
      ],
      "text/plain": [
       "                                         Facility Name APR DRG Description  \\\n",
       "24         Adirondack Medical Center-Saranac Lake Site    Viral Meningitis   \n",
       "557                     Albany Medical Center Hospital    Viral Meningitis   \n",
       "558                     Albany Medical Center Hospital    Viral Meningitis   \n",
       "559                     Albany Medical Center Hospital    Viral Meningitis   \n",
       "560                     Albany Medical Center Hospital    Viral Meningitis   \n",
       "1635                          Albany Memorial Hospital    Viral Meningitis   \n",
       "1636                          Albany Memorial Hospital    Viral Meningitis   \n",
       "1637                          Albany Memorial Hospital    Viral Meningitis   \n",
       "2199                         Alice Hyde Medical Center    Viral Meningitis   \n",
       "2200                         Alice Hyde Medical Center    Viral Meningitis   \n",
       "2201                         Alice Hyde Medical Center    Viral Meningitis   \n",
       "2680                        Arnot Ogden Medical Center    Viral Meningitis   \n",
       "2681                        Arnot Ogden Medical Center    Viral Meningitis   \n",
       "2682                        Arnot Ogden Medical Center    Viral Meningitis   \n",
       "3461                         Auburn Community Hospital    Viral Meningitis   \n",
       "3462                         Auburn Community Hospital    Viral Meningitis   \n",
       "3463                         Auburn Community Hospital    Viral Meningitis   \n",
       "3969              Aurelia Osborn Fox Memorial Hospital    Viral Meningitis   \n",
       "3970              Aurelia Osborn Fox Memorial Hospital    Viral Meningitis   \n",
       "4490                          Bellevue Hospital Center    Viral Meningitis   \n",
       "4491                          Bellevue Hospital Center    Viral Meningitis   \n",
       "4492                          Bellevue Hospital Center    Viral Meningitis   \n",
       "5443                              Benedictine Hospital    Viral Meningitis   \n",
       "6065              Beth Israel Med Center-Kings Hwy Div    Viral Meningitis   \n",
       "6066              Beth Israel Med Center-Kings Hwy Div    Viral Meningitis   \n",
       "6752          Beth Israel Medical Center/Petrie Campus    Viral Meningitis   \n",
       "6753          Beth Israel Medical Center/Petrie Campus    Viral Meningitis   \n",
       "6754          Beth Israel Medical Center/Petrie Campus    Viral Meningitis   \n",
       "6755          Beth Israel Medical Center/Petrie Campus    Viral Meningitis   \n",
       "7769                    Bon Secours Community Hospital    Viral Meningitis   \n",
       "...                                                ...                 ...   \n",
       "372765                             University Hospital    Viral Meningitis   \n",
       "372766                             University Hospital    Viral Meningitis   \n",
       "372767                             University Hospital    Viral Meningitis   \n",
       "373821                 University Hospital of Brooklyn    Viral Meningitis   \n",
       "373822                 University Hospital of Brooklyn    Viral Meningitis   \n",
       "374765  University Hospital SUNY Health Science Center    Viral Meningitis   \n",
       "374766  University Hospital SUNY Health Science Center    Viral Meningitis   \n",
       "374767  University Hospital SUNY Health Science Center    Viral Meningitis   \n",
       "375658                   Upstate Univ Hosp at Comm Gen    Viral Meningitis   \n",
       "375659                   Upstate Univ Hosp at Comm Gen    Viral Meningitis   \n",
       "376315                  Vassar Brothers Medical Center    Viral Meningitis   \n",
       "376316                  Vassar Brothers Medical Center    Viral Meningitis   \n",
       "376317                  Vassar Brothers Medical Center    Viral Meningitis   \n",
       "377218                      Westchester Medical Center    Viral Meningitis   \n",
       "377219                      Westchester Medical Center    Viral Meningitis   \n",
       "378345                    White Plains Hospital Center    Viral Meningitis   \n",
       "378346                    White Plains Hospital Center    Viral Meningitis   \n",
       "379241                    Winthrop-University Hospital    Viral Meningitis   \n",
       "379242                    Winthrop-University Hospital    Viral Meningitis   \n",
       "379243                    Winthrop-University Hospital    Viral Meningitis   \n",
       "380883        Women And Children's Hospital Of Buffalo    Viral Meningitis   \n",
       "380884        Women And Children's Hospital Of Buffalo    Viral Meningitis   \n",
       "380885        Women And Children's Hospital Of Buffalo    Viral Meningitis   \n",
       "381585         Woodhull Medical & Mental Health Center    Viral Meningitis   \n",
       "381586         Woodhull Medical & Mental Health Center    Viral Meningitis   \n",
       "381587         Woodhull Medical & Mental Health Center    Viral Meningitis   \n",
       "382350                  Wyckoff Heights Medical Center    Viral Meningitis   \n",
       "382351                  Wyckoff Heights Medical Center    Viral Meningitis   \n",
       "382352                  Wyckoff Heights Medical Center    Viral Meningitis   \n",
       "383108               Wyoming County Community Hospital    Viral Meningitis   \n",
       "\n",
       "       APR Severity of Illness Description  Discharges  Mean Charge  \\\n",
       "24                                   Minor           1      17116.0   \n",
       "557                                  Minor          19      13212.0   \n",
       "558                               Moderate          11      21197.0   \n",
       "559                                  Major           6      28074.0   \n",
       "560                                Extreme           1     130600.0   \n",
       "1635                                 Minor           3       7694.0   \n",
       "1636                              Moderate           1      17038.0   \n",
       "1637                                 Major           1      14004.0   \n",
       "2199                                 Minor           2       9652.0   \n",
       "2200                              Moderate           1      15811.0   \n",
       "2201                                 Major           1       6260.0   \n",
       "2680                                 Minor           3       9032.0   \n",
       "2681                              Moderate           9      13371.0   \n",
       "2682                               Extreme           1      56174.0   \n",
       "3461                                 Minor           1       9619.0   \n",
       "3462                              Moderate           1      10250.0   \n",
       "3463                                 Major           3      41971.0   \n",
       "3969                                 Minor           2       3915.0   \n",
       "3970                              Moderate           1       2601.0   \n",
       "4490                                 Minor           4      11192.0   \n",
       "4491                              Moderate           6      13572.0   \n",
       "4492                                 Major           1       2520.0   \n",
       "5443                                 Minor           1      24895.0   \n",
       "6065                              Moderate           1      21624.0   \n",
       "6066                                 Major           1      35601.0   \n",
       "6752                                 Minor          13      24771.0   \n",
       "6753                              Moderate          10      37921.0   \n",
       "6754                                 Major           1      82695.0   \n",
       "6755                               Extreme           2     126194.0   \n",
       "7769                                 Minor           1      32096.0   \n",
       "...                                    ...         ...          ...   \n",
       "372765                            Moderate          14      22205.0   \n",
       "372766                               Major           1      61976.0   \n",
       "372767                             Extreme           1     115549.0   \n",
       "373821                               Minor           6       6564.0   \n",
       "373822                            Moderate           2      15209.0   \n",
       "374765                               Minor          23       8052.0   \n",
       "374766                            Moderate           6      17923.0   \n",
       "374767                               Major           1      11809.0   \n",
       "375658                            Moderate           2       8352.0   \n",
       "375659                               Minor           1       5314.0   \n",
       "376315                               Minor           4      13083.0   \n",
       "376316                            Moderate           3      15118.0   \n",
       "376317                               Major           1      10466.0   \n",
       "377218                               Minor          26      22363.0   \n",
       "377219                            Moderate           7      34138.0   \n",
       "378345                            Moderate           8      14114.0   \n",
       "378346                               Minor           8       9849.0   \n",
       "379241                               Minor          27      17235.0   \n",
       "379242                            Moderate          16      21234.0   \n",
       "379243                               Major           2      33729.0   \n",
       "380883                               Minor          28       6704.0   \n",
       "380884                            Moderate           9       6974.0   \n",
       "380885                               Major           2       9626.0   \n",
       "381585                               Minor           2      22947.0   \n",
       "381586                            Moderate           1      26195.0   \n",
       "381587                               Major           3      66690.0   \n",
       "382350                               Minor           7      12588.0   \n",
       "382351                            Moderate           2       7258.0   \n",
       "382352                               Major           1      17336.0   \n",
       "383108                               Major           1       4943.0   \n",
       "\n",
       "        Median Charge  Mean Cost  \n",
       "24            17116.0     7006.0  \n",
       "557           11914.0     4569.0  \n",
       "558           14197.0     7131.0  \n",
       "559           22846.0     7495.0  \n",
       "560          130600.0    39086.0  \n",
       "1635           4772.0     2751.0  \n",
       "1636          17038.0     6306.0  \n",
       "1637          14004.0     5052.0  \n",
       "2199           9652.0     4294.0  \n",
       "2200          15811.0     6941.0  \n",
       "2201           6260.0     2374.0  \n",
       "2680           8748.0     5382.0  \n",
       "2681          12968.0     6601.0  \n",
       "2682          56174.0    20376.0  \n",
       "3461           9619.0     3145.0  \n",
       "3462          10250.0     2974.0  \n",
       "3463          28204.0    12954.0  \n",
       "3969           3915.0     1834.0  \n",
       "3970           2601.0     1395.0  \n",
       "4490          10506.0     8495.0  \n",
       "4491          12370.0    10302.0  \n",
       "4492           2520.0     1913.0  \n",
       "5443          24895.0     9387.0  \n",
       "6065          21624.0     4158.0  \n",
       "6066          35601.0     5893.0  \n",
       "6752          22001.0     7479.0  \n",
       "6753          33878.0     9769.0  \n",
       "6754          82695.0    22145.0  \n",
       "6755         126194.0    34580.0  \n",
       "7769          32096.0     4401.0  \n",
       "...               ...        ...  \n",
       "372765        18215.0     7402.0  \n",
       "372766        61976.0    21623.0  \n",
       "372767       115549.0    44503.0  \n",
       "373821         6185.0     5680.0  \n",
       "373822        15209.0    20082.0  \n",
       "374765         6449.0     4367.0  \n",
       "374766        10156.0     9835.0  \n",
       "374767        11809.0     4897.0  \n",
       "375658         8352.0     3544.0  \n",
       "375659         5314.0     2314.0  \n",
       "376315        15700.0     3801.0  \n",
       "376316        13955.0     4107.0  \n",
       "376317        10466.0     2843.0  \n",
       "377218        18958.0     7642.0  \n",
       "377219        35549.0    10788.0  \n",
       "378345        11460.0     5827.0  \n",
       "378346         8489.0     4572.0  \n",
       "379241        12763.0     3676.0  \n",
       "379242        18240.0     5083.0  \n",
       "379243        33729.0     8744.0  \n",
       "380883         6234.0     2813.0  \n",
       "380884         5665.0     2926.0  \n",
       "380885         9626.0     4039.0  \n",
       "381585        22947.0    19688.0  \n",
       "381586        26195.0    22475.0  \n",
       "381587        28959.0    57219.0  \n",
       "382350        10618.0     5470.0  \n",
       "382351         7258.0     3064.0  \n",
       "382352        17336.0     5653.0  \n",
       "383108         4943.0     3608.0  \n",
       "\n",
       "[1074 rows x 7 columns]"
      ]
     },
     "execution_count": 16,
     "metadata": {},
     "output_type": "execute_result"
    }
   ],
   "source": [
    "newdf"
   ]
  },
  {
   "cell_type": "markdown",
   "metadata": {},
   "source": [
    "### 3\\. Find which hospital is the least expensive (based on \"Mean Charge\") for treating Moderate cases of VM."
   ]
  },
  {
   "cell_type": "code",
   "execution_count": 17,
   "metadata": {
    "collapsed": false
   },
   "outputs": [
    {
     "data": {
      "text/html": [
       "<div>\n",
       "<table border=\"1\" class=\"dataframe\">\n",
       "  <thead>\n",
       "    <tr style=\"text-align: right;\">\n",
       "      <th></th>\n",
       "      <th>Facility Name</th>\n",
       "      <th>Mean Charge</th>\n",
       "    </tr>\n",
       "  </thead>\n",
       "  <tbody>\n",
       "    <tr>\n",
       "      <th>258259</th>\n",
       "      <td>Aurelia Osborn Fox Memorial Hospital</td>\n",
       "      <td>1179.0</td>\n",
       "    </tr>\n",
       "  </tbody>\n",
       "</table>\n",
       "</div>"
      ],
      "text/plain": [
       "                               Facility Name  Mean Charge\n",
       "258259  Aurelia Osborn Fox Memorial Hospital       1179.0"
      ]
     },
     "execution_count": 17,
     "metadata": {},
     "output_type": "execute_result"
    }
   ],
   "source": [
    "moderate = newdf[newdf['APR Severity of Illness Description'] == 'Moderate']\n",
    "\n",
    "(moderate[['Facility Name', 'Mean Charge']]\n",
    "    .sort_values(by='Mean Charge', ascending=True).head(1))"
   ]
  },
  {
   "cell_type": "markdown",
   "metadata": {},
   "source": [
    "### 4\\. Find which hospital is the least expensive for treating Moderate cases of VM **that have more than 3 Discharges**."
   ]
  },
  {
   "cell_type": "code",
   "execution_count": 18,
   "metadata": {
    "collapsed": false
   },
   "outputs": [
    {
     "data": {
      "text/html": [
       "<div>\n",
       "<table border=\"1\" class=\"dataframe\">\n",
       "  <thead>\n",
       "    <tr style=\"text-align: right;\">\n",
       "      <th></th>\n",
       "      <th>Facility Name</th>\n",
       "      <th>Discharges</th>\n",
       "      <th>Mean Charge</th>\n",
       "    </tr>\n",
       "  </thead>\n",
       "  <tbody>\n",
       "    <tr>\n",
       "      <th>14426</th>\n",
       "      <td>Cayuga Medical Center at Ithaca</td>\n",
       "      <td>6</td>\n",
       "      <td>5738.0</td>\n",
       "    </tr>\n",
       "  </tbody>\n",
       "</table>\n",
       "</div>"
      ],
      "text/plain": [
       "                         Facility Name  Discharges  Mean Charge\n",
       "14426  Cayuga Medical Center at Ithaca           6       5738.0"
      ]
     },
     "execution_count": 18,
     "metadata": {},
     "output_type": "execute_result"
    }
   ],
   "source": [
    "threeOrMore = moderate[moderate['Discharges'] >= 3]\n",
    "\n",
    "(threeOrMore[['Facility Name', 'Discharges', 'Mean Charge']]\n",
    "    .sort_values(by='Mean Charge', ascending=True)).head(1)"
   ]
  },
  {
   "cell_type": "markdown",
   "metadata": {},
   "source": [
    "### 5\\. Find which hospital discharges the most cases of Viral Meningitis for all levels of severity."
   ]
  },
  {
   "cell_type": "code",
   "execution_count": 19,
   "metadata": {
    "collapsed": false
   },
   "outputs": [
    {
     "data": {
      "text/html": [
       "<div>\n",
       "<table border=\"1\" class=\"dataframe\">\n",
       "  <thead>\n",
       "    <tr style=\"text-align: right;\">\n",
       "      <th></th>\n",
       "      <th>Discharges</th>\n",
       "    </tr>\n",
       "    <tr>\n",
       "      <th>Facility Name</th>\n",
       "      <th></th>\n",
       "    </tr>\n",
       "  </thead>\n",
       "  <tbody>\n",
       "    <tr>\n",
       "      <th>North Shore University Hospital</th>\n",
       "      <td>158</td>\n",
       "    </tr>\n",
       "  </tbody>\n",
       "</table>\n",
       "</div>"
      ],
      "text/plain": [
       "                                 Discharges\n",
       "Facility Name                              \n",
       "North Shore University Hospital         158"
      ]
     },
     "execution_count": 19,
     "metadata": {},
     "output_type": "execute_result"
    }
   ],
   "source": [
    "# Step 1. Group all (Viral Meningitis) discharges for each hospital\n",
    "group = newdf[['Facility Name', 'Discharges']].groupby('Facility Name').sum()\n",
    "\n",
    "# Step 2. Which hospiptals discharge the most?\n",
    "group.sort_values(by='Discharges', ascending=False).head(1)"
   ]
  },
  {
   "cell_type": "markdown",
   "metadata": {},
   "source": [
    "### 6\\. Find if there is a correlation between the severity of illness and the charge."
   ]
  },
  {
   "cell_type": "markdown",
   "metadata": {},
   "source": [
    "A boxplot of the mean charge for each severity of illness shows that mean charges tend to increase as severity increases (from minor, to moderate, to major, and then to extreme):"
   ]
  },
  {
   "cell_type": "code",
   "execution_count": 20,
   "metadata": {
    "collapsed": false
   },
   "outputs": [
    {
     "data": {
      "text/plain": [
       "<matplotlib.axes._subplots.AxesSubplot at 0x1029ae2d0>"
      ]
     },
     "execution_count": 20,
     "metadata": {},
     "output_type": "execute_result"
    },
    {
     "data": {
      "image/png": "[encoded data removed]",
      "text/plain": [
       "<matplotlib.figure.Figure at 0x112ead810>"
      ]
     },
     "metadata": {},
     "output_type": "display_data"
    }
   ],
   "source": [
    "newdf.boxplot('Mean Charge', by='APR Severity of Illness Description')"
   ]
  },
  {
   "cell_type": "markdown",
   "metadata": {},
   "source": [
    "The correlation is therefore positive.\n",
    "\n",
    "By default, the grouped columns (extreme, major, minor, and moderate) are sorted alphabetically.  A better graph, would order the column by increased level of severity:"
   ]
  },
  {
   "cell_type": "code",
   "execution_count": 21,
   "metadata": {
    "collapsed": false
   },
   "outputs": [
    {
     "data": {
      "text/plain": [
       "<matplotlib.axes._subplots.AxesSubplot at 0x1044fbd90>"
      ]
     },
     "execution_count": 21,
     "metadata": {},
     "output_type": "execute_result"
    },
    {
     "data": {
      "image/png": "[encoded data removed]",
      "text/plain": [
       "<matplotlib.figure.Figure at 0x112e9ebd0>"
      ]
     },
     "metadata": {},
     "output_type": "display_data"
    }
   ],
   "source": [
    "severities = ['Minor', 'Moderate','Major','Extreme']\n",
    "\n",
    "pd.DataFrame({severity: newdf[newdf['APR Severity of Illness Description'] == severity]['Mean Charge'] for severity in severities},\n",
    "             columns = severities).boxplot(return_type='axes')"
   ]
  },
  {
   "cell_type": "markdown",
   "metadata": {},
   "source": [
    "To calculate an actual value for the correlation, one would need to code these levels as numerics, e.g., as equally spaced integers of increasing values.  Note that there is no justification for that particular encoding, making the correlation more dependent on this encoding than any reality of the population. You should then question the statistical meaningfulness of the value you would compute."
   ]
  },
  {
   "cell_type": "code",
   "execution_count": 22,
   "metadata": {
    "collapsed": false
   },
   "outputs": [
    {
     "data": {
      "text/html": [
       "<div>\n",
       "<table border=\"1\" class=\"dataframe\">\n",
       "  <thead>\n",
       "    <tr style=\"text-align: right;\">\n",
       "      <th></th>\n",
       "      <th>APR Severity of Illness</th>\n",
       "      <th>Mean Charge</th>\n",
       "    </tr>\n",
       "  </thead>\n",
       "  <tbody>\n",
       "    <tr>\n",
       "      <th>APR Severity of Illness</th>\n",
       "      <td>1.000000</td>\n",
       "      <td>0.921642</td>\n",
       "    </tr>\n",
       "    <tr>\n",
       "      <th>Mean Charge</th>\n",
       "      <td>0.921642</td>\n",
       "      <td>1.000000</td>\n",
       "    </tr>\n",
       "  </tbody>\n",
       "</table>\n",
       "</div>"
      ],
      "text/plain": [
       "                         APR Severity of Illness  Mean Charge\n",
       "APR Severity of Illness                 1.000000     0.921642\n",
       "Mean Charge                             0.921642     1.000000"
      ]
     },
     "execution_count": 22,
     "metadata": {},
     "output_type": "execute_result"
    }
   ],
   "source": [
    "# Let's first calculate the mean charge per level of severity\n",
    "group = (newdf[['APR Severity of Illness Description', 'Mean Charge']]\n",
    "    .groupby('APR Severity of Illness Description').mean()\n",
    "    .reset_index())\n",
    "\n",
    "# Let's then rank order the severity level from minor to extreme\n",
    "group['APR Severity of Illness'] = (group['APR Severity of Illness Description']\n",
    "    .map({'Minor': 0, 'Moderate': 1, 'Major': 2, 'Extreme': 3}))\n",
    "\n",
    "group[['APR Severity of Illness', 'Mean Charge']].corr()"
   ]
  },
  {
   "cell_type": "markdown",
   "metadata": {},
   "source": [
    "## Data can be tricky"
   ]
  },
  {
   "cell_type": "markdown",
   "metadata": {},
   "source": [
    "### 1\\. Which illness has the most discharges?"
   ]
  },
  {
   "cell_type": "code",
   "execution_count": 23,
   "metadata": {
    "collapsed": false
   },
   "outputs": [
    {
     "data": {
      "text/html": [
       "<div>\n",
       "<table border=\"1\" class=\"dataframe\">\n",
       "  <thead>\n",
       "    <tr style=\"text-align: right;\">\n",
       "      <th></th>\n",
       "      <th></th>\n",
       "      <th>Discharges</th>\n",
       "    </tr>\n",
       "    <tr>\n",
       "      <th>APR DRG Description</th>\n",
       "      <th>APR Severity of Illness Description</th>\n",
       "      <th></th>\n",
       "    </tr>\n",
       "  </thead>\n",
       "  <tbody>\n",
       "    <tr>\n",
       "      <th>Neonate Birthwt &gt;2499G, Normal Newborn Or Neonate W Other Problem</th>\n",
       "      <th>Minor</th>\n",
       "      <td>528921</td>\n",
       "    </tr>\n",
       "  </tbody>\n",
       "</table>\n",
       "</div>"
      ],
      "text/plain": [
       "                                                                                        Discharges\n",
       "APR DRG Description                                APR Severity of Illness Description            \n",
       "Neonate Birthwt >2499G, Normal Newborn Or Neona... Minor                                    528921"
      ]
     },
     "execution_count": 23,
     "metadata": {},
     "output_type": "execute_result"
    }
   ],
   "source": [
    "# Step 1. Group illnesses by description and severity\n",
    "group = (df[['APR DRG Description', 'APR Severity of Illness Description', 'Discharges']]\n",
    "    .groupby(['APR DRG Description', 'APR Severity of Illness Description'])\n",
    "    .sum())\n",
    "\n",
    "# Step 2. Which illness has the most discharges?\n",
    "group.sort_values(by='Discharges', ascending=False).head(1)"
   ]
  }
 ],
 "metadata": {
  "anaconda-cloud": {},
  "kernelspec": {
   "display_name": "Python 2",
   "language": "python",
   "name": "python2"
  },
  "language_info": {
   "codemirror_mode": {
    "name": "ipython",
    "version": 2
   },
   "file_extension": ".py",
   "mimetype": "text/x-python",
   "name": "python",
   "nbconvert_exporter": "python",
   "pygments_lexer": "ipython2",
   "version": "2.7.13"
  }
 },
 "nbformat": 4,
 "nbformat_minor": 0
}
