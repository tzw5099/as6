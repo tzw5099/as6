{
 "cells": [
  {
   "cell_type": "markdown",
   "metadata": {},
   "source": [
    "### Notes : environment for this assignment\n",
    "\n",
    "You can choose to work on this assignment in any environment. We recommend you choose an interactive environment for executing commands and a text editor on the side for implementing classes.\n",
    "\n",
    "Whether you're executing commands from **IPython** or **notebook**, you should first set the autoreload mode for imports. Use the following lines once at the beginning:\n",
    "\n",
    "```python\n",
    "%load_ext autoreload\n",
    "%autoreload 2\n",
    "```\n",
    "\n",
    "In notebook, use `%matplotlib inline` to display images into your notebook rather than in a separate window."
   ]
  },
  {
   "cell_type": "code",
   "execution_count": 1,
   "metadata": {
    "collapsed": true
   },
   "outputs": [],
   "source": [
    "%load_ext autoreload\n",
    "%autoreload 2\n",
    "%matplotlib inline"
   ]
  },
  {
   "cell_type": "markdown",
   "metadata": {},
   "source": [
    "# Part 1: drawing instances of visual shape classes\n",
    "\n",
    "We are going to develop a simple graphical interface to draw **visual shapes**. To begin, you will have to create different **shapes** that all fit into a common class description. Your shapes will be drawn on the screen using an existing class we will provide, called `SimpleGUI`.\n",
    "\n",
    "Conceptually, a **shape** is defined as 1) some subspace of the screen and 2) a color.\n",
    "\n",
    "The subspace is defined by a characteristic function `mu` on the screen grid: you can be either inside that surface or outside. Mathematically, this function would be defined as $\\mu(x,y) \\rightarrow \\{True, False\\}$.\n",
    "\n",
    "The color is coded as a tuple of the form `(r,g,b)` that codes the rgb components each between 0 and 255.\n",
    "\n",
    "So, as a synthesis, in python we will define a **shape** by:\n",
    "- an **attribute** called `color` that is a tuple of the form `(r,g,b)` that codes the rgb components (between 0 and 255)\n",
    "- a **method** called `mu`: takes two arguments `x` and `y` and tests if the point falls within the shape (returns True) or not (returns False).\n",
    "\n",
    "The reasons why we choose to design those shapes as classes are:\n",
    "- a shape object would contain everything needed to draw a shape ([https://en.wikipedia.org/wiki/Encapsulation_(computer_programming)](encapsulation))\n",
    "- every shape, whether it is a circle, a rectangle, or something more complex, would fall into a unique template ([https://en.wikipedia.org/wiki/Polymorphism_(computer_science)](polymorphism))\n",
    "- one can design a mechanism to draw, to generate, to process shapes without having to know how they work internally (encapsulation + [https://en.wikipedia.org/wiki/Separation_of_concerns](separation of concerns))\n",
    "\n",
    "\n",
    "### Playing with `Circle`\n",
    "\n",
    "1\\. In a text editor, open file `shapes.py` and look at the example class `Circle`. As you can\n",
    "see from the `__init__()` constructor method, a circle has four **attributes**. We will find the attribute :\n",
    "- `color`: an `(r,g,b)` tuple as specified above.\n",
    "\n",
    "And add three other:\n",
    "- `cx`: the first coordinate of the center of the circle\n",
    "- `cy`: the second coordinate of the center of the circle\n",
    "- `radius`: the radius of the circle\n",
    "\n",
    "Those attributes are used in the `.mu()` method to determine if points `(x,y)` is in or out this circle. Below, you'll find the code of that method `.mu()` of class `Circle`. Identify where `self.cx`,  `self.cy` and `self.radius` are used, and how this is used to produce a circle centered on coordinated `(cx,cy)` with the given `radius`.\n",
    "\n",
    "```python\n",
    "def mu(self, x, y):\n",
    "    \"\"\"Characteristic function of the shape.\n",
    "    Returns True if (x,y) is inside the shape, else False.\n",
    "\n",
    "    Parameters\n",
    "    ----------\n",
    "    x : int, x coordinate of a pixel\n",
    "    y : int, y coordinate of a pixel\n",
    "\n",
    "    Returns\n",
    "    -------\n",
    "    boolean : True or False whether (x,y) is within the shape.\n",
    "    \"\"\"\n",
    "    t_dist = math.sqrt((x - self.cx)**2 + (y - self.cy)**2)\n",
    "    return (t_dist < self.radius)\n",
    "```\n",
    "\n",
    "2\\. In **`ipython`**, import class `Circle` from module `shapes`. Create an instance `circle1` centered on (100,100) with radius 50 and color (255, 0, 0). Type `circle1` in `ipython` to display the content of `circle1`, you should see something like:\n",
    "\n",
    "```\n",
    "<areas.Circle instance at 0x103f61cb0>\n",
    "```\n",
    "\n",
    "the last value starting with `0x` should be different. It corresponds to the index of your instance in memory."
   ]
  },
  {
   "cell_type": "code",
   "execution_count": 2,
   "metadata": {},
   "outputs": [
    {
     "name": "stdout",
     "output_type": "stream",
     "text": [
      "<shapes.Circle object at 0x7ff77b7a4320>\n"
     ]
    }
   ],
   "source": [
    "from shapes import Circle\n",
    "\n",
    "circle1 = Circle(100, 100, 50, (255, 0, 0)) \n",
    "\n",
    "print(circle1)"
   ]
  },
  {
   "cell_type": "markdown",
   "metadata": {},
   "source": [
    "3\\. Use method `.mu()` of `circle1` to check if points at coordinates `(0,0)`, `(100,70)`, `(300,20)` are in or out `circle1`"
   ]
  },
  {
   "cell_type": "code",
   "execution_count": 3,
   "metadata": {},
   "outputs": [
    {
     "name": "stdout",
     "output_type": "stream",
     "text": [
      "False\n",
      "True\n",
      "False\n"
     ]
    }
   ],
   "source": [
    "print(circle1.mu(0, 0))\n",
    "print(circle1.mu(100, 70))\n",
    "print(circle1.mu(300, 20))"
   ]
  },
  {
   "cell_type": "markdown",
   "metadata": {},
   "source": [
    "### Testing the `gui`\n",
    "\n",
    "4\\. We will now test our drawing engine. Import class `SimpleGUI` from the provided module `simplegui`. Create an instance of that class called `gui`. Use method `gui.test()` to test your instance. It should display the image below (in a separate window or within your notebook).\n",
    "\n",
    "<img src=\"img/gui_test.png\" width=320/>"
   ]
  },
  {
   "cell_type": "code",
   "execution_count": 4,
   "metadata": {},
   "outputs": [
    {
     "data": {
      "image/png": "[encoded data removed]",
      "text/plain": [
       "<matplotlib.figure.Figure at 0x7ff756a08748>"
      ]
     },
     "metadata": {},
     "output_type": "display_data"
    }
   ],
   "source": [
    "from simplegui import SimpleGUI\n",
    "\n",
    "gui = SimpleGUI()\n",
    "gui.test()"
   ]
  },
  {
   "cell_type": "markdown",
   "metadata": {},
   "source": [
    "5\\. We are now going to draw `circle1`. Create an empty `list` that you call `shapelist` and put `circle1` into that list. Use `gui.draw()` to draw `shapelist`. It should display as below.\n",
    "\n",
    "**Note**: `x` and `y` are defined as coordinates of pixels on a computer screen. Then `x` increase from left to right, and `y` increase from top to bottom.\n",
    "\n",
    "<img src=\"img/gui_draw_circle1.png\" width=320/>"
   ]
  },
  {
   "cell_type": "code",
   "execution_count": 5,
   "metadata": {},
   "outputs": [
    {
     "data": {
      "image/png": "[encoded data removed]",
      "text/plain": [
       "<matplotlib.figure.Figure at 0x7ff7569d7828>"
      ]
     },
     "metadata": {},
     "output_type": "display_data"
    }
   ],
   "source": [
    "shape_list = []\n",
    "shape_list.append(circle1)\n",
    "gui.draw(shape_list)"
   ]
  },
  {
   "cell_type": "markdown",
   "metadata": {},
   "source": [
    "### Creating instances of the `Circle` class\n",
    "\n",
    "6\\. Create two new instances of `Circle` with the following parameters:\n",
    "\n",
    "- instance `circle2`: centered on (200, 100) with radius 70 and color (0, 255, 0)\n",
    "- instance `circle3`: centered on (100, 200) with radius 10 and color (0, 0, 255)\n",
    "\n",
    "Add those two instances to `shapelist` and use `gui.draw()` to display the result. It should display as below.\n",
    "\n",
    "<img src=\"img/gui_draw_circle123.png\" width=320/>"
   ]
  },
  {
   "cell_type": "code",
   "execution_count": 6,
   "metadata": {},
   "outputs": [
    {
     "data": {
      "image/png": "[encoded data removed]",
      "text/plain": [
       "<matplotlib.figure.Figure at 0x7ff756927898>"
      ]
     },
     "metadata": {},
     "output_type": "display_data"
    }
   ],
   "source": [
    "circle2 = Circle(200, 100, 70, (0, 255, 0))\n",
    "circle3 = Circle(100, 200, 10, (0, 0, 255))\n",
    "shape_list.append(circle2)\n",
    "shape_list.append(circle3)\n",
    "gui.draw(shape_list)"
   ]
  },
  {
   "cell_type": "markdown",
   "metadata": {},
   "source": [
    "7\\. Now, if you execute the following lines:\n",
    "\n",
    "```python\n",
    "circle1.cx = 300\n",
    "gui.draw(shapelist)\n",
    "```\n",
    "\n",
    "What do you think will happen? Will it display the same result as before? A different one? an error message?"
   ]
  },
  {
   "cell_type": "code",
   "execution_count": 7,
   "metadata": {},
   "outputs": [
    {
     "data": {
      "image/png": "[encoded data removed]",
      "text/plain": [
       "<matplotlib.figure.Figure at 0x7ff756917a90>"
      ]
     },
     "metadata": {},
     "output_type": "display_data"
    }
   ],
   "source": [
    "circle1.cx = 300\n",
    "gui.draw(shape_list)"
   ]
  },
  {
   "cell_type": "code",
   "execution_count": 8,
   "metadata": {},
   "outputs": [
    {
     "data": {
      "image/png": "[encoded data removed]",
      "text/plain": [
       "<matplotlib.figure.Figure at 0x7ff7567b6710>"
      ]
     },
     "metadata": {},
     "output_type": "display_data"
    }
   ],
   "source": [
    "shape_list = []\n",
    "n = 10\n",
    "f = 1.0\n",
    "\n",
    "for i in range(n):\n",
    "    f = f/2\n",
    "    c = int(255*f)\n",
    "    shape_list.append(Circle(int(600*f), 240, int(f*640/4), (c,c,c)))\n",
    "\n",
    "gui.draw(shape_list)"
   ]
  },
  {
   "cell_type": "markdown",
   "metadata": {},
   "source": [
    "### Create another shape class `Rectangle`\n",
    "\n",
    "**In file `shapes.py` you will find a template for a new class `Rectangle`.**\n",
    "\n",
    "8\\. Use the template to code a `Rectangle` class, as defined by four coordinates `x0,y0,x1,y1` that form the upper left corner (`x0,y0`) and the lower right corner (`x1,y1`) of the rectangle, plus a `color`, as long as function `.mu()` returning True inside the rectangle and False outside.\n",
    "\n",
    "9\\. Test your `Rectangle` class by creating an instance with the following parameters:\n",
    "- `x0 = 10`\n",
    "- `y0 = 50`\n",
    "- `x1 = 100`\n",
    "- `y1 = 200`\n",
    "- `color = (255,0,255)`\n",
    "\n",
    "When using `gui.draw()` with a list made of that instance, it should display as below:\n",
    "\n",
    "<img src=\"img/gui_draw_rect1.png\" width=320/>"
   ]
  },
  {
   "cell_type": "code",
   "execution_count": 9,
   "metadata": {},
   "outputs": [
    {
     "data": {
      "image/png": "[encoded data removed]",
      "text/plain": [
       "<matplotlib.figure.Figure at 0x7ff756869080>"
      ]
     },
     "metadata": {},
     "output_type": "display_data"
    }
   ],
   "source": [
    "from shapes import Rectangle\n",
    "\n",
    "rect1 = Rectangle(10, 50, 100, 200, (255, 0, 255))\n",
    "\n",
    "shape_list = []\n",
    "shape_list.append(rect1)\n",
    "gui.draw(shape_list)"
   ]
  },
  {
   "cell_type": "markdown",
   "metadata": {},
   "source": [
    "# Part 2: union, intersection, difference classes\n",
    "\n",
    "In this part we will create classes that represent set operations between the shapes we just have created. Namely, we will design union, intersection and difference between two shapes `shape_a` and `shape_b` as specified:\n",
    "\n",
    "**`UnionShape`**:\n",
    "- it will have as an attribute both input shapes `shape_a` and `shape_b`,\n",
    "- its `.mu()` will compute the set union of `shape_a.mu()` and `shape_b.mu()` : it will return true on points that belong to `shape_a` or to `shape_b`\n",
    "- and its color will be the average of color components of `shape_a.color` and `shape_b.color`.\n",
    "\n",
    "**`IntersectionShape`**:\n",
    "- it will have as an attribute both input shapes `shape_a` and `shape_b`,\n",
    "- its `.mu()` will compute the set intersection of `shape_a.mu()` and `shape_b.mu()` : it will return true for points that belong both to `shape_a` and to `shape_b`\n",
    "- and its color will be the average of color components of `shape_a.color` and `shape_b.color`.\n",
    "\n",
    "**`DiffShape`**:\n",
    "- it will have as a attribute both input shapes `shape_a` and `shape_b`,\n",
    "- its `.mu()` will compute the set difference between `shape_a.mu()` and `shape_b.mu()` : it will return true on points that belong to `shape_a` but not to `shape_b`\n",
    "- and its color will be the color of a (`shape_a.color`).\n",
    "\n",
    "You will find the template for these three classes inside the file `operators.py`.\n",
    "\n",
    "### Designing a test case for our operations\n",
    "\n",
    "1\\. Use the following lines to create 8 circles, from `circle1` to `circle8`.\n",
    "\n",
    "```python\n",
    "circle1 = Circle(100, 100, 50, (255, 0, 0))\n",
    "circle2 = Circle(150, 100, 50, (0, 0, 255))\n",
    "\n",
    "circle3 = Circle(300, 100, 50, (255, 0, 0))\n",
    "circle4 = Circle(350, 100, 50, (0, 0, 255))\n",
    "\n",
    "circle5 = Circle(100, 300, 50, (255, 0, 0))\n",
    "circle6 = Circle(150, 300, 50, (0, 0, 255))\n",
    "\n",
    "circle7 = Circle(300, 300, 50, (255, 0, 0))\n",
    "circle8 = Circle(350, 300, 50, (0, 0, 255))\n",
    "\n",
    "shapelist = [circle1, circle2,\n",
    "            circle3, circle4,\n",
    "            circle5, circle6,\n",
    "            circle7, circle8]\n",
    "\n",
    "gui.draw(shapelist)\n",
    "```\n",
    "\n",
    "It should display the following result:\n",
    "\n",
    "<img src=\"img/gui_draw_circle12345678.png\" width=320/>"
   ]
  },
  {
   "cell_type": "code",
   "execution_count": 10,
   "metadata": {},
   "outputs": [
    {
     "data": {
      "image/png": "[encoded data removed]",
      "text/plain": [
       "<matplotlib.figure.Figure at 0x7ff75476f5c0>"
      ]
     },
     "metadata": {},
     "output_type": "display_data"
    }
   ],
   "source": [
    "circle1 = Circle(100, 100, 50, (255, 0, 0))\n",
    "circle2 = Circle(150, 100, 50, (0, 0, 255))\n",
    "\n",
    "circle3 = Circle(300, 100, 50, (255, 0, 0))\n",
    "circle4 = Circle(350, 100, 50, (0, 0, 255))\n",
    "\n",
    "circle5 = Circle(100, 300, 50, (255, 0, 0))\n",
    "circle6 = Circle(150, 300, 50, (0, 0, 255))\n",
    "\n",
    "circle7 = Circle(300, 300, 50, (255, 0, 0))\n",
    "circle8 = Circle(350, 300, 50, (0, 0, 255))\n",
    "\n",
    "shape_list = [circle1, circle2,\n",
    "            circle3, circle4,\n",
    "            circle5, circle6,\n",
    "            circle7, circle8]\n",
    "\n",
    "gui.draw(shape_list)"
   ]
  },
  {
   "cell_type": "markdown",
   "metadata": {},
   "source": [
    "You can test your implementation of UnionShape, IntersectionShape and DiffShape using the following segment:\n",
    "\n",
    "```python\n",
    "op12 = UnionShape(circle1, circle2)\n",
    "op34 = IntersectionShape(circle3, circle4)\n",
    "op56 = DiffShape(circle5, circle6)\n",
    "op78 = UnionShape(DiffShape(circle7, circle8), DiffShape(circle8, circle7))\n",
    "\n",
    "shapelist = [op12, op34, op56, op78]\n",
    "\n",
    "gui.draw(shapelist)\n",
    "```\n",
    "\n",
    "With `circle1,...,circle8` defined previously, you should expect the following result:\n",
    "\n",
    "<img src=\"img/gui_draw_op12345678.png\" width=320/>"
   ]
  },
  {
   "cell_type": "code",
   "execution_count": 11,
   "metadata": {},
   "outputs": [
    {
     "ename": "TypeError",
     "evalue": "integer argument expected, got float",
     "output_type": "error",
     "traceback": [
      "\u001b[0;31m---------------------------------------------------------------------------\u001b[0m",
      "\u001b[0;31mTypeError\u001b[0m                                 Traceback (most recent call last)",
      "\u001b[0;32m<ipython-input-11-0cd527a48a1d>\u001b[0m in \u001b[0;36m<module>\u001b[0;34m()\u001b[0m\n\u001b[1;32m     10\u001b[0m \u001b[0mshape_list\u001b[0m \u001b[0;34m=\u001b[0m \u001b[0;34m[\u001b[0m\u001b[0mop12\u001b[0m\u001b[0;34m,\u001b[0m \u001b[0mop34\u001b[0m\u001b[0;34m,\u001b[0m \u001b[0mop56\u001b[0m\u001b[0;34m,\u001b[0m \u001b[0mop78\u001b[0m\u001b[0;34m]\u001b[0m\u001b[0;34m\u001b[0m\u001b[0m\n\u001b[1;32m     11\u001b[0m \u001b[0;34m\u001b[0m\u001b[0m\n\u001b[0;32m---> 12\u001b[0;31m \u001b[0mgui\u001b[0m\u001b[0;34m.\u001b[0m\u001b[0mdraw\u001b[0m\u001b[0;34m(\u001b[0m\u001b[0mshape_list\u001b[0m\u001b[0;34m)\u001b[0m\u001b[0;34m\u001b[0m\u001b[0m\n\u001b[0m",
      "\u001b[0;32m/home/frank/galvanize/gschool/dsi-solns/oop/individual/simplegui.py\u001b[0m in \u001b[0;36mdraw\u001b[0;34m(self, shape_list)\u001b[0m\n\u001b[1;32m    111\u001b[0m                     \u001b[0;32mif\u001b[0m \u001b[0mo\u001b[0m\u001b[0;34m.\u001b[0m\u001b[0mmu\u001b[0m\u001b[0;34m(\u001b[0m\u001b[0mi\u001b[0m\u001b[0;34m,\u001b[0m\u001b[0mj\u001b[0m\u001b[0;34m)\u001b[0m\u001b[0;34m:\u001b[0m\u001b[0;34m\u001b[0m\u001b[0m\n\u001b[1;32m    112\u001b[0m                         \u001b[0;31m# drop a pixel in there, using color of the area\u001b[0m\u001b[0;34m\u001b[0m\u001b[0;34m\u001b[0m\u001b[0m\n\u001b[0;32m--> 113\u001b[0;31m                         \u001b[0mself\u001b[0m\u001b[0;34m.\u001b[0m\u001b[0mpixels\u001b[0m\u001b[0;34m[\u001b[0m\u001b[0mi\u001b[0m\u001b[0;34m,\u001b[0m\u001b[0mj\u001b[0m\u001b[0;34m]\u001b[0m \u001b[0;34m=\u001b[0m \u001b[0mo\u001b[0m\u001b[0;34m.\u001b[0m\u001b[0mcolor\u001b[0m\u001b[0;34m\u001b[0m\u001b[0m\n\u001b[0m\u001b[1;32m    114\u001b[0m \u001b[0;34m\u001b[0m\u001b[0m\n\u001b[1;32m    115\u001b[0m         \u001b[0;31m# systematically show the resulting image\u001b[0m\u001b[0;34m\u001b[0m\u001b[0;34m\u001b[0m\u001b[0m\n",
      "\u001b[0;31mTypeError\u001b[0m: integer argument expected, got float"
     ]
    }
   ],
   "source": [
    "from operators import UnionShape\n",
    "from operators import IntersectionShape\n",
    "from operators import DiffShape\n",
    "\n",
    "op12 = UnionShape(circle1, circle2)\n",
    "op34 = IntersectionShape(circle3, circle4)\n",
    "op56 = DiffShape(circle5, circle6)\n",
    "op78 = UnionShape(DiffShape(circle7, circle8), DiffShape(circle8, circle7))\n",
    "\n",
    "shape_list = [op12, op34, op56, op78]\n",
    "\n",
    "gui.draw(shape_list)"
   ]
  },
  {
   "cell_type": "markdown",
   "metadata": {},
   "source": [
    "# Part 3: creating shape scripts with a shape factory\n",
    "\n",
    "You will now have to create a scripting language for creating beautiful (?) shapes. You will read commands for creatings shapes from a text file. The idea is to parse that file line by line and, for each line, to create the corresponding object.\n",
    "\n",
    "\n",
    "## 3.1. Scripting circles and rectangles\n",
    "\n",
    "1\\. Open file `scripts/shapescript1.txt`:\n",
    "\n",
    "```\n",
    "circle1,circle,100,100,50,255,0,0\n",
    "circle2,circle,150,100,50,0,0,255\n",
    "rectangle1,rectangle,10,50,100,200,255,0,255\n",
    "```\n",
    "\n",
    "Each of these lines contains comma-separated values that code all the information needed to create a shape. We will start by parsing the lines for creating `Circle` and `Rectangle`, providing values depending on the type of the shape:\n",
    "\n",
    "| type | values |\n",
    "| :-: | :-- |\n",
    "| `Circle` | `key,type,x,y,radius,red,green,blue` |\n",
    "| `Rectangle` | `key,type,x1,y1,x2,y2,red,green,blue` |\n",
    "\n",
    "* `key` is intented to be the name of the shape, so that we can store and recall it.\n",
    "* `type` is `'circle'` for creating a `Circle`, `'rectangle'` for creating a `Rectangle`.\n",
    "\n",
    "\n",
    "2\\. In `shapescriptparser.py` you'll find the template of a class `ShapeScriptParser` that will read such a file and create the corresponding shapes (for the moment only circles and rectangles). Use the docstrings in that file to implement the corresponding behavior. When executing it with the following code:\n",
    "\n",
    "```\n",
    "sf = ShapeScriptParser(gui)\n",
    "sf.parse('scripts/shapescript1.txt')\n",
    "sf.draw()\n",
    "```\n",
    "\n",
    "it should display the image below.\n",
    "\n",
    "<img src=\"img/gui_shapescript1.png\" width=320/>\n",
    "\n",
    "<details>\n",
    "  <summary>**Hint/Spoiler Alert**: We would prefer you to try designing that class on your own, but if you feel lost at this point, **click on this** to see a list of steps you could take to design your code.</summary>\n",
    "- Decide what structure you would use as a register to store/remember shapes in `ShapeScriptParser` so that you can recall shapes by their `key` later?<br/>\n",
    "- Add some temporary code in `parse()` that just creates some test shapes like in **Part 1** (no parsing the file at all) and stores them in that register.<br/>\n",
    "- Implement method `draw()` to pull shapes from the register and draws them using `gui`.<br/>\n",
    "- Use the code above to test the general behavior of your register.<br/>\n",
    "<br/>\n",
    "Now you have the necessary environment to test your class. Try to move forward on on your own.\n",
    "</details>\n",
    "\n",
    "<br/>\n",
    "\n",
    "<details>\n",
    "  <summary>**Hint/Spoiler level 2**: If you need assistance for the next steps, **click on this** to see a 2nd list of steps you could take to design your code.</summary>\n",
    "- Implement method `parse()` to call `parse_line()` for every line.<br/>\n",
    "- Implement method `parse_line()` to create `Circle` when 2nd field of the line is `circle`, unpack the rest of the line to obtain arguments necessary to create a `Circle`. If the 2nd field is different from `circle`, print an error message.<br/>\n",
    "- Test that using your `draw()` method.<br/>\n",
    "- Modify the implementation of that function to create a `Rectangle` when the 2nd field is `rectangle`, unpack the arguments specific to a `Rectangle`.\n",
    "</details>"
   ]
  },
  {
   "cell_type": "code",
   "execution_count": null,
   "metadata": {
    "collapsed": true
   },
   "outputs": [],
   "source": [
    "from shapescriptparser import ShapeScriptParser\n",
    "\n",
    "sp = ShapeScriptParser(gui)\n",
    "sp.parse('scripts/shapescript1.txt')\n",
    "sp.draw()"
   ]
  },
  {
   "cell_type": "markdown",
   "metadata": {},
   "source": [
    "## 3.2. Scripting unions, intersections and differences\n",
    "\n",
    "Now we will add some other commands into our script, for handling the creation of `UnionShape`, `IntersectionShape` and `DiffShape`.\n",
    "\n",
    "1\\. Open file `scripts/shapescript2.txt`:\n",
    "\n",
    "```\n",
    "circle1,circle,100,100,50,255,0,0\n",
    "circle2,circle,150,100,50,0,0,255\n",
    "circle3,circle,300,100,50,255,0,0\n",
    "circle4,circle,350,100,50,0,0,255\n",
    "circle5,circle,100,300,50,255,0,0\n",
    "circle6,circle,150,300,50,0,0,255\n",
    "circle7,circle,300,300,50,255,0,0\n",
    "circle8,circle,350,300,50,0,0,255\n",
    "union1,union,circle1,circle2\n",
    "inter2,intersection,circle3,circle4\n",
    "diff1,difference,circle5,circle6\n",
    "diff2,difference,circle7,circle8\n",
    "diff3,difference,circle8,circle7\n",
    "eye,union,diff2,diff3\n",
    "```\n",
    "\n",
    "You will recognize a text version of the test case used in **Part 2**. This time we will add commands for the following types:\n",
    "\n",
    "Each of these lines contains comma-separated values that code all the informations needed to create a shape. We start by circles and rectangles, providing values depending on the type of the shape:\n",
    "\n",
    "| type | values |\n",
    "| :-: | :-- |\n",
    "| `UnionShape` | `key,type,keyA,keyB` |\n",
    "| `IntersectionShape` | `key,type,keyA,keyB` |\n",
    "| `DiffShape` | `key,type,keyA,keyB` |\n",
    "\n",
    "* `key` is intented to be the name of the new shape.\n",
    "* `type` is `'union'` for creating a `UnionShape`, `'intersection'` for creating an `IntersectionShape`, and `'difference'` for creating a `DiffShape`.\n",
    "* `keyA` and `keyB` are the keys to the shapes, previously created, used as arguments to create this union/intersection/difference.\n",
    "\n",
    "2\\. Modify `shapescriptparser.py` and its method `parse_line()` to take into account these three new types of classes. When executing it with the following code:\n",
    "\n",
    "```\n",
    "sf = ShapeScriptParser(gui)\n",
    "sf.parse('scripts/shapescript2.txt')\n",
    "sf.draw()\n",
    "```\n",
    "\n",
    "it should display the image below.\n",
    "\n",
    "<img src=\"img/gui_shapescript2.png\" width=320/>"
   ]
  },
  {
   "cell_type": "code",
   "execution_count": null,
   "metadata": {
    "collapsed": true
   },
   "outputs": [],
   "source": [
    "sp = ShapeScriptParser(gui)\n",
    "sp.parse('scripts/shapescript2.txt')\n",
    "sp.draw()"
   ]
  },
  {
   "cell_type": "markdown",
   "metadata": {},
   "source": [
    "3\\. Use your function against file `'scripts/shapescript3.txt'`, what do you notice?"
   ]
  },
  {
   "cell_type": "code",
   "execution_count": null,
   "metadata": {
    "collapsed": true
   },
   "outputs": [],
   "source": [
    "sp = ShapeScriptParser(gui)\n",
    "sp.parse('scripts/shapescript3.txt')\n",
    "sp.draw()"
   ]
  },
  {
   "cell_type": "markdown",
   "metadata": {},
   "source": [
    "# Extra Credit\n",
    "\n",
    "If you have finished this assignment early, here are a couple of interesting ideas to add to your implementation.\n",
    "\n",
    "## Idea 1: the \"z\" factor\n",
    "\n",
    "Look back at the result obtained in part 2.1 and part 3.2.2 (see images below). Where does this difference come from? What changes should you make to your scripting languages (arguments) and to `ShapeScriptParser` so that these results are identical?\n",
    "\n",
    "| result of part 2 | result of part 3 |\n",
    "| :-: | :-: |\n",
    "| <img src=\"img/gui_draw_op12345678.png\" width=320/> | <img src=\"img/gui_shapescript2.png\" width=320/> |\n",
    "\n",
    "Create a script of your own to test that proposition, and modify `ShapeScriptParser` accordingly.\n",
    "\n",
    "## Idea 2: geometric transformations\n",
    "\n",
    "Design three other classes `Translation`, `Scaling` and `Rotation` that implement these respective mathematical operations.\n",
    "\n",
    "Each would be constructed by taking one input shape, and transforming it according to given parameters. For instance, for `Translation`, use two values `xshift` and `yshift` indicating the vector for translating.\n",
    "\n",
    "Add those classes to your scripting language and have fun creating art of your own !\n",
    "\n",
    "## Idea 3: transparency\n",
    "\n",
    "This idea is fairly simple: \"implement transparency so that a shape can be more or less translucid and we can see through it\". But the implementation requires some thinking and refactoring.\n",
    "\n",
    "Try to imagine how you would do that. In particular, which objects would you need to modify to implement that? Would you need to modify `simplegui.py`? How?"
   ]
  },
  {
   "cell_type": "code",
   "execution_count": null,
   "metadata": {
    "collapsed": true
   },
   "outputs": [],
   "source": []
  }
 ],
 "metadata": {
  "anaconda-cloud": {},
  "kernelspec": {
   "display_name": "Python 3",
   "language": "python",
   "name": "python3"
  },
  "language_info": {
   "codemirror_mode": {
    "name": "ipython",
    "version": 3
   },
   "file_extension": ".py",
   "mimetype": "text/x-python",
   "name": "python",
   "nbconvert_exporter": "python",
   "pygments_lexer": "ipython3",
   "version": "3.6.0"
  }
 },
 "nbformat": 4,
 "nbformat_minor": 1
}
