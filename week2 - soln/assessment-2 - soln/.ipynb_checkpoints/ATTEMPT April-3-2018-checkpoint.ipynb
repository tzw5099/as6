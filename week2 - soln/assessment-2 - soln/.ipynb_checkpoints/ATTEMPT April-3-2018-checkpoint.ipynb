{
 "cells": [
  {
   "cell_type": "markdown",
   "metadata": {
    "ExecuteTime": {
     "end_time": "2018-04-03T10:57:12.552396Z",
     "start_time": "2018-04-03T10:57:12.544341Z"
    }
   },
   "source": [
    "6:58am"
   ]
  },
  {
   "cell_type": "code",
   "execution_count": 31,
   "metadata": {
    "ExecuteTime": {
     "end_time": "2018-04-03T11:21:38.713658Z",
     "start_time": "2018-04-03T11:21:36.753756Z"
    }
   },
   "outputs": [
    {
     "name": "stderr",
     "output_type": "stream",
     "text": [
      "/Users/tomwong/anaconda3/lib/python3.6/site-packages/statsmodels/compat/pandas.py:56: FutureWarning: The pandas.core.datetools module is deprecated and will be removed in a future version. Please use the pandas.tseries module instead.\n",
      "  from pandas.core import datetools\n"
     ]
    }
   ],
   "source": [
    "# COLLAPSE CELL\n",
    "# AMsearch np.v*\n",
    "#x = data['mass']\n",
    "#x?\n",
    "\n",
    "# from jupyterthemes import jtplot\n",
    "# jtplot.style(theme='solarized')\n",
    "# from jupyterlab_table import JSONTable\n",
    "# JSONTable(df)\n",
    "\n",
    "from pprint import pprint\n",
    "import math\n",
    "import statsmodels.stats as sms\n",
    "import statsmodels.api as sm\n",
    "import statsmodels.regression as smr\n",
    "import scipy.stats as stats\n",
    "import pandas as pd\n",
    "import numpy as np\n",
    "import matplotlib.pyplot as plt\n",
    "import seaborn as sns\n",
    "sns.set(color_codes=True)\n",
    "\n",
    "# 04atplotlib inline\n",
    "# %load_ext heat\n",
    "\n",
    "plt.ion()\n",
    "# plt.ioff()\n",
    "\n",
    "# %heat\n",
    "\n",
    "import os \n",
    "# dir_path = os.path.dirname(os.path.realpath(__file__))\n",
    "cwd = os.getcwd()\n",
    "\n",
    "# fig, ax = plt.subplots()\n",
    "# ax.plot(x, y)"
   ]
  },
  {
   "cell_type": "code",
   "execution_count": 8,
   "metadata": {
    "ExecuteTime": {
     "end_time": "2018-04-03T11:03:29.360320Z",
     "start_time": "2018-04-03T11:03:29.342343Z"
    }
   },
   "outputs": [
    {
     "data": {
      "text/plain": [
       "[4, 4, 4, 5, 7]"
      ]
     },
     "execution_count": 8,
     "metadata": {},
     "output_type": "execute_result"
    }
   ],
   "source": [
    "def max_lists(list1, list2):\n",
    "    '''\n",
    "    INPUT: list, list\n",
    "    OUTPUT: list\n",
    "\n",
    "    list1 and list2 have the same length. Return a list which contains the\n",
    "    maximum element of each list for every index.\n",
    "    '''\n",
    "    list3 = []\n",
    "    for x in range(len(list1)):\n",
    "        if list1[x]>list2[x]:\n",
    "            list3.append(list1[x])\n",
    "        else:\n",
    "            list3.append(list2[x])\n",
    "    return list3\n",
    "    \n",
    "\n",
    "        \n",
    "\n",
    "list1 = [2,3,4,5,7]\n",
    "list2 = [4,4,4,4,4]\n",
    "\n",
    "max_lists(list1, list2)"
   ]
  },
  {
   "cell_type": "code",
   "execution_count": 37,
   "metadata": {
    "ExecuteTime": {
     "end_time": "2018-04-03T11:24:01.363893Z",
     "start_time": "2018-04-03T11:24:01.348153Z"
    }
   },
   "outputs": [
    {
     "data": {
      "text/plain": [
       "[1, 4]"
      ]
     },
     "execution_count": 37,
     "metadata": {},
     "output_type": "execute_result"
    }
   ],
   "source": [
    "def get_diagonal(mat):\n",
    "    index_start = mat[0][0]\n",
    "    mat_diag = []\n",
    "    len_mat = len(mat[0])\n",
    "    for x in range(len(mat)):\n",
    "        if len(mat[x]) == len_mat:\n",
    "            mat_diag.append(mat[x][x])\n",
    "        else:\n",
    "            pass\n",
    "    return mat_diag\n",
    "# 0,0\n",
    "# 1,1\n",
    "# 2,2\n",
    "mat = [[1, 2], \n",
    "       [3, 4], \n",
    "       [5, 6, 7]]\n",
    "get_diagonal(mat)"
   ]
  },
  {
   "cell_type": "code",
   "execution_count": 3,
   "metadata": {
    "ExecuteTime": {
     "end_time": "2018-04-03T18:46:27.886829Z",
     "start_time": "2018-04-03T18:46:27.849964Z"
    }
   },
   "outputs": [
    {
     "name": "stdout",
     "output_type": "stream",
     "text": [
      "jack => 4098\n",
      "sape => 4139\n",
      "bill => 24\n",
      "jake => 4\n"
     ]
    },
    {
     "data": {
      "text/plain": [
       "{'bill': 40, 'bob': 4098, 'jack': 4098, 'jake': 11, 'red': 4139, 'sape': 4139}"
      ]
     },
     "execution_count": 3,
     "metadata": {},
     "output_type": "execute_result"
    }
   ],
   "source": [
    "def merge_dictionaries(d1, d2):\n",
    "    '''\n",
    "    INPUT: dictionary, dictionary\n",
    "    OUTPUT: dictionary\n",
    "\n",
    "    Return a new dictionary which contains all the keys from d1 and d2 with\n",
    "    their associated values. If a key is in both dictionaries, the value should\n",
    "    be the sum of the two values.\n",
    "    '''\n",
    "    d3 = {}\n",
    "    both_d1_d2 = list((set(d1).intersection(d2)))\n",
    "    \n",
    "    for (key,val), (k2,v2) in zip(d1.items(), d2.items()):\n",
    "        if any(key in s for s in both_d1_d2):\n",
    "            d3[key] = (d1[key] + d2[key])\n",
    "        else:\n",
    "            d3[key] = val\n",
    "            d3[k2] = v2\n",
    "        print(key, \"=>\", val)        \n",
    "        \n",
    "    return d3\n",
    "\n",
    "    \n",
    "\n",
    "# d1 = {'jack': 4098, 'sape': 4139, 'bill': 24, 'jake': 4}\n",
    "# d2 = {'bob': 4098, 'red': 4139, 'bill': 16, 'jake': 7}\n",
    "\n",
    "merge_dictionaries(d1,d2)\n",
    "\n"
   ]
  },
  {
   "cell_type": "code",
   "execution_count": 66,
   "metadata": {
    "ExecuteTime": {
     "end_time": "2018-04-03T11:41:04.619675Z",
     "start_time": "2018-04-03T11:41:04.614051Z"
    }
   },
   "outputs": [
    {
     "data": {
      "text/plain": [
       "['bill', 'jake']"
      ]
     },
     "execution_count": 66,
     "metadata": {},
     "output_type": "execute_result"
    }
   ],
   "source": [
    "list((set(d1).intersection(d2)))"
   ]
  },
  {
   "cell_type": "code",
   "execution_count": 132,
   "metadata": {
    "ExecuteTime": {
     "end_time": "2018-04-03T12:20:34.614575Z",
     "start_time": "2018-04-03T12:20:34.586900Z"
    }
   },
   "outputs": [
    {
     "ename": "TypeError",
     "evalue": "chr() takes exactly one argument (0 given)",
     "output_type": "error",
     "traceback": [
      "\u001b[0;31m---------------------------------------------------------------------------\u001b[0m",
      "\u001b[0;31mTypeError\u001b[0m                                 Traceback (most recent call last)",
      "\u001b[0;32m<ipython-input-132-320651a75ef4>\u001b[0m in \u001b[0;36m<module>\u001b[0;34m()\u001b[0m\n\u001b[1;32m     12\u001b[0m     \u001b[0;32mpass\u001b[0m\u001b[0;34m\u001b[0m\u001b[0m\n\u001b[1;32m     13\u001b[0m \u001b[0;34m\u001b[0m\u001b[0m\n\u001b[0;32m---> 14\u001b[0;31m \u001b[0mchr\u001b[0m\u001b[0;34m(\u001b[0m\u001b[0;34m)\u001b[0m\u001b[0;34m\u001b[0m\u001b[0m\n\u001b[0m\u001b[1;32m     15\u001b[0m \u001b[0;34m\u001b[0m\u001b[0m\n\u001b[1;32m     16\u001b[0m \u001b[0;34m\u001b[0m\u001b[0m\n",
      "\u001b[0;31mTypeError\u001b[0m: chr() takes exactly one argument (0 given)"
     ]
    }
   ],
   "source": [
    "def make_char_dict(filename):\n",
    "    '''\n",
    "    INPUT: string\n",
    "    OUTPUT: dictionary (string => list)\n",
    "\n",
    "    Given a file containing rows of text, create a dictionary whose keys\n",
    "    are single characters. The value associated with each key is a list of all\n",
    "    the line numbers which start with that letter. The first line should have\n",
    "    line number 1.  Characters which never are the first letter of a line do\n",
    "    not need to be included in your dictionary.\n",
    "    '''\n",
    "    pass\n",
    "\n",
    "\n",
    "\n",
    "level : int, level name, or sequence of such, default None If the axis is a MultiIndex (hierarchical), group by a particular level or levels as_index : boolean, default True\n",
    "\n",
    "For aggregated output, return object with group labels as the index. Only relevant for DataFrame input. as_index=False is effectively “SQL-style” grouped output\n",
    "\n",
    "sort : boolean, default True\n",
    "\n",
    "Sort group keys. Get better performance by turning this off. Note this does not influence the order of observations within each group. groupby preserves the order of rows within each group.\n",
    "\n",
    "group_keys : boolean, default True\n",
    "\n",
    "When calling apply, add group keys to index to identify pieces\n",
    "\n",
    "squeeze : boolean, default False\n",
    "\n",
    "reduce the dimensionality of the return type if possible, otherwise return a consistent type\n",
    "\n",
    "\n",
    "\n"
   ]
  },
  {
   "cell_type": "code",
   "execution_count": 131,
   "metadata": {
    "ExecuteTime": {
     "end_time": "2018-04-03T12:16:54.736154Z",
     "start_time": "2018-04-03T12:16:54.695712Z"
    },
    "collapsed": true,
    "scrolled": true
   },
   "outputs": [],
   "source": [
    "def pandas_add_increase_column(df):\n",
    "    '''\n",
    "    INPUT: DataFrame\n",
    "    OUTPUT: None\n",
    "\n",
    "    Add a column to the DataFrame called 'Increase' which contains the\n",
    "    amount that the median rent increased by from 2011 to 2014.\n",
    "    '''\n",
    "    df['Increase']=((df['med_2014']-df['med_2011'])/df['med_2011'])\n",
    "    return df\n",
    "\n",
    "df = pd.read_csv(\"dsi-assessment-2/data/rent.csv\")\n"
   ]
  },
  {
   "cell_type": "code",
   "execution_count": 130,
   "metadata": {
    "ExecuteTime": {
     "end_time": "2018-04-03T12:16:43.177554Z",
     "start_time": "2018-04-03T12:16:43.170115Z"
    },
    "collapsed": true,
    "scrolled": true
   },
   "outputs": [],
   "source": [
    "def pandas_only_given_state(df, state):\n",
    "    '''\n",
    "    INPUT: DataFrame, string\n",
    "    OUTPUT: DataFrame\n",
    "\n",
    "    Return a new pandas DataFrame which contains the entries for the given\n",
    "    state. Only include these columns:\n",
    "        Neighborhood, City, med_2011, med_2014\n",
    "    '''\n",
    "    df_state=df.where(df['State']==state)\n",
    "    df_state=df_state.dropna()\n",
    "    return df_state\n",
    "\n",
    "state = \"TX\"\n",
    "# pandas_only_given_state(df, state)"
   ]
  },
  {
   "cell_type": "code",
   "execution_count": 129,
   "metadata": {
    "ExecuteTime": {
     "end_time": "2018-04-03T12:16:38.674040Z",
     "start_time": "2018-04-03T12:16:38.667018Z"
    },
    "collapsed": true
   },
   "outputs": [],
   "source": [
    "def pandas_max_rent(df):\n",
    "    '''\n",
    "    INPUT: DataFrame\n",
    "    OUTPUT: DataFrame\n",
    "\n",
    "    Return a new pandas DataFrame which contains every city and the highest\n",
    "    median rent from that city for 2011 and 2014.\n",
    "\n",
    "    Note that city names are not unique and you need to use the state as well\n",
    "    so that Portland, ME and Portland, OR are recognized as different.\n",
    "\n",
    "    Your DataFrame should contain these columns:\n",
    "        City, State, med_2011, med_2014\n",
    "    '''\n",
    "    df_max_rent = (df[['City', 'State', 'med_2011', 'med_2014']]).groupby(by=df['City']).max()\n",
    "    return df_max_rent\n",
    "\n",
    "# pandas_max_rent(df)"
   ]
  },
  {
   "cell_type": "code",
   "execution_count": null,
   "metadata": {
    "ExecuteTime": {
     "end_time": "2018-04-03T12:15:45.948942Z",
     "start_time": "2018-04-03T12:15:45.822247Z"
    },
    "collapsed": true
   },
   "outputs": [],
   "source": []
  },
  {
   "cell_type": "code",
   "execution_count": 2,
   "metadata": {
    "ExecuteTime": {
     "end_time": "2018-04-03T10:57:20.441526Z",
     "start_time": "2018-04-03T10:57:20.358960Z"
    },
    "collapsed": true
   },
   "outputs": [],
   "source": [
    "def max_lists(list1, list2):\n",
    "    '''\n",
    "    INPUT: list, list\n",
    "    OUTPUT: list\n",
    "\n",
    "    list1 and list2 have the same length. Return a list which contains the\n",
    "    maximum element of each list for every index.\n",
    "    '''\n",
    "    pass\n",
    "\n",
    "\n",
    "def get_diagonal(mat):\n",
    "    '''\n",
    "    INPUT: 2 dimensional list\n",
    "    OUTPUT: list\n",
    "\n",
    "    Given a matrix encoded as a 2 dimensional python list, return a list\n",
    "    containing all the values in the diagonal starting at the index 0, 0.\n",
    "\n",
    "    E.g.\n",
    "    mat = [[1, 2], [3, 4], [5, 6]]\n",
    "    | 1  2 |\n",
    "    | 3  4 |\n",
    "    | 5  6 |\n",
    "    get_diagonal(mat) => [1, 4]\n",
    "\n",
    "    You may assume that the matrix is nonempty.\n",
    "    '''\n",
    "    pass\n",
    "\n",
    "\n",
    "def merge_dictionaries(d1, d2):\n",
    "    '''\n",
    "    INPUT: dictionary, dictionary\n",
    "    OUTPUT: dictionary\n",
    "\n",
    "    Return a new dictionary which contains all the keys from d1 and d2 with\n",
    "    their associated values. If a key is in both dictionaries, the value should\n",
    "    be the sum of the two values.\n",
    "    '''\n",
    "    pass\n",
    "\n",
    "\n",
    "def make_char_dict(filename):\n",
    "    '''\n",
    "    INPUT: string\n",
    "    OUTPUT: dictionary (string => list)\n",
    "\n",
    "    Given a file containing rows of text, create a dictionary whose keys\n",
    "    are single characters. The value associated with each key is a list of all\n",
    "    the line numbers which start with that letter. The first line should have\n",
    "    line number 1.  Characters which never are the first letter of a line do\n",
    "    not need to be included in your dictionary.\n",
    "    '''\n",
    "    pass\n",
    "\n",
    "\n",
    "### Pandas\n",
    "# For each of these, you will be dealing with a DataFrame which contains median\n",
    "# rental prices in the US by neighborhood. The DataFrame will have these\n",
    "# columns:\n",
    "# Neighborhood, City, State, med_2011, med_2014\n",
    "\n",
    "def pandas_add_increase_column(df):\n",
    "    '''\n",
    "    INPUT: DataFrame\n",
    "    OUTPUT: None\n",
    "\n",
    "    Add a column to the DataFrame called 'Increase' which contains the\n",
    "    amount that the median rent increased by from 2011 to 2014.\n",
    "    '''\n",
    "    pass\n",
    "\n",
    "\n",
    "def pandas_only_given_state(df, state):\n",
    "    '''\n",
    "    INPUT: DataFrame, string\n",
    "    OUTPUT: DataFrame\n",
    "\n",
    "    Return a new pandas DataFrame which contains the entries for the given\n",
    "    state. Only include these columns:\n",
    "        Neighborhood, City, med_2011, med_2014\n",
    "    '''\n",
    "    pass\n",
    "\n",
    "\n",
    "def pandas_max_rent(df):\n",
    "    '''\n",
    "    INPUT: DataFrame\n",
    "    OUTPUT: DataFrame\n",
    "\n",
    "    Return a new pandas DataFrame which contains every city and the highest\n",
    "    median rent from that city for 2011 and 2014.\n",
    "\n",
    "    Note that city names are not unique and you need to use the state as well\n",
    "    so that Portland, ME and Portland, OR are recognized as different.\n",
    "\n",
    "    Your DataFrame should contain these columns:\n",
    "        City, State, med_2011, med_2014\n",
    "    '''\n",
    "    pass\n",
    "\n",
    "### SQL\n",
    "# For each of these, your python function should return a string that is the\n",
    "# SQL statement which answers the question.\n",
    "# For example:\n",
    "#    return '''SELECT * FROM rent;'''\n",
    "# You may want to run \"sqlite3 data/housing.sqlite\" in the command line to test\n",
    "# out your queries if the test is failing.\n",
    "#\n",
    "# There are two tables in the database with these columns:\n",
    "# (this is the same data that you dealt with in the pandas questions)\n",
    "#     rent: Neighborhood, City, State, med_2011, med_2014\n",
    "#     buy:  Neighborhood, City, State, med_2011, med_2014\n",
    "# The values in the date columns are integers corresponding to the price on\n",
    "# that date.\n",
    "\n",
    "def sql_count_neighborhoods():\n",
    "    '''\n",
    "    INPUT: None\n",
    "    OUTPUT: string\n",
    "\n",
    "    Return a SQL query that gives the number of neighborhoods in each city\n",
    "    according to the rent table. Keep in mind that city names are not always\n",
    "    unique unless you include the state as well, so your result should have\n",
    "    these columns (though you do not need to name them): city, state, cnt\n",
    "    '''\n",
    "    pass\n",
    "\n",
    "\n",
    "def sql_highest_rent_increase():\n",
    "    '''\n",
    "    INPUT: None\n",
    "    OUTPUT: string\n",
    "\n",
    "    Return a SQL query that gives the 5 San Francisco neighborhoods with the\n",
    "    highest rent increase.\n",
    "    '''\n",
    "    pass\n",
    "\n",
    "\n",
    "def sql_rent_and_buy():\n",
    "    '''\n",
    "    INPUT: None\n",
    "    OUTPUT: string\n",
    "\n",
    "    Return a SQL query that gives the rent price and buying price for 2014 for\n",
    "    all the neighborhoods in San Francisco.\n",
    "    Your result should have these columns (though you do not need to name\n",
    "    them): neighborhood, rent, buy\n",
    "    '''\n",
    "    pass\n"
   ]
  },
  {
   "cell_type": "code",
   "execution_count": null,
   "metadata": {
    "collapsed": true
   },
   "outputs": [],
   "source": []
  }
 ],
 "metadata": {
  "kernelspec": {
   "display_name": "Python 3",
   "language": "python",
   "name": "python3"
  },
  "language_info": {
   "codemirror_mode": {
    "name": "ipython",
    "version": 3
   },
   "file_extension": ".py",
   "mimetype": "text/x-python",
   "name": "python",
   "nbconvert_exporter": "python",
   "pygments_lexer": "ipython3",
   "version": "3.6.3"
  },
  "varInspector": {
   "cols": {
    "lenName": 16,
    "lenType": 16,
    "lenVar": 40
   },
   "kernels_config": {
    "python": {
     "delete_cmd_postfix": "",
     "delete_cmd_prefix": "del ",
     "library": "var_list.py",
     "varRefreshCmd": "print(var_dic_list())"
    },
    "r": {
     "delete_cmd_postfix": ") ",
     "delete_cmd_prefix": "rm(",
     "library": "var_list.r",
     "varRefreshCmd": "cat(var_dic_list()) "
    }
   },
   "types_to_exclude": [
    "module",
    "function",
    "builtin_function_or_method",
    "instance",
    "_Feature"
   ],
   "window_display": false
  }
 },
 "nbformat": 4,
 "nbformat_minor": 2
}
